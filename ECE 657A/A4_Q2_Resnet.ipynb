{
  "nbformat": 4,
  "nbformat_minor": 0,
  "metadata": {
    "colab": {
      "name": "A4_Q2_Resnet.ipynb",
      "provenance": [],
      "collapsed_sections": []
    },
    "kernelspec": {
      "name": "python3",
      "display_name": "Python 3"
    },
    "language_info": {
      "name": "python"
    },
    "accelerator": "GPU"
  },
  "cells": [
    {
      "cell_type": "code",
      "metadata": {
        "colab": {
          "base_uri": "https://localhost:8080/"
        },
        "id": "rYZZVqeS-qVN",
        "outputId": "e7978fd1-c881-4881-fb1b-2d3fd4150d47"
      },
      "source": [
        "%tensorflow_version 2.x\n",
        "import tensorflow as tf\n",
        "device_name = tf.test.gpu_device_name()\n",
        "if device_name != '/device:GPU:0':\n",
        "  raise SystemError('GPU device not found')\n",
        "print('Found GPU at: {}'.format(device_name))"
      ],
      "execution_count": null,
      "outputs": [
        {
          "output_type": "stream",
          "text": [
            "Found GPU at: /device:GPU:0\n"
          ],
          "name": "stdout"
        }
      ]
    },
    {
      "cell_type": "code",
      "metadata": {
        "id": "9c3CNZ9dJKqD"
      },
      "source": [
        "import pandas as pd\n",
        "import numpy as np\n",
        "\n",
        "import tensorflow as tf\n",
        "from tensorflow import keras\n",
        "from tensorflow.keras import layers, models\n",
        "from keras.models import Sequential\n",
        "from keras.layers import Dense, Conv2D, BatchNormalization, Activation\n",
        "from keras.layers import MaxPooling2D, AveragePooling2D, Input, Flatten\n",
        "from keras.optimizers import Adam\n",
        "from keras.callbacks import ModelCheckpoint, ReduceLROnPlateau\n",
        "from keras.preprocessing.image import ImageDataGenerator\n",
        "from keras.regularizers import l2\n",
        "from keras import backend as K\n",
        "from keras.models import Model\n",
        "import numpy as np\n",
        "import os\n",
        "import pandas as pd\n",
        "import matplotlib.pyplot as plt\n",
        "%matplotlib inline"
      ],
      "execution_count": null,
      "outputs": []
    },
    {
      "cell_type": "code",
      "metadata": {
        "colab": {
          "base_uri": "https://localhost:8080/"
        },
        "id": "tfURh56Bg4fs",
        "outputId": "ce5a9ce9-081b-4879-86a0-66f340fbd606"
      },
      "source": [
        "print(tf.version)\n",
        "print(tf.keras.__version__)"
      ],
      "execution_count": null,
      "outputs": [
        {
          "output_type": "stream",
          "text": [
            "<module 'tensorflow._api.v2.version' from '/usr/local/lib/python3.7/dist-packages/tensorflow/_api/v2/version/__init__.py'>\n",
            "2.4.0\n"
          ],
          "name": "stdout"
        }
      ]
    },
    {
      "cell_type": "code",
      "metadata": {
        "colab": {
          "base_uri": "https://localhost:8080/"
        },
        "id": "Jy8Ifyy9J0NF",
        "outputId": "4eee3ea7-cb1f-45f0-adbe-a132cc7c949e"
      },
      "source": [
        "from google.colab import drive\n",
        "drive.mount('/content/drive')"
      ],
      "execution_count": null,
      "outputs": [
        {
          "output_type": "stream",
          "text": [
            "Mounted at /content/drive\n"
          ],
          "name": "stdout"
        }
      ]
    },
    {
      "cell_type": "code",
      "metadata": {
        "colab": {
          "base_uri": "https://localhost:8080/"
        },
        "id": "KMM9CQdhJ4Bh",
        "outputId": "d083a1c2-5aa7-4dea-afd0-bf4da78af9bf"
      },
      "source": [
        "%cd '/content/drive/My Drive/Colab Notebooks'\n"
      ],
      "execution_count": null,
      "outputs": [
        {
          "output_type": "stream",
          "text": [
            "/content/drive/My Drive/Colab Notebooks\n"
          ],
          "name": "stdout"
        }
      ]
    },
    {
      "cell_type": "code",
      "metadata": {
        "id": "_nau-vXtMLVG"
      },
      "source": [
        "# load numpy array from npy file\n",
        "from numpy import load\n",
        "# load array\n",
        "data = load('fmnist_train.npy', allow_pickle=True).item()\n",
        "testdata = load('fmnist_test.npy', allow_pickle=True).item()"
      ],
      "execution_count": null,
      "outputs": []
    },
    {
      "cell_type": "code",
      "metadata": {
        "id": "FPFUR_-LOpNl"
      },
      "source": [
        "x_train1 = data['features'].reshape([60000, 28*28])\n",
        "y_train1 = data['target'].astype(int) - 1\n",
        "\n",
        "x_test1 = testdata['features'].reshape([10000, 28*28])"
      ],
      "execution_count": null,
      "outputs": []
    },
    {
      "cell_type": "code",
      "metadata": {
        "id": "iVo3GqHkj8fq"
      },
      "source": [
        "# split the training data into train and validate arrays (will be used later)\n",
        "from sklearn.model_selection import train_test_split\n",
        "\n",
        "x_train, x_validate, y_train, y_validate = train_test_split(\n",
        "    x_train1, y_train1, test_size=0.4, random_state=12345,\n",
        ")\n",
        "\n",
        "x_test, x_validate, y_test, y_validate = train_test_split(\n",
        "    x_validate, y_validate, test_size=0.5, random_state=12345,\n",
        ")"
      ],
      "execution_count": null,
      "outputs": []
    },
    {
      "cell_type": "code",
      "metadata": {
        "id": "0SOd8C2ukMf4",
        "colab": {
          "base_uri": "https://localhost:8080/",
          "height": 265
        },
        "outputId": "7e8cd02b-0f6c-4e2a-f730-615ef5c3a7b3"
      },
      "source": [
        "# lets see what the images look like\n",
        "image = x_train[500, :].reshape((28, 28))\n",
        "\n",
        "plt.imshow(image)\n",
        "plt.show()"
      ],
      "execution_count": null,
      "outputs": [
        {
          "output_type": "display_data",
          "data": {
            "image/png": "[encoded data removed]",
            "text/plain": [
              "<Figure size 432x288 with 1 Axes>"
            ]
          },
          "metadata": {
            "tags": [],
            "needs_background": "light"
          }
        }
      ]
    },
    {
      "cell_type": "markdown",
      "metadata": {
        "id": "FhI8goyYkhPT"
      },
      "source": [
        "## Create the CNN\n",
        "\n",
        "*   Define the model\n",
        "* Compile the model\n",
        "* Fit the model\n",
        "\n"
      ]
    },
    {
      "cell_type": "code",
      "metadata": {
        "id": "LqKQIQk-kytl",
        "colab": {
          "base_uri": "https://localhost:8080/"
        },
        "outputId": "ff17b3c4-e44f-4509-aecb-45c949665a51"
      },
      "source": [
        "im_rows = 28\n",
        "im_cols = 28\n",
        "batch_size = 512\n",
        "im_shape = (im_rows, im_cols, 1)\n",
        "\n",
        "x_train = x_train.reshape(x_train.shape[0], *im_shape)\n",
        "x_test = x_test.reshape(x_test.shape[0], *im_shape)\n",
        "x_validate = x_validate.reshape(x_validate.shape[0], *im_shape)\n",
        "\n",
        "print('x_train shape: {}'.format(x_train.shape))\n",
        "print('x_test shape: {}'.format(x_test.shape))\n",
        "print('x_validate shape: {}'.format(x_validate.shape))\n"
      ],
      "execution_count": null,
      "outputs": [
        {
          "output_type": "stream",
          "text": [
            "x_train shape: (36000, 28, 28, 1)\n",
            "x_test shape: (12000, 28, 28, 1)\n",
            "x_validate shape: (12000, 28, 28, 1)\n"
          ],
          "name": "stdout"
        }
      ]
    },
    {
      "cell_type": "code",
      "metadata": {
        "id": "1d81JZtBAZ4t"
      },
      "source": [
        "#Defining constants\n",
        "epochs = 50\n",
        "batch_size = 512\n",
        "data_augmentation = False\n",
        "img_size = 28\n",
        "\n",
        "num_classes = 5\n",
        "num_filters = 64\n",
        "num_blocks = 4\n",
        "num_sub_blocks = 2\n",
        "use_max_pool = False"
      ],
      "execution_count": null,
      "outputs": []
    },
    {
      "cell_type": "code",
      "metadata": {
        "colab": {
          "base_uri": "https://localhost:8080/"
        },
        "id": "ixfZ9OBeVSqX",
        "outputId": "e800dfe9-54bf-4fdf-82e0-5c2ca799f080"
      },
      "source": [
        "#Creating model based on ResNet published archietecture\n",
        "inputs = Input(shape=im_shape)\n",
        "x = Conv2D(num_filters, padding='same', \n",
        "           kernel_initializer='he_normal', \n",
        "           kernel_size=7, strides=2,\n",
        "           kernel_regularizer=l2(1e-4))(inputs)\n",
        "x = BatchNormalization()(x)\n",
        "x = Activation('relu')(x)\n",
        "\n",
        "#Check by applying max pooling later (setting it false as size of image is small i.e. 28x28)\n",
        "if use_max_pool:\n",
        "    x = MaxPooling2D(pool_size=3,padding='same', strides=2)(x)\n",
        "    num_blocks =3\n",
        "#Creating Conv base stack \n",
        "\n",
        "# Instantiate convolutional base (stack of blocks).\n",
        "for i in range(num_blocks):\n",
        "    for j in range(num_sub_blocks):\n",
        "        strides = 1\n",
        "        is_first_layer_but_not_first_block = j == 0 and i > 0\n",
        "        if is_first_layer_but_not_first_block:\n",
        "            strides = 2\n",
        "        #Creating residual mapping using y\n",
        "        y = Conv2D(num_filters,\n",
        "                   kernel_size=3,\n",
        "                   padding='same',\n",
        "                   strides=strides,\n",
        "                   kernel_initializer='he_normal',\n",
        "                   kernel_regularizer=l2(1e-4))(x)   \n",
        "        y = BatchNormalization()(y)\n",
        "        y = Activation('relu')(y)\n",
        "        y = Conv2D(num_filters,\n",
        "                   kernel_size=3,\n",
        "                   padding='same',\n",
        "                   kernel_initializer='he_normal',\n",
        "                   kernel_regularizer=l2(1e-4))(y)\n",
        "        y = BatchNormalization()(y)\n",
        "        if is_first_layer_but_not_first_block:\n",
        "            x = Conv2D(num_filters,\n",
        "                       kernel_size=1,\n",
        "                       padding='same',\n",
        "                       strides=2,\n",
        "                       kernel_initializer='he_normal',\n",
        "                       kernel_regularizer=l2(1e-4))(x)\n",
        "        #Adding back residual mapping\n",
        "        x = keras.layers.add([x, y])\n",
        "        x = Activation('relu')(x)\n",
        "\n",
        "    num_filters = 2 * num_filters\n",
        "\n",
        "# Add classifier on top.\n",
        "x = AveragePooling2D()(x)\n",
        "y = Flatten()(x)\n",
        "outputs = Dense(num_classes,\n",
        "                activation='softmax',\n",
        "                kernel_initializer='he_normal')(y)\n",
        "\n",
        "# Instantiate and compile model.\n",
        "model = Model(inputs=inputs, outputs=outputs)\n",
        "model.compile(loss='sparse_categorical_crossentropy',\n",
        "              optimizer=Adam(),\n",
        "              metrics=['accuracy'])\n",
        "model.summary()"
      ],
      "execution_count": null,
      "outputs": [
        {
          "output_type": "stream",
          "text": [
            "Model: \"model\"\n",
            "__________________________________________________________________________________________________\n",
            "Layer (type)                    Output Shape         Param #     Connected to                     \n",
            "==================================================================================================\n",
            "input_1 (InputLayer)            [(None, 28, 28, 1)]  0                                            \n",
            "__________________________________________________________________________________________________\n",
            "conv2d (Conv2D)                 (None, 14, 14, 64)   3200        input_1[0][0]                    \n",
            "__________________________________________________________________________________________________\n",
            "batch_normalization (BatchNorma (None, 14, 14, 64)   256         conv2d[0][0]                     \n",
            "__________________________________________________________________________________________________\n",
            "activation (Activation)         (None, 14, 14, 64)   0           batch_normalization[0][0]        \n",
            "__________________________________________________________________________________________________\n",
            "conv2d_1 (Conv2D)               (None, 14, 14, 64)   36928       activation[0][0]                 \n",
            "__________________________________________________________________________________________________\n",
            "batch_normalization_1 (BatchNor (None, 14, 14, 64)   256         conv2d_1[0][0]                   \n",
            "__________________________________________________________________________________________________\n",
            "activation_1 (Activation)       (None, 14, 14, 64)   0           batch_normalization_1[0][0]      \n",
            "__________________________________________________________________________________________________\n",
            "conv2d_2 (Conv2D)               (None, 14, 14, 64)   36928       activation_1[0][0]               \n",
            "__________________________________________________________________________________________________\n",
            "batch_normalization_2 (BatchNor (None, 14, 14, 64)   256         conv2d_2[0][0]                   \n",
            "__________________________________________________________________________________________________\n",
            "add (Add)                       (None, 14, 14, 64)   0           activation[0][0]                 \n",
            "                                                                 batch_normalization_2[0][0]      \n",
            "__________________________________________________________________________________________________\n",
            "activation_2 (Activation)       (None, 14, 14, 64)   0           add[0][0]                        \n",
            "__________________________________________________________________________________________________\n",
            "conv2d_3 (Conv2D)               (None, 14, 14, 64)   36928       activation_2[0][0]               \n",
            "__________________________________________________________________________________________________\n",
            "batch_normalization_3 (BatchNor (None, 14, 14, 64)   256         conv2d_3[0][0]                   \n",
            "__________________________________________________________________________________________________\n",
            "activation_3 (Activation)       (None, 14, 14, 64)   0           batch_normalization_3[0][0]      \n",
            "__________________________________________________________________________________________________\n",
            "conv2d_4 (Conv2D)               (None, 14, 14, 64)   36928       activation_3[0][0]               \n",
            "__________________________________________________________________________________________________\n",
            "batch_normalization_4 (BatchNor (None, 14, 14, 64)   256         conv2d_4[0][0]                   \n",
            "__________________________________________________________________________________________________\n",
            "add_1 (Add)                     (None, 14, 14, 64)   0           activation_2[0][0]               \n",
            "                                                                 batch_normalization_4[0][0]      \n",
            "__________________________________________________________________________________________________\n",
            "activation_4 (Activation)       (None, 14, 14, 64)   0           add_1[0][0]                      \n",
            "__________________________________________________________________________________________________\n",
            "conv2d_5 (Conv2D)               (None, 7, 7, 128)    73856       activation_4[0][0]               \n",
            "__________________________________________________________________________________________________\n",
            "batch_normalization_5 (BatchNor (None, 7, 7, 128)    512         conv2d_5[0][0]                   \n",
            "__________________________________________________________________________________________________\n",
            "activation_5 (Activation)       (None, 7, 7, 128)    0           batch_normalization_5[0][0]      \n",
            "__________________________________________________________________________________________________\n",
            "conv2d_6 (Conv2D)               (None, 7, 7, 128)    147584      activation_5[0][0]               \n",
            "__________________________________________________________________________________________________\n",
            "conv2d_7 (Conv2D)               (None, 7, 7, 128)    8320        activation_4[0][0]               \n",
            "__________________________________________________________________________________________________\n",
            "batch_normalization_6 (BatchNor (None, 7, 7, 128)    512         conv2d_6[0][0]                   \n",
            "__________________________________________________________________________________________________\n",
            "add_2 (Add)                     (None, 7, 7, 128)    0           conv2d_7[0][0]                   \n",
            "                                                                 batch_normalization_6[0][0]      \n",
            "__________________________________________________________________________________________________\n",
            "activation_6 (Activation)       (None, 7, 7, 128)    0           add_2[0][0]                      \n",
            "__________________________________________________________________________________________________\n",
            "conv2d_8 (Conv2D)               (None, 7, 7, 128)    147584      activation_6[0][0]               \n",
            "__________________________________________________________________________________________________\n",
            "batch_normalization_7 (BatchNor (None, 7, 7, 128)    512         conv2d_8[0][0]                   \n",
            "__________________________________________________________________________________________________\n",
            "activation_7 (Activation)       (None, 7, 7, 128)    0           batch_normalization_7[0][0]      \n",
            "__________________________________________________________________________________________________\n",
            "conv2d_9 (Conv2D)               (None, 7, 7, 128)    147584      activation_7[0][0]               \n",
            "__________________________________________________________________________________________________\n",
            "batch_normalization_8 (BatchNor (None, 7, 7, 128)    512         conv2d_9[0][0]                   \n",
            "__________________________________________________________________________________________________\n",
            "add_3 (Add)                     (None, 7, 7, 128)    0           activation_6[0][0]               \n",
            "                                                                 batch_normalization_8[0][0]      \n",
            "__________________________________________________________________________________________________\n",
            "activation_8 (Activation)       (None, 7, 7, 128)    0           add_3[0][0]                      \n",
            "__________________________________________________________________________________________________\n",
            "conv2d_10 (Conv2D)              (None, 4, 4, 256)    295168      activation_8[0][0]               \n",
            "__________________________________________________________________________________________________\n",
            "batch_normalization_9 (BatchNor (None, 4, 4, 256)    1024        conv2d_10[0][0]                  \n",
            "__________________________________________________________________________________________________\n",
            "activation_9 (Activation)       (None, 4, 4, 256)    0           batch_normalization_9[0][0]      \n",
            "__________________________________________________________________________________________________\n",
            "conv2d_11 (Conv2D)              (None, 4, 4, 256)    590080      activation_9[0][0]               \n",
            "__________________________________________________________________________________________________\n",
            "conv2d_12 (Conv2D)              (None, 4, 4, 256)    33024       activation_8[0][0]               \n",
            "__________________________________________________________________________________________________\n",
            "batch_normalization_10 (BatchNo (None, 4, 4, 256)    1024        conv2d_11[0][0]                  \n",
            "__________________________________________________________________________________________________\n",
            "add_4 (Add)                     (None, 4, 4, 256)    0           conv2d_12[0][0]                  \n",
            "                                                                 batch_normalization_10[0][0]     \n",
            "__________________________________________________________________________________________________\n",
            "activation_10 (Activation)      (None, 4, 4, 256)    0           add_4[0][0]                      \n",
            "__________________________________________________________________________________________________\n",
            "conv2d_13 (Conv2D)              (None, 4, 4, 256)    590080      activation_10[0][0]              \n",
            "__________________________________________________________________________________________________\n",
            "batch_normalization_11 (BatchNo (None, 4, 4, 256)    1024        conv2d_13[0][0]                  \n",
            "__________________________________________________________________________________________________\n",
            "activation_11 (Activation)      (None, 4, 4, 256)    0           batch_normalization_11[0][0]     \n",
            "__________________________________________________________________________________________________\n",
            "conv2d_14 (Conv2D)              (None, 4, 4, 256)    590080      activation_11[0][0]              \n",
            "__________________________________________________________________________________________________\n",
            "batch_normalization_12 (BatchNo (None, 4, 4, 256)    1024        conv2d_14[0][0]                  \n",
            "__________________________________________________________________________________________________\n",
            "add_5 (Add)                     (None, 4, 4, 256)    0           activation_10[0][0]              \n",
            "                                                                 batch_normalization_12[0][0]     \n",
            "__________________________________________________________________________________________________\n",
            "activation_12 (Activation)      (None, 4, 4, 256)    0           add_5[0][0]                      \n",
            "__________________________________________________________________________________________________\n",
            "conv2d_15 (Conv2D)              (None, 2, 2, 512)    1180160     activation_12[0][0]              \n",
            "__________________________________________________________________________________________________\n",
            "batch_normalization_13 (BatchNo (None, 2, 2, 512)    2048        conv2d_15[0][0]                  \n",
            "__________________________________________________________________________________________________\n",
            "activation_13 (Activation)      (None, 2, 2, 512)    0           batch_normalization_13[0][0]     \n",
            "__________________________________________________________________________________________________\n",
            "conv2d_16 (Conv2D)              (None, 2, 2, 512)    2359808     activation_13[0][0]              \n",
            "__________________________________________________________________________________________________\n",
            "conv2d_17 (Conv2D)              (None, 2, 2, 512)    131584      activation_12[0][0]              \n",
            "__________________________________________________________________________________________________\n",
            "batch_normalization_14 (BatchNo (None, 2, 2, 512)    2048        conv2d_16[0][0]                  \n",
            "__________________________________________________________________________________________________\n",
            "add_6 (Add)                     (None, 2, 2, 512)    0           conv2d_17[0][0]                  \n",
            "                                                                 batch_normalization_14[0][0]     \n",
            "__________________________________________________________________________________________________\n",
            "activation_14 (Activation)      (None, 2, 2, 512)    0           add_6[0][0]                      \n",
            "__________________________________________________________________________________________________\n",
            "conv2d_18 (Conv2D)              (None, 2, 2, 512)    2359808     activation_14[0][0]              \n",
            "__________________________________________________________________________________________________\n",
            "batch_normalization_15 (BatchNo (None, 2, 2, 512)    2048        conv2d_18[0][0]                  \n",
            "__________________________________________________________________________________________________\n",
            "activation_15 (Activation)      (None, 2, 2, 512)    0           batch_normalization_15[0][0]     \n",
            "__________________________________________________________________________________________________\n",
            "conv2d_19 (Conv2D)              (None, 2, 2, 512)    2359808     activation_15[0][0]              \n",
            "__________________________________________________________________________________________________\n",
            "batch_normalization_16 (BatchNo (None, 2, 2, 512)    2048        conv2d_19[0][0]                  \n",
            "__________________________________________________________________________________________________\n",
            "add_7 (Add)                     (None, 2, 2, 512)    0           activation_14[0][0]              \n",
            "                                                                 batch_normalization_16[0][0]     \n",
            "__________________________________________________________________________________________________\n",
            "activation_16 (Activation)      (None, 2, 2, 512)    0           add_7[0][0]                      \n",
            "__________________________________________________________________________________________________\n",
            "average_pooling2d (AveragePooli (None, 1, 1, 512)    0           activation_16[0][0]              \n",
            "__________________________________________________________________________________________________\n",
            "flatten (Flatten)               (None, 512)          0           average_pooling2d[0][0]          \n",
            "__________________________________________________________________________________________________\n",
            "dense (Dense)                   (None, 5)            2565        flatten[0][0]                    \n",
            "==================================================================================================\n",
            "Total params: 11,183,621\n",
            "Trainable params: 11,175,813\n",
            "Non-trainable params: 7,808\n",
            "__________________________________________________________________________________________________\n"
          ],
          "name": "stdout"
        }
      ]
    },
    {
      "cell_type": "code",
      "metadata": {
        "colab": {
          "base_uri": "https://localhost:8080/"
        },
        "id": "cceYGISlZV8O",
        "outputId": "b2e3f9a5-64c7-4eed-f841-d2853d18483a"
      },
      "source": [
        "import os\n",
        "save_dir = os.path.join(os.getcwd(), 'saved_model')\n",
        "model_name = 'fmnist_resnet_model.h5'\n",
        "if not os.path.isdir(save_dir):\n",
        "    os.makedirs(save_dir)\n",
        "filepath = os.path.join(save_dir,model_name)\n",
        "print(filepath)\n",
        "\n",
        "# Prepare callbacks for model saving and for learning rate decaying.\n",
        "checkpoint = ModelCheckpoint(filepath=filepath,\n",
        "                             verbose=1,\n",
        "                             save_best_only=True)\n",
        "lr_reducer = ReduceLROnPlateau(factor=np.sqrt(0.1),\n",
        "                               cooldown=0,\n",
        "                               patience=5,\n",
        "                               min_lr=0.5e-6)\n",
        "callbacks = [checkpoint, lr_reducer]\n"
      ],
      "execution_count": null,
      "outputs": [
        {
          "output_type": "stream",
          "text": [
            "/content/drive/My Drive/Colab Notebooks/saved_model/fmnist_resnet_model.h5\n"
          ],
          "name": "stdout"
        }
      ]
    },
    {
      "cell_type": "code",
      "metadata": {
        "colab": {
          "base_uri": "https://localhost:8080/"
        },
        "id": "A4Nu68VECldv",
        "outputId": "9cfcb8d0-cc80-41a2-e65b-859cfa9d46fc"
      },
      "source": [
        "model.fit(x_train, y_train,\n",
        "              batch_size=batch_size,\n",
        "              epochs=50,\n",
        "              validation_data=(x_validate, y_validate),\n",
        "              shuffle=True,\n",
        "              callbacks=callbacks)"
      ],
      "execution_count": null,
      "outputs": [
        {
          "output_type": "stream",
          "text": [
            "Epoch 1/50\n",
            "71/71 [==============================] - 48s 158ms/step - loss: 2.3405 - accuracy: 0.6620 - val_loss: 6.3177 - val_accuracy: 0.4294\n",
            "\n",
            "Epoch 00001: val_loss improved from inf to 6.31771, saving model to /content/drive/My Drive/Colab Notebooks/saved_model/fmnist_resnet_model.h5\n",
            "Epoch 2/50\n",
            "71/71 [==============================] - 9s 127ms/step - loss: 1.2081 - accuracy: 0.8830 - val_loss: 2.3033 - val_accuracy: 0.6620\n",
            "\n",
            "Epoch 00002: val_loss improved from 6.31771 to 2.30327, saving model to /content/drive/My Drive/Colab Notebooks/saved_model/fmnist_resnet_model.h5\n",
            "Epoch 3/50\n",
            "71/71 [==============================] - 9s 128ms/step - loss: 1.0622 - accuracy: 0.9125 - val_loss: 1.4949 - val_accuracy: 0.7708\n",
            "\n",
            "Epoch 00003: val_loss improved from 2.30327 to 1.49494, saving model to /content/drive/My Drive/Colab Notebooks/saved_model/fmnist_resnet_model.h5\n",
            "Epoch 4/50\n",
            "71/71 [==============================] - 9s 129ms/step - loss: 1.0020 - accuracy: 0.9114 - val_loss: 1.0890 - val_accuracy: 0.8621\n",
            "\n",
            "Epoch 00004: val_loss improved from 1.49494 to 1.08901, saving model to /content/drive/My Drive/Colab Notebooks/saved_model/fmnist_resnet_model.h5\n",
            "Epoch 5/50\n",
            "71/71 [==============================] - 9s 130ms/step - loss: 0.8846 - accuracy: 0.9358 - val_loss: 1.0171 - val_accuracy: 0.8788\n",
            "\n",
            "Epoch 00005: val_loss improved from 1.08901 to 1.01707, saving model to /content/drive/My Drive/Colab Notebooks/saved_model/fmnist_resnet_model.h5\n",
            "Epoch 6/50\n",
            "71/71 [==============================] - 9s 130ms/step - loss: 0.8082 - accuracy: 0.9475 - val_loss: 1.0466 - val_accuracy: 0.8552\n",
            "\n",
            "Epoch 00006: val_loss did not improve from 1.01707\n",
            "Epoch 7/50\n",
            "71/71 [==============================] - 9s 131ms/step - loss: 0.7663 - accuracy: 0.9453 - val_loss: 1.0011 - val_accuracy: 0.8643\n",
            "\n",
            "Epoch 00007: val_loss improved from 1.01707 to 1.00111, saving model to /content/drive/My Drive/Colab Notebooks/saved_model/fmnist_resnet_model.h5\n",
            "Epoch 8/50\n",
            "71/71 [==============================] - 9s 132ms/step - loss: 0.7010 - accuracy: 0.9576 - val_loss: 1.2491 - val_accuracy: 0.8225\n",
            "\n",
            "Epoch 00008: val_loss did not improve from 1.00111\n",
            "Epoch 9/50\n",
            "71/71 [==============================] - 9s 132ms/step - loss: 0.6427 - accuracy: 0.9663 - val_loss: 0.9660 - val_accuracy: 0.8667\n",
            "\n",
            "Epoch 00009: val_loss improved from 1.00111 to 0.96599, saving model to /content/drive/My Drive/Colab Notebooks/saved_model/fmnist_resnet_model.h5\n",
            "Epoch 10/50\n",
            "71/71 [==============================] - 9s 132ms/step - loss: 0.6162 - accuracy: 0.9643 - val_loss: 0.8770 - val_accuracy: 0.8874\n",
            "\n",
            "Epoch 00010: val_loss improved from 0.96599 to 0.87705, saving model to /content/drive/My Drive/Colab Notebooks/saved_model/fmnist_resnet_model.h5\n",
            "Epoch 11/50\n",
            "71/71 [==============================] - 9s 133ms/step - loss: 0.5812 - accuracy: 0.9693 - val_loss: 1.1454 - val_accuracy: 0.8310\n",
            "\n",
            "Epoch 00011: val_loss did not improve from 0.87705\n",
            "Epoch 12/50\n",
            "71/71 [==============================] - 9s 133ms/step - loss: 0.5409 - accuracy: 0.9744 - val_loss: 1.4000 - val_accuracy: 0.7992\n",
            "\n",
            "Epoch 00012: val_loss did not improve from 0.87705\n",
            "Epoch 13/50\n",
            "71/71 [==============================] - 9s 133ms/step - loss: 0.5330 - accuracy: 0.9665 - val_loss: 0.8314 - val_accuracy: 0.8791\n",
            "\n",
            "Epoch 00013: val_loss improved from 0.87705 to 0.83141, saving model to /content/drive/My Drive/Colab Notebooks/saved_model/fmnist_resnet_model.h5\n",
            "Epoch 14/50\n",
            "71/71 [==============================] - 9s 133ms/step - loss: 0.5092 - accuracy: 0.9692 - val_loss: 0.9387 - val_accuracy: 0.8573\n",
            "\n",
            "Epoch 00014: val_loss did not improve from 0.83141\n",
            "Epoch 15/50\n",
            "71/71 [==============================] - 9s 133ms/step - loss: 0.4847 - accuracy: 0.9733 - val_loss: 0.8498 - val_accuracy: 0.8792\n",
            "\n",
            "Epoch 00015: val_loss did not improve from 0.83141\n",
            "Epoch 16/50\n",
            "71/71 [==============================] - 9s 133ms/step - loss: 0.4525 - accuracy: 0.9781 - val_loss: 0.9153 - val_accuracy: 0.8627\n",
            "\n",
            "Epoch 00016: val_loss did not improve from 0.83141\n",
            "Epoch 17/50\n",
            "71/71 [==============================] - 9s 134ms/step - loss: 0.4322 - accuracy: 0.9804 - val_loss: 0.7779 - val_accuracy: 0.8856\n",
            "\n",
            "Epoch 00017: val_loss improved from 0.83141 to 0.77787, saving model to /content/drive/My Drive/Colab Notebooks/saved_model/fmnist_resnet_model.h5\n",
            "Epoch 18/50\n",
            "71/71 [==============================] - 10s 134ms/step - loss: 0.4118 - accuracy: 0.9811 - val_loss: 0.8289 - val_accuracy: 0.8741\n",
            "\n",
            "Epoch 00018: val_loss did not improve from 0.77787\n",
            "Epoch 19/50\n",
            "71/71 [==============================] - 10s 134ms/step - loss: 0.4178 - accuracy: 0.9749 - val_loss: 0.7642 - val_accuracy: 0.8850\n",
            "\n",
            "Epoch 00019: val_loss improved from 0.77787 to 0.76424, saving model to /content/drive/My Drive/Colab Notebooks/saved_model/fmnist_resnet_model.h5\n",
            "Epoch 20/50\n",
            "71/71 [==============================] - 10s 134ms/step - loss: 0.3897 - accuracy: 0.9811 - val_loss: 0.7724 - val_accuracy: 0.8821\n",
            "\n",
            "Epoch 00020: val_loss did not improve from 0.76424\n",
            "Epoch 21/50\n",
            "71/71 [==============================] - 10s 135ms/step - loss: 0.3840 - accuracy: 0.9798 - val_loss: 0.8463 - val_accuracy: 0.8691\n",
            "\n",
            "Epoch 00021: val_loss did not improve from 0.76424\n",
            "Epoch 22/50\n",
            "71/71 [==============================] - 10s 135ms/step - loss: 0.3874 - accuracy: 0.9747 - val_loss: 0.9182 - val_accuracy: 0.8508\n",
            "\n",
            "Epoch 00022: val_loss did not improve from 0.76424\n",
            "Epoch 23/50\n",
            "71/71 [==============================] - 10s 135ms/step - loss: 0.3677 - accuracy: 0.9795 - val_loss: 0.7795 - val_accuracy: 0.8740\n",
            "\n",
            "Epoch 00023: val_loss did not improve from 0.76424\n",
            "Epoch 24/50\n",
            "71/71 [==============================] - 10s 135ms/step - loss: 0.3483 - accuracy: 0.9834 - val_loss: 0.7315 - val_accuracy: 0.8813\n",
            "\n",
            "Epoch 00024: val_loss improved from 0.76424 to 0.73154, saving model to /content/drive/My Drive/Colab Notebooks/saved_model/fmnist_resnet_model.h5\n",
            "Epoch 25/50\n",
            "71/71 [==============================] - 10s 135ms/step - loss: 0.3267 - accuracy: 0.9881 - val_loss: 0.9238 - val_accuracy: 0.8582\n",
            "\n",
            "Epoch 00025: val_loss did not improve from 0.73154\n",
            "Epoch 26/50\n",
            "71/71 [==============================] - 10s 136ms/step - loss: 0.3358 - accuracy: 0.9822 - val_loss: 0.8035 - val_accuracy: 0.8692\n",
            "\n",
            "Epoch 00026: val_loss did not improve from 0.73154\n",
            "Epoch 27/50\n",
            "71/71 [==============================] - 10s 136ms/step - loss: 0.3235 - accuracy: 0.9832 - val_loss: 0.7738 - val_accuracy: 0.8708\n",
            "\n",
            "Epoch 00027: val_loss did not improve from 0.73154\n",
            "Epoch 28/50\n",
            "71/71 [==============================] - 10s 136ms/step - loss: 0.3214 - accuracy: 0.9815 - val_loss: 0.7602 - val_accuracy: 0.8798\n",
            "\n",
            "Epoch 00028: val_loss did not improve from 0.73154\n",
            "Epoch 29/50\n",
            "71/71 [==============================] - 10s 136ms/step - loss: 0.2992 - accuracy: 0.9876 - val_loss: 0.7653 - val_accuracy: 0.8718\n",
            "\n",
            "Epoch 00029: val_loss did not improve from 0.73154\n",
            "Epoch 30/50\n",
            "71/71 [==============================] - 10s 136ms/step - loss: 0.2832 - accuracy: 0.9920 - val_loss: 0.7766 - val_accuracy: 0.8792\n",
            "\n",
            "Epoch 00030: val_loss did not improve from 0.73154\n",
            "Epoch 31/50\n",
            "71/71 [==============================] - 10s 136ms/step - loss: 0.2576 - accuracy: 0.9994 - val_loss: 0.6828 - val_accuracy: 0.8973\n",
            "\n",
            "Epoch 00031: val_loss improved from 0.73154 to 0.68275, saving model to /content/drive/My Drive/Colab Notebooks/saved_model/fmnist_resnet_model.h5\n",
            "Epoch 32/50\n",
            "71/71 [==============================] - 10s 136ms/step - loss: 0.2529 - accuracy: 0.9992 - val_loss: 0.7561 - val_accuracy: 0.8848\n",
            "\n",
            "Epoch 00032: val_loss did not improve from 0.68275\n",
            "Epoch 33/50\n",
            "71/71 [==============================] - 10s 136ms/step - loss: 0.2501 - accuracy: 0.9982 - val_loss: 0.7135 - val_accuracy: 0.8951\n",
            "\n",
            "Epoch 00033: val_loss did not improve from 0.68275\n",
            "Epoch 34/50\n",
            "71/71 [==============================] - 10s 136ms/step - loss: 0.2412 - accuracy: 0.9999 - val_loss: 0.7643 - val_accuracy: 0.8908\n",
            "\n",
            "Epoch 00034: val_loss did not improve from 0.68275\n",
            "Epoch 35/50\n",
            "71/71 [==============================] - 10s 136ms/step - loss: 0.2374 - accuracy: 0.9995 - val_loss: 0.7781 - val_accuracy: 0.8891\n",
            "\n",
            "Epoch 00035: val_loss did not improve from 0.68275\n",
            "Epoch 36/50\n",
            "71/71 [==============================] - 10s 136ms/step - loss: 0.2321 - accuracy: 0.9999 - val_loss: 0.7440 - val_accuracy: 0.8982\n",
            "\n",
            "Epoch 00036: val_loss did not improve from 0.68275\n",
            "Epoch 37/50\n",
            "71/71 [==============================] - 10s 136ms/step - loss: 0.2290 - accuracy: 0.9994 - val_loss: 0.7651 - val_accuracy: 0.8988\n",
            "\n",
            "Epoch 00037: val_loss did not improve from 0.68275\n",
            "Epoch 38/50\n",
            "71/71 [==============================] - 10s 136ms/step - loss: 0.2264 - accuracy: 0.9999 - val_loss: 0.7790 - val_accuracy: 0.8984\n",
            "\n",
            "Epoch 00038: val_loss did not improve from 0.68275\n",
            "Epoch 39/50\n",
            "71/71 [==============================] - 10s 137ms/step - loss: 0.2245 - accuracy: 1.0000 - val_loss: 0.7954 - val_accuracy: 0.8988\n",
            "\n",
            "Epoch 00039: val_loss did not improve from 0.68275\n",
            "Epoch 40/50\n",
            "71/71 [==============================] - 10s 136ms/step - loss: 0.2229 - accuracy: 1.0000 - val_loss: 0.8026 - val_accuracy: 0.8997\n",
            "\n",
            "Epoch 00040: val_loss did not improve from 0.68275\n",
            "Epoch 41/50\n",
            "71/71 [==============================] - 10s 136ms/step - loss: 0.2216 - accuracy: 0.9998 - val_loss: 0.8112 - val_accuracy: 0.8992\n",
            "\n",
            "Epoch 00041: val_loss did not improve from 0.68275\n",
            "Epoch 42/50\n",
            "71/71 [==============================] - 10s 136ms/step - loss: 0.2199 - accuracy: 1.0000 - val_loss: 0.8277 - val_accuracy: 0.8997\n",
            "\n",
            "Epoch 00042: val_loss did not improve from 0.68275\n",
            "Epoch 43/50\n",
            "71/71 [==============================] - 10s 136ms/step - loss: 0.2194 - accuracy: 1.0000 - val_loss: 0.8402 - val_accuracy: 0.8999\n",
            "\n",
            "Epoch 00043: val_loss did not improve from 0.68275\n",
            "Epoch 44/50\n",
            "71/71 [==============================] - 10s 136ms/step - loss: 0.2189 - accuracy: 0.9999 - val_loss: 0.8486 - val_accuracy: 0.8996\n",
            "\n",
            "Epoch 00044: val_loss did not improve from 0.68275\n",
            "Epoch 45/50\n",
            "71/71 [==============================] - 10s 136ms/step - loss: 0.2183 - accuracy: 0.9999 - val_loss: 0.8551 - val_accuracy: 0.8993\n",
            "\n",
            "Epoch 00045: val_loss did not improve from 0.68275\n",
            "Epoch 46/50\n",
            "71/71 [==============================] - 10s 136ms/step - loss: 0.2176 - accuracy: 1.0000 - val_loss: 0.8600 - val_accuracy: 0.8999\n",
            "\n",
            "Epoch 00046: val_loss did not improve from 0.68275\n",
            "Epoch 47/50\n",
            "71/71 [==============================] - 10s 136ms/step - loss: 0.2174 - accuracy: 0.9999 - val_loss: 0.8671 - val_accuracy: 0.9003\n",
            "\n",
            "Epoch 00047: val_loss did not improve from 0.68275\n",
            "Epoch 48/50\n",
            "71/71 [==============================] - 10s 136ms/step - loss: 0.2169 - accuracy: 1.0000 - val_loss: 0.8724 - val_accuracy: 0.9007\n",
            "\n",
            "Epoch 00048: val_loss did not improve from 0.68275\n",
            "Epoch 49/50\n",
            "71/71 [==============================] - 10s 136ms/step - loss: 0.2168 - accuracy: 1.0000 - val_loss: 0.8746 - val_accuracy: 0.9005\n",
            "\n",
            "Epoch 00049: val_loss did not improve from 0.68275\n",
            "Epoch 50/50\n",
            "71/71 [==============================] - 10s 136ms/step - loss: 0.2164 - accuracy: 1.0000 - val_loss: 0.8771 - val_accuracy: 0.9000\n",
            "\n",
            "Epoch 00050: val_loss did not improve from 0.68275\n"
          ],
          "name": "stdout"
        },
        {
          "output_type": "execute_result",
          "data": {
            "text/plain": [
              "<tensorflow.python.keras.callbacks.History at 0x7f6e6864ba10>"
            ]
          },
          "metadata": {
            "tags": []
          },
          "execution_count": 14
        }
      ]
    },
    {
      "cell_type": "code",
      "metadata": {
        "colab": {
          "base_uri": "https://localhost:8080/"
        },
        "id": "DOaHLFwPVaN6",
        "outputId": "f841d016-8764-4ede-eee4-2bb715f6f02b"
      },
      "source": [
        "scores = model.evaluate(x_test, y_test, verbose=1)\n",
        "print('Test loss:', scores[0])\n",
        "print('Test accuracy:', scores[1])"
      ],
      "execution_count": null,
      "outputs": [
        {
          "output_type": "stream",
          "text": [
            "375/375 [==============================] - 3s 8ms/step - loss: 0.8568 - accuracy: 0.9022\n",
            "Test loss: 0.8568351864814758\n",
            "Test accuracy: 0.9021666646003723\n"
          ],
          "name": "stdout"
        }
      ]
    },
    {
      "cell_type": "code",
      "metadata": {
        "id": "C382UwjJO-_D"
      },
      "source": [
        "from sklearn.metrics import confusion_matrix, classification_report\n",
        "\n",
        "# Predict the values from the validation dataset\n",
        "Y_pred = model.predict(x_test)\n",
        "# Convert predictions classes \n",
        "Y_pred_classes = np.argmax(Y_pred,axis = 1) \n",
        "\n",
        "confusion_mtx = confusion_matrix(y_test, Y_pred_classes) "
      ],
      "execution_count": null,
      "outputs": []
    },
    {
      "cell_type": "code",
      "metadata": {
        "colab": {
          "base_uri": "https://localhost:8080/",
          "height": 319
        },
        "id": "552YzdHjWCwf",
        "outputId": "76bd2b0d-af5c-4373-9772-cf1a6dfdb445"
      },
      "source": [
        "#import the relevant packages\n",
        "from sklearn import metrics\n",
        "import seaborn as sns\n",
        "import matplotlib.pyplot as plt\n",
        "\n",
        "labels = ['1', '2', '3', '4', '5'] #Check thiss\n",
        "\n",
        "#turn this into a dataframe\n",
        "matrix_df = pd.DataFrame(confusion_mtx)\n",
        "#plot the result\n",
        "ax = plt.axes()\n",
        "sns.set(font_scale=1.3)\n",
        "plt.figure(figsize=(10,7))\n",
        "sns.heatmap(matrix_df, annot=True, fmt=\"g\", ax=ax, cmap=\"magma\")\n",
        "#set axis titles\n",
        "ax.set_title('Confusion Matrix - Resnet')\n",
        "ax.set_xlabel(\"Predicted label\", fontsize =15)\n",
        "ax.set_xticklabels(labels)\n",
        "ax.set_ylabel(\"True Label\", fontsize=15)\n",
        "ax.set_yticklabels(list(labels), rotation = 0)\n",
        "plt.show()"
      ],
      "execution_count": null,
      "outputs": [
        {
          "output_type": "display_data",
          "data": {
            "image/png": "[encoded data removed]",
            "text/plain": [
              "<Figure size 432x288 with 2 Axes>"
            ]
          },
          "metadata": {
            "tags": [],
            "needs_background": "light"
          }
        },
        {
          "output_type": "display_data",
          "data": {
            "text/plain": [
              "<Figure size 720x504 with 0 Axes>"
            ]
          },
          "metadata": {
            "tags": []
          }
        }
      ]
    },
    {
      "cell_type": "code",
      "metadata": {
        "colab": {
          "base_uri": "https://localhost:8080/"
        },
        "id": "Dafgp3_hU_qn",
        "outputId": "1c2f0354-8fd7-45bb-e039-4423fa0d1a34"
      },
      "source": [
        "print(metrics.classification_report((y_test+1),(Y_pred_classes+1)))"
      ],
      "execution_count": null,
      "outputs": [
        {
          "output_type": "stream",
          "text": [
            "              precision    recall  f1-score   support\n",
            "\n",
            "           1       0.90      0.91      0.90      2377\n",
            "           2       0.88      0.88      0.88      2415\n",
            "           3       0.86      0.86      0.86      2384\n",
            "           4       0.93      0.91      0.92      2418\n",
            "           5       0.95      0.95      0.95      2406\n",
            "\n",
            "    accuracy                           0.90     12000\n",
            "   macro avg       0.90      0.90      0.90     12000\n",
            "weighted avg       0.90      0.90      0.90     12000\n",
            "\n"
          ],
          "name": "stdout"
        }
      ]
    },
    {
      "cell_type": "code",
      "metadata": {
        "colab": {
          "base_uri": "https://localhost:8080/"
        },
        "id": "3htO74djVKVb",
        "outputId": "33598111-9c60-46f7-9af0-8d709b33584c"
      },
      "source": [
        "Y_pred_classes"
      ],
      "execution_count": null,
      "outputs": [
        {
          "output_type": "execute_result",
          "data": {
            "text/plain": [
              "array([4, 2, 3, ..., 1, 3, 3])"
            ]
          },
          "metadata": {
            "tags": []
          },
          "execution_count": 19
        }
      ]
    },
    {
      "cell_type": "code",
      "metadata": {
        "id": "xh0jpz4RXr1J"
      },
      "source": [
        ""
      ],
      "execution_count": null,
      "outputs": []
    },
    {
      "cell_type": "code",
      "metadata": {
        "id": "E0VjHLT7j-2B",
        "colab": {
          "base_uri": "https://localhost:8080/"
        },
        "outputId": "25bd6d46-be22-4dc6-9bbc-a871f58bfc6e"
      },
      "source": [
        "my_submission = pd.DataFrame({'id': testdata['id'], 'target': y_test1})\n",
        "my_submission.to_csv('submission_mnist-01.csv', index=False)"
      ],
      "execution_count": null,
      "outputs": [
        {
          "output_type": "error",
          "ename": "NameError",
          "evalue": "ignored",
          "traceback": [
            "\u001b[0;31m---------------------------------------------------------------------------\u001b[0m",
            "\u001b[0;31mNameError\u001b[0m                                 Traceback (most recent call last)",
            "\u001b[0;32m<ipython-input-20-d019b32a9f7a>\u001b[0m in \u001b[0;36m<module>\u001b[0;34m()\u001b[0m\n\u001b[0;32m----> 1\u001b[0;31m \u001b[0mmy_submission\u001b[0m \u001b[0;34m=\u001b[0m \u001b[0mpd\u001b[0m\u001b[0;34m.\u001b[0m\u001b[0mDataFrame\u001b[0m\u001b[0;34m(\u001b[0m\u001b[0;34m{\u001b[0m\u001b[0;34m'id'\u001b[0m\u001b[0;34m:\u001b[0m \u001b[0mtestdata\u001b[0m\u001b[0;34m[\u001b[0m\u001b[0;34m'id'\u001b[0m\u001b[0;34m]\u001b[0m\u001b[0;34m,\u001b[0m \u001b[0;34m'target'\u001b[0m\u001b[0;34m:\u001b[0m \u001b[0my_test1\u001b[0m\u001b[0;34m}\u001b[0m\u001b[0;34m)\u001b[0m\u001b[0;34m\u001b[0m\u001b[0;34m\u001b[0m\u001b[0m\n\u001b[0m\u001b[1;32m      2\u001b[0m \u001b[0mmy_submission\u001b[0m\u001b[0;34m.\u001b[0m\u001b[0mto_csv\u001b[0m\u001b[0;34m(\u001b[0m\u001b[0;34m'submission_mnist-01.csv'\u001b[0m\u001b[0;34m,\u001b[0m \u001b[0mindex\u001b[0m\u001b[0;34m=\u001b[0m\u001b[0;32mFalse\u001b[0m\u001b[0;34m)\u001b[0m\u001b[0;34m\u001b[0m\u001b[0;34m\u001b[0m\u001b[0m\n",
            "\u001b[0;31mNameError\u001b[0m: name 'y_test1' is not defined"
          ]
        }
      ]
    },
    {
      "cell_type": "markdown",
      "metadata": {
        "id": "zMRCo2h1PQfP"
      },
      "source": [
        "https://www.youtube.com/watch?v=lOZGYzTn9Z8\n",
        "\n",
        "https://github.com/Coderx7/SimpleNet_Pytorch/tree/5d13ddbba6ae531ced26469c6b0f0ec18665d5ec\n",
        "\n",
        "https://www.youtube.com/results?search_query=fashion+mnist+keras\n",
        "\n",
        "https://github.com/markjay4k/Fashion-MNIST-with-Keras/blob/master/pt%204%20-%20Deeper%20CNNs.ipynb\n",
        "\n",
        "https://github.com/jeffheaton/t81_558_deep_learning/blob/master/t81_558_class_06_3_resnet.ipynb\n",
        "\n",
        "https://www.youtube.com/watch?v=sAzL4XMke80\n",
        "\n",
        "https://stackoverflow.com/questions/44151760/received-a-label-value-of-1-which-is-outside-the-valid-range-of-0-1-python\n",
        "\n",
        "\n"
      ]
    }
  ]
}