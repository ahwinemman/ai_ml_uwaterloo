{
  "nbformat": 4,
  "nbformat_minor": 0,
  "metadata": {
    "colab": {
      "name": "A4-CM5.ipynb",
      "provenance": [],
      "collapsed_sections": []
    },
    "kernelspec": {
      "name": "python3",
      "display_name": "Python 3"
    },
    "language_info": {
      "name": "python"
    },
    "accelerator": "GPU"
  },
  "cells": [
    {
      "cell_type": "code",
      "metadata": {
        "id": "9c3CNZ9dJKqD"
      },
      "source": [
        "import pandas as pd\n",
        "import numpy as np\n",
        "\n",
        "import tensorflow as tf\n",
        "from tensorflow import keras\n",
        "from tensorflow.keras import layers, models\n",
        "from keras.models import Sequential\n",
        "from keras.layers import Conv2D, MaxPooling2D, Dense, Flatten, Dropout\n",
        "from keras.optimizers import Adam\n",
        "\n",
        "#import the relevant packages\n",
        "from sklearn import metrics\n",
        "from sklearn.metrics import confusion_matrix, classification_report\n",
        "import seaborn as sns\n",
        "import matplotlib.pyplot as plt\n",
        "\n",
        "%matplotlib inline"
      ],
      "execution_count": null,
      "outputs": []
    },
    {
      "cell_type": "code",
      "metadata": {
        "colab": {
          "base_uri": "https://localhost:8080/"
        },
        "id": "tfURh56Bg4fs",
        "outputId": "f854f59b-b960-494e-ddd8-6027038c4c17"
      },
      "source": [
        "print(tf.version)\n",
        "print(tf.keras.__version__)"
      ],
      "execution_count": null,
      "outputs": [
        {
          "output_type": "stream",
          "text": [
            "<module 'tensorflow._api.v2.version' from '/usr/local/lib/python3.7/dist-packages/tensorflow/_api/v2/version/__init__.py'>\n",
            "2.4.0\n"
          ],
          "name": "stdout"
        }
      ]
    },
    {
      "cell_type": "code",
      "metadata": {
        "colab": {
          "base_uri": "https://localhost:8080/"
        },
        "id": "Jy8Ifyy9J0NF",
        "outputId": "ea186cc6-8eb3-4b81-ee19-919cc3732eb0"
      },
      "source": [
        "from google.colab import drive\n",
        "drive.mount('/content/drive')"
      ],
      "execution_count": null,
      "outputs": [
        {
          "output_type": "stream",
          "text": [
            "Mounted at /content/drive\n"
          ],
          "name": "stdout"
        }
      ]
    },
    {
      "cell_type": "code",
      "metadata": {
        "colab": {
          "base_uri": "https://localhost:8080/"
        },
        "id": "KMM9CQdhJ4Bh",
        "outputId": "228c7df2-047a-42e2-af08-82bfdf05856b"
      },
      "source": [
        "%cd '/content/drive/My Drive/Colab Notebooks'\n"
      ],
      "execution_count": null,
      "outputs": [
        {
          "output_type": "stream",
          "text": [
            "/content/drive/My Drive/Colab Notebooks\n"
          ],
          "name": "stdout"
        }
      ]
    },
    {
      "cell_type": "markdown",
      "metadata": {
        "id": "maR614pzVzSY"
      },
      "source": [
        "# Loading and Exploring the Data"
      ]
    },
    {
      "cell_type": "code",
      "metadata": {
        "id": "_nau-vXtMLVG"
      },
      "source": [
        "# load numpy array from npy file\n",
        "from numpy import load\n",
        "# load array\n",
        "data = load('fmnist_train.npy', allow_pickle=True).item()\n",
        "testdata = load('fmnist_test.npy', allow_pickle=True).item()"
      ],
      "execution_count": null,
      "outputs": []
    },
    {
      "cell_type": "code",
      "metadata": {
        "colab": {
          "base_uri": "https://localhost:8080/"
        },
        "id": "pMPgCI1LWdk1",
        "outputId": "4bf18c5a-e74c-4ee6-e039-11974cbd842b"
      },
      "source": [
        "data['features'].shape"
      ],
      "execution_count": null,
      "outputs": [
        {
          "output_type": "execute_result",
          "data": {
            "text/plain": [
              "(60000, 28, 28)"
            ]
          },
          "metadata": {
            "tags": []
          },
          "execution_count": 8
        }
      ]
    },
    {
      "cell_type": "code",
      "metadata": {
        "id": "FPFUR_-LOpNl"
      },
      "source": [
        "x_train1 = data['features'].reshape([60000, 28*28])\n",
        "y_train1 = data['target'].astype(int) - 1\n",
        "\n",
        "x_test1 = testdata['features'].reshape([10000, 28*28])"
      ],
      "execution_count": null,
      "outputs": []
    },
    {
      "cell_type": "code",
      "metadata": {
        "id": "XL09RTn5uJpo",
        "colab": {
          "base_uri": "https://localhost:8080/"
        },
        "outputId": "c0c32233-8d58-433b-fe84-3d78bb2345b7"
      },
      "source": [
        "y_train1\n"
      ],
      "execution_count": null,
      "outputs": [
        {
          "output_type": "execute_result",
          "data": {
            "text/plain": [
              "array([4, 1, 0, ..., 2, 0, 3])"
            ]
          },
          "metadata": {
            "tags": []
          },
          "execution_count": 10
        }
      ]
    },
    {
      "cell_type": "code",
      "metadata": {
        "id": "iVo3GqHkj8fq"
      },
      "source": [
        "# split the training data into train and validate arrays (will be used later)\n",
        "from sklearn.model_selection import train_test_split\n",
        "\n",
        "x_train, x_validate, y_train, y_validate = train_test_split(\n",
        "    x_train1, y_train1, test_size=0.4, random_state=12345,\n",
        ")\n",
        "\n",
        "x_test, x_validate, y_test, y_validate = train_test_split(\n",
        "    x_validate, y_validate, test_size=0.5, random_state=12345,\n",
        ")"
      ],
      "execution_count": null,
      "outputs": []
    },
    {
      "cell_type": "code",
      "metadata": {
        "id": "0SOd8C2ukMf4",
        "colab": {
          "base_uri": "https://localhost:8080/",
          "height": 265
        },
        "outputId": "cb75d33b-b7b8-4e46-86eb-db64e7f157ef"
      },
      "source": [
        "# lets see what the images look like\n",
        "\n",
        "image = x_train[500, :].reshape((28, 28))\n",
        "\n",
        "plt.imshow(image)\n",
        "plt.show()"
      ],
      "execution_count": null,
      "outputs": [
        {
          "output_type": "display_data",
          "data": {
            "image/png": "[encoded data removed]",
            "text/plain": [
              "<Figure size 432x288 with 1 Axes>"
            ]
          },
          "metadata": {
            "tags": [],
            "needs_background": "light"
          }
        }
      ]
    },
    {
      "cell_type": "code",
      "metadata": {
        "id": "LqKQIQk-kytl",
        "colab": {
          "base_uri": "https://localhost:8080/"
        },
        "outputId": "55a3561d-7efb-4386-ba0f-2a0965de5894"
      },
      "source": [
        "im_rows = 28\n",
        "im_cols = 28\n",
        "batch_size = 512\n",
        "im_shape = (im_rows, im_cols, 1)\n",
        "\n",
        "x_train = x_train.reshape(x_train.shape[0], *im_shape)\n",
        "x_test = x_test.reshape(x_test.shape[0], *im_shape)\n",
        "x_validate = x_validate.reshape(x_validate.shape[0], *im_shape)\n",
        "\n",
        "print('x_train shape: {}'.format(x_train.shape))\n",
        "print('x_test shape: {}'.format(x_test.shape))\n",
        "print('x_validate shape: {}'.format(x_validate.shape))\n"
      ],
      "execution_count": null,
      "outputs": [
        {
          "output_type": "stream",
          "text": [
            "x_train shape: (36000, 28, 28, 1)\n",
            "x_test shape: (12000, 28, 28, 1)\n",
            "x_validate shape: (12000, 28, 28, 1)\n"
          ],
          "name": "stdout"
        }
      ]
    },
    {
      "cell_type": "markdown",
      "metadata": {
        "id": "SqtPZfDFR4E8"
      },
      "source": [
        "# Defining the model\n",
        "\n",
        "First, we’ll design the NN architecture by deciding the number of layers and activation functions as discussed in CM4\n"
      ]
    },
    {
      "cell_type": "code",
      "metadata": {
        "colab": {
          "base_uri": "https://localhost:8080/"
        },
        "id": "MWM0f40CyxZ4",
        "outputId": "c2bd3f22-c920-45b8-c3c8-b218686910e1"
      },
      "source": [
        "cnn_model_4 = Sequential([\n",
        "    Conv2D(32, kernel_size=3, activation='relu', input_shape=im_shape, name='Conv2D-1'),\n",
        "    MaxPooling2D(pool_size=2, name='MaxPool'),\n",
        "    Dropout(0.2, name='Dropout-1'),\n",
        "    Conv2D(64, kernel_size=3, activation='relu', name='Conv2D-2'),\n",
        "    Dropout(0.25, name='Dropout-2'),\n",
        "    Flatten(name='flatten'),\n",
        "    Dense(64, activation='relu', name='Dense'),\n",
        "    Dense(5, activation='softmax', name='Output')\n",
        "])\n"
      ],
      "execution_count": null,
      "outputs": [
        {
          "output_type": "stream",
          "text": [
            "Model: \"sequential_3\"\n",
            "_________________________________________________________________\n",
            "Layer (type)                 Output Shape              Param #   \n",
            "=================================================================\n",
            "Conv2D-1 (Conv2D)            (None, 26, 26, 32)        320       \n",
            "_________________________________________________________________\n",
            "MaxPool (MaxPooling2D)       (None, 13, 13, 32)        0         \n",
            "_________________________________________________________________\n",
            "Dropout-1 (Dropout)          (None, 13, 13, 32)        0         \n",
            "_________________________________________________________________\n",
            "Conv2D-2 (Conv2D)            (None, 11, 11, 64)        18496     \n",
            "_________________________________________________________________\n",
            "Dropout-2 (Dropout)          (None, 11, 11, 64)        0         \n",
            "_________________________________________________________________\n",
            "flatten (Flatten)            (None, 7744)              0         \n",
            "_________________________________________________________________\n",
            "Dense (Dense)                (None, 64)                495680    \n",
            "_________________________________________________________________\n",
            "Output (Dense)               (None, 5)                 325       \n",
            "=================================================================\n",
            "Total params: 514,821\n",
            "Trainable params: 514,821\n",
            "Non-trainable params: 0\n",
            "_________________________________________________________________\n",
            "None\n"
          ],
          "name": "stdout"
        }
      ]
    },
    {
      "cell_type": "markdown",
      "metadata": {
        "id": "0Ceg3DL7SoTE"
      },
      "source": [
        "This provides a table-format summary of the network architecture and parameters."
      ]
    },
    {
      "cell_type": "code",
      "metadata": {
        "id": "x6rhcvIkSpN_"
      },
      "source": [
        "print(cnn_model_4.summary())"
      ],
      "execution_count": null,
      "outputs": []
    },
    {
      "cell_type": "markdown",
      "metadata": {
        "id": "GD9kLRPISe4U"
      },
      "source": [
        "# Compiling the model\n",
        "\n",
        "In this step, we compile the model based on below settings,\n",
        "\n",
        "**Loss function** — this calculates the difference between the expected target and output results. Cross-entropy is the default loss function to use for a multi-class classification problem. If target variables are integers (not one-hot coded) we used sparss. Therefore for this classification problem, we chose the sparse_categorical_crossentropy loss function. \n",
        "\n",
        "**Optimizer** — this will make the neural network update the parameters for our neural network during the training process is based on the data and the loss function. We use Adam as it is popular shown to be effective and efficient.\n",
        "\n",
        "**Metrics** — this monitors the training and testing steps. We use accuracy because we would like to know the percentage images correctly classified"
      ]
    },
    {
      "cell_type": "code",
      "metadata": {
        "id": "DGW0DeUiSejK"
      },
      "source": [
        "cnn_model_4.compile(\n",
        "        loss='sparse_categorical_crossentropy',\n",
        "        optimizer=Adam(),\n",
        "        metrics=['accuracy']\n",
        "    )\n"
      ],
      "execution_count": null,
      "outputs": []
    },
    {
      "cell_type": "markdown",
      "metadata": {
        "id": "KK30VWMkUwP6"
      },
      "source": [
        "# Train the model\n",
        "\n",
        "Next, we train the model by fitting it to the training data, so we give it the input (images) and expected output (labels). Here, an important step to minimize overfitting is validation. There are a few ways to validate, in this case, we provide our validation set to the function. We use 20% of the training data for validation and another 20% for evaluation and 60% for training.\n",
        "\n",
        "We also need to define how many times the network will be trained, this is an epoch. It’s an arbitrary cutoff and here we choose 50 epochs."
      ]
    },
    {
      "cell_type": "code",
      "metadata": {
        "colab": {
          "base_uri": "https://localhost:8080/"
        },
        "id": "jWgB9RPyRLVr",
        "outputId": "027d44b9-02ca-4f4c-b273-4db8a5313852"
      },
      "source": [
        "#%%timeit  \n",
        "history4 = cnn_model_4.fit(\n",
        "    x_train, y_train,\n",
        "    batch_size=batch_size,\n",
        "    epochs=50, verbose=1,\n",
        "    validation_data=(x_validate, y_validate)\n",
        ")"
      ],
      "execution_count": null,
      "outputs": [
        {
          "output_type": "stream",
          "text": [
            "Epoch 1/50\n",
            "71/71 [==============================] - 2s 17ms/step - loss: 0.9945 - accuracy: 0.5801 - val_loss: 0.5984 - val_accuracy: 0.7588\n",
            "Epoch 2/50\n",
            "71/71 [==============================] - 1s 14ms/step - loss: 0.5774 - accuracy: 0.7676 - val_loss: 0.4802 - val_accuracy: 0.8131\n",
            "Epoch 3/50\n",
            "71/71 [==============================] - 1s 14ms/step - loss: 0.4838 - accuracy: 0.8051 - val_loss: 0.4425 - val_accuracy: 0.8200\n",
            "Epoch 4/50\n",
            "71/71 [==============================] - 1s 14ms/step - loss: 0.4248 - accuracy: 0.8308 - val_loss: 0.3787 - val_accuracy: 0.8519\n",
            "Epoch 5/50\n",
            "71/71 [==============================] - 1s 14ms/step - loss: 0.3856 - accuracy: 0.8475 - val_loss: 0.3489 - val_accuracy: 0.8689\n",
            "Epoch 6/50\n",
            "71/71 [==============================] - 1s 14ms/step - loss: 0.3473 - accuracy: 0.8625 - val_loss: 0.3650 - val_accuracy: 0.8520\n",
            "Epoch 7/50\n",
            "71/71 [==============================] - 1s 14ms/step - loss: 0.3357 - accuracy: 0.8673 - val_loss: 0.3218 - val_accuracy: 0.8723\n",
            "Epoch 8/50\n",
            "71/71 [==============================] - 1s 14ms/step - loss: 0.3138 - accuracy: 0.8752 - val_loss: 0.3006 - val_accuracy: 0.8810\n",
            "Epoch 9/50\n",
            "71/71 [==============================] - 1s 14ms/step - loss: 0.3011 - accuracy: 0.8809 - val_loss: 0.2892 - val_accuracy: 0.8888\n",
            "Epoch 10/50\n",
            "71/71 [==============================] - 1s 14ms/step - loss: 0.2851 - accuracy: 0.8865 - val_loss: 0.2807 - val_accuracy: 0.8880\n",
            "Epoch 11/50\n",
            "71/71 [==============================] - 1s 14ms/step - loss: 0.2715 - accuracy: 0.8923 - val_loss: 0.2774 - val_accuracy: 0.8892\n",
            "Epoch 12/50\n",
            "71/71 [==============================] - 1s 14ms/step - loss: 0.2686 - accuracy: 0.8951 - val_loss: 0.2568 - val_accuracy: 0.8994\n",
            "Epoch 13/50\n",
            "71/71 [==============================] - 1s 14ms/step - loss: 0.2536 - accuracy: 0.9027 - val_loss: 0.2641 - val_accuracy: 0.8957\n",
            "Epoch 14/50\n",
            "71/71 [==============================] - 1s 14ms/step - loss: 0.2512 - accuracy: 0.9033 - val_loss: 0.2548 - val_accuracy: 0.8975\n",
            "Epoch 15/50\n",
            "71/71 [==============================] - 1s 14ms/step - loss: 0.2428 - accuracy: 0.9037 - val_loss: 0.2596 - val_accuracy: 0.8983\n",
            "Epoch 16/50\n",
            "71/71 [==============================] - 1s 14ms/step - loss: 0.2315 - accuracy: 0.9083 - val_loss: 0.2722 - val_accuracy: 0.8908\n",
            "Epoch 17/50\n",
            "71/71 [==============================] - 1s 14ms/step - loss: 0.2364 - accuracy: 0.9052 - val_loss: 0.2484 - val_accuracy: 0.9010\n",
            "Epoch 18/50\n",
            "71/71 [==============================] - 1s 14ms/step - loss: 0.2174 - accuracy: 0.9146 - val_loss: 0.2563 - val_accuracy: 0.8967\n",
            "Epoch 19/50\n",
            "71/71 [==============================] - 1s 14ms/step - loss: 0.2183 - accuracy: 0.9152 - val_loss: 0.2355 - val_accuracy: 0.9072\n",
            "Epoch 20/50\n",
            "71/71 [==============================] - 1s 14ms/step - loss: 0.2002 - accuracy: 0.9235 - val_loss: 0.2487 - val_accuracy: 0.8992\n",
            "Epoch 21/50\n",
            "71/71 [==============================] - 1s 14ms/step - loss: 0.2086 - accuracy: 0.9177 - val_loss: 0.2296 - val_accuracy: 0.9103\n",
            "Epoch 22/50\n",
            "71/71 [==============================] - 1s 14ms/step - loss: 0.1956 - accuracy: 0.9236 - val_loss: 0.2247 - val_accuracy: 0.9148\n",
            "Epoch 23/50\n",
            "71/71 [==============================] - 1s 14ms/step - loss: 0.1913 - accuracy: 0.9238 - val_loss: 0.2280 - val_accuracy: 0.9087\n",
            "Epoch 24/50\n",
            "71/71 [==============================] - 1s 14ms/step - loss: 0.1881 - accuracy: 0.9264 - val_loss: 0.2375 - val_accuracy: 0.9035\n",
            "Epoch 25/50\n",
            "71/71 [==============================] - 1s 14ms/step - loss: 0.1818 - accuracy: 0.9295 - val_loss: 0.2229 - val_accuracy: 0.9118\n",
            "Epoch 26/50\n",
            "71/71 [==============================] - 1s 14ms/step - loss: 0.1733 - accuracy: 0.9304 - val_loss: 0.2198 - val_accuracy: 0.9132\n",
            "Epoch 27/50\n",
            "71/71 [==============================] - 1s 14ms/step - loss: 0.1691 - accuracy: 0.9336 - val_loss: 0.2391 - val_accuracy: 0.9096\n",
            "Epoch 28/50\n",
            "71/71 [==============================] - 1s 14ms/step - loss: 0.1732 - accuracy: 0.9299 - val_loss: 0.2231 - val_accuracy: 0.9128\n",
            "Epoch 29/50\n",
            "71/71 [==============================] - 1s 14ms/step - loss: 0.1633 - accuracy: 0.9356 - val_loss: 0.2440 - val_accuracy: 0.9033\n",
            "Epoch 30/50\n",
            "71/71 [==============================] - 1s 14ms/step - loss: 0.1625 - accuracy: 0.9362 - val_loss: 0.2417 - val_accuracy: 0.9023\n",
            "Epoch 31/50\n",
            "71/71 [==============================] - 1s 14ms/step - loss: 0.1662 - accuracy: 0.9340 - val_loss: 0.2202 - val_accuracy: 0.9125\n",
            "Epoch 32/50\n",
            "71/71 [==============================] - 1s 14ms/step - loss: 0.1542 - accuracy: 0.9406 - val_loss: 0.2365 - val_accuracy: 0.9054\n",
            "Epoch 33/50\n",
            "71/71 [==============================] - 1s 14ms/step - loss: 0.1457 - accuracy: 0.9450 - val_loss: 0.2436 - val_accuracy: 0.9035\n",
            "Epoch 34/50\n",
            "71/71 [==============================] - 1s 14ms/step - loss: 0.1572 - accuracy: 0.9375 - val_loss: 0.2216 - val_accuracy: 0.9147\n",
            "Epoch 35/50\n",
            "71/71 [==============================] - 1s 14ms/step - loss: 0.1394 - accuracy: 0.9449 - val_loss: 0.2237 - val_accuracy: 0.9152\n",
            "Epoch 36/50\n",
            "71/71 [==============================] - 1s 14ms/step - loss: 0.1388 - accuracy: 0.9455 - val_loss: 0.2173 - val_accuracy: 0.9145\n",
            "Epoch 37/50\n",
            "71/71 [==============================] - 1s 14ms/step - loss: 0.1414 - accuracy: 0.9453 - val_loss: 0.2303 - val_accuracy: 0.9112\n",
            "Epoch 38/50\n",
            "71/71 [==============================] - 1s 14ms/step - loss: 0.1369 - accuracy: 0.9446 - val_loss: 0.2193 - val_accuracy: 0.9173\n",
            "Epoch 39/50\n",
            "71/71 [==============================] - 1s 14ms/step - loss: 0.1398 - accuracy: 0.9461 - val_loss: 0.2241 - val_accuracy: 0.9147\n",
            "Epoch 40/50\n",
            "71/71 [==============================] - 1s 14ms/step - loss: 0.1237 - accuracy: 0.9511 - val_loss: 0.2366 - val_accuracy: 0.9118\n",
            "Epoch 41/50\n",
            "71/71 [==============================] - 1s 14ms/step - loss: 0.1313 - accuracy: 0.9466 - val_loss: 0.2290 - val_accuracy: 0.9143\n",
            "Epoch 42/50\n",
            "71/71 [==============================] - 1s 14ms/step - loss: 0.1200 - accuracy: 0.9534 - val_loss: 0.2276 - val_accuracy: 0.9149\n",
            "Epoch 43/50\n",
            "71/71 [==============================] - 1s 14ms/step - loss: 0.1275 - accuracy: 0.9492 - val_loss: 0.2240 - val_accuracy: 0.9156\n",
            "Epoch 44/50\n",
            "71/71 [==============================] - 1s 14ms/step - loss: 0.1233 - accuracy: 0.9528 - val_loss: 0.2411 - val_accuracy: 0.9078\n",
            "Epoch 45/50\n",
            "71/71 [==============================] - 1s 14ms/step - loss: 0.1236 - accuracy: 0.9510 - val_loss: 0.2538 - val_accuracy: 0.9041\n",
            "Epoch 46/50\n",
            "71/71 [==============================] - 1s 14ms/step - loss: 0.1274 - accuracy: 0.9496 - val_loss: 0.2263 - val_accuracy: 0.9175\n",
            "Epoch 47/50\n",
            "71/71 [==============================] - 1s 14ms/step - loss: 0.1066 - accuracy: 0.9580 - val_loss: 0.2222 - val_accuracy: 0.9202\n",
            "Epoch 48/50\n",
            "71/71 [==============================] - 1s 14ms/step - loss: 0.1121 - accuracy: 0.9554 - val_loss: 0.2265 - val_accuracy: 0.9158\n",
            "Epoch 49/50\n",
            "71/71 [==============================] - 1s 14ms/step - loss: 0.1056 - accuracy: 0.9587 - val_loss: 0.2296 - val_accuracy: 0.9175\n",
            "Epoch 50/50\n",
            "71/71 [==============================] - 1s 14ms/step - loss: 0.1042 - accuracy: 0.9584 - val_loss: 0.2757 - val_accuracy: 0.9044\n"
          ],
          "name": "stdout"
        }
      ]
    },
    {
      "cell_type": "markdown",
      "metadata": {
        "id": "j4FoovOwVbfS"
      },
      "source": [
        "# Evaluate the model\n",
        "\n",
        "Here we evaluate the model which we just trained.\n",
        "\n",
        "We do this on a test dataset not seen by the model yet. This is the reason we split our train, test and validate sets previously."
      ]
    },
    {
      "cell_type": "code",
      "metadata": {
        "id": "YG7hBnYSSFeG"
      },
      "source": [
        "score = cnn_model_4.evaluate(x_test, y_test, verbose=0)"
      ],
      "execution_count": null,
      "outputs": []
    },
    {
      "cell_type": "code",
      "metadata": {
        "colab": {
          "base_uri": "https://localhost:8080/",
          "height": 434
        },
        "id": "H_lyaam2x9Rg",
        "outputId": "ab6da9b2-b436-4422-dca3-96e4112a20ae"
      },
      "source": [
        "print('test loss: {:.4f}'.format(score[0]))\n",
        "print(' test acc: {:.4f}'.format(score[1]))\n",
        "\n",
        "fig, (ax1, ax2) = plt.subplots(2, figsize=(8, 6))\n",
        "\n",
        "acc = history4.history['accuracy']\n",
        "loss = history4.history['loss']\n",
        "val_acc = history4.history['val_accuracy']\n",
        "val_loss = history4.history['val_loss']\n",
        "ax1.plot(val_acc, label='Val')\n",
        "ax1.plot(acc, label='Train')\n",
        "ax2.plot(val_loss, label='Val')\n",
        "ax2.plot(loss, label='Train')\n",
        "    \n",
        "ax1.set_ylabel('accuracy')\n",
        "ax2.set_ylabel('loss')\n",
        "ax2.set_xlabel('epochs')\n",
        "ax1.legend()\n",
        "ax2.legend()\n",
        "plt.show()"
      ],
      "execution_count": null,
      "outputs": [
        {
          "output_type": "stream",
          "text": [
            "test loss: 0.2817\n",
            " test acc: 0.9029\n"
          ],
          "name": "stdout"
        },
        {
          "output_type": "display_data",
          "data": {
            "image/png": "[encoded data removed]",
            "text/plain": [
              "<Figure size 576x432 with 2 Axes>"
            ]
          },
          "metadata": {
            "tags": []
          }
        }
      ]
    },
    {
      "cell_type": "code",
      "metadata": {
        "colab": {
          "base_uri": "https://localhost:8080/"
        },
        "id": "pNKCjNfiSqyj",
        "outputId": "18775512-45c8-4d53-cecb-32a71a6eea6b"
      },
      "source": [
        "y_pred = cnn_model_4.predict_classes(x_test)"
      ],
      "execution_count": null,
      "outputs": [
        {
          "output_type": "stream",
          "text": [
            "/usr/local/lib/python3.7/dist-packages/tensorflow/python/keras/engine/sequential.py:450: UserWarning: `model.predict_classes()` is deprecated and will be removed after 2021-01-01. Please use instead:* `np.argmax(model.predict(x), axis=-1)`,   if your model does multi-class classification   (e.g. if it uses a `softmax` last-layer activation).* `(model.predict(x) > 0.5).astype(\"int32\")`,   if your model does binary classification   (e.g. if it uses a `sigmoid` last-layer activation).\n",
            "  warnings.warn('`model.predict_classes()` is deprecated and '\n"
          ],
          "name": "stderr"
        }
      ]
    },
    {
      "cell_type": "code",
      "metadata": {
        "colab": {
          "base_uri": "https://localhost:8080/",
          "height": 530
        },
        "id": "ce76Oi92VS5V",
        "outputId": "39f703cc-27d2-4edb-922d-316e7b2dbe9c"
      },
      "source": [
        "confusion_mtx = confusion_matrix(y_test, y_pred) \n",
        "\n",
        "labels = ['1', '2', '3', '4', '5'] #Check thiss\n",
        "\n",
        "#turn this into a dataframe\n",
        "matrix_df = pd.DataFrame(confusion_mtx)\n",
        "#plot the result\n",
        "ax = plt.axes()\n",
        "sns.set(font_scale=1.3)\n",
        "plt.figure(figsize=(10,7))\n",
        "sns.heatmap(matrix_df, annot=True, fmt=\"g\", ax=ax, cmap=\"magma\")\n",
        "#set axis titles\n",
        "ax.set_title('Confusion Matrix - 1 layer')\n",
        "ax.set_xlabel(\"Predicted label\", fontsize =15)\n",
        "ax.set_xticklabels(labels)\n",
        "ax.set_ylabel(\"True Label\", fontsize=15)\n",
        "ax.set_yticklabels(list(labels), rotation = 0)\n",
        "plt.show()\n",
        "\n",
        "print(metrics.classification_report((y_test+1),(y_pred+1)))"
      ],
      "execution_count": null,
      "outputs": [
        {
          "output_type": "display_data",
          "data": {
            "image/png": "[encoded data removed]",
            "text/plain": [
              "<Figure size 432x288 with 2 Axes>"
            ]
          },
          "metadata": {
            "tags": []
          }
        },
        {
          "output_type": "display_data",
          "data": {
            "text/plain": [
              "<Figure size 720x504 with 0 Axes>"
            ]
          },
          "metadata": {
            "tags": []
          }
        },
        {
          "output_type": "stream",
          "text": [
            "              precision    recall  f1-score   support\n",
            "\n",
            "           1       0.91      0.92      0.91      2377\n",
            "           2       0.82      0.93      0.87      2415\n",
            "           3       0.91      0.79      0.85      2384\n",
            "           4       0.92      0.93      0.93      2418\n",
            "           5       0.97      0.94      0.95      2406\n",
            "\n",
            "    accuracy                           0.90     12000\n",
            "   macro avg       0.91      0.90      0.90     12000\n",
            "weighted avg       0.91      0.90      0.90     12000\n",
            "\n"
          ],
          "name": "stdout"
        }
      ]
    }
  ]
}