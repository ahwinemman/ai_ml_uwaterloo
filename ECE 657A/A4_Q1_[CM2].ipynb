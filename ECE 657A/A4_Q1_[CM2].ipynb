{
  "nbformat": 4,
  "nbformat_minor": 0,
  "metadata": {
    "colab": {
      "name": "A4_Q1 [CM2].ipynb",
      "provenance": [],
      "collapsed_sections": []
    },
    "kernelspec": {
      "name": "python3",
      "display_name": "Python 3"
    },
    "language_info": {
      "name": "python"
    },
    "accelerator": "GPU"
  },
  "cells": [
    {
      "cell_type": "code",
      "metadata": {
        "colab": {
          "base_uri": "https://localhost:8080/"
        },
        "id": "2fFGacqNZ2Al",
        "outputId": "9d7118b8-5c5f-4c1d-b3a9-f39bae62505d"
      },
      "source": [
        "import numpy as np\n",
        "import pandas as pd\n",
        "from pandas.core.common import flatten\n",
        "from sklearn.model_selection import train_test_split\n",
        "from sklearn.model_selection import cross_val_score\n",
        "from sklearn import preprocessing\n",
        "from sklearn.preprocessing import OneHotEncoder\n",
        "import matplotlib.pyplot as plt\n",
        "from sklearn import tree\n",
        "import seaborn as sns\n",
        "from sklearn.preprocessing import StandardScaler\n",
        "from sklearn.preprocessing import MinMaxScaler\n",
        "import io\n",
        "\n",
        "from google.colab import drive\n",
        "drive.mount('/content/drive')\n",
        "#Reading the data using Pandas library\n"
      ],
      "execution_count": null,
      "outputs": [
        {
          "output_type": "stream",
          "text": [
            "Drive already mounted at /content/drive; to attempt to forcibly remount, call drive.mount(\"/content/drive\", force_remount=True).\n"
          ],
          "name": "stdout"
        }
      ]
    },
    {
      "cell_type": "code",
      "metadata": {
        "id": "4sgASjjShXNk",
        "colab": {
          "base_uri": "https://localhost:8080/"
        },
        "outputId": "ebf86d52-6928-4e1c-9582-0d03a9382ad8"
      },
      "source": [
        "ls"
      ],
      "execution_count": null,
      "outputs": [
        {
          "output_type": "stream",
          "text": [
            " A4_Q1_65.ipynb            'Copy_of_A4_Q1 (3).ipynb'     'Untitled (1)'\n",
            " A4_Q1_65_working.ipynb    'Copy_of_A4_Q1_65 (1).ipynb'   Untitled1.ipynb\n",
            "'A4_Q1 [CM2].ipynb'         Copy_of_A4_Q1.ipynb          'Untitled (2)'\n",
            " A4-Q2.ipynb                COVID_dataset.csv             Untitled2.ipynb\n",
            " A4_Q2_Resnet.ipynb         COVID_dataset_Kaggle.csv     'Untitled (3)'\n",
            " A4submission_covid-2.csv   COVID_dataset_test.csv        Untitled3.ipynb\n",
            "'[CM3]-COVID-FInal.ipynb'   submission_covid-02.csv      'Untitled (4)'\n",
            "'Copy_of_A4_Q1 (1).ipynb'   Untitled                      Untitled4.ipynb\n",
            "'Copy_of_A4_Q1 (2).ipynb'   Untitled0.ipynb\n"
          ],
          "name": "stdout"
        }
      ]
    },
    {
      "cell_type": "code",
      "metadata": {
        "id": "9ozL7inFhGgC",
        "colab": {
          "base_uri": "https://localhost:8080/"
        },
        "outputId": "b72d6f91-cbbe-4ffd-a473-0dbb6767d65b"
      },
      "source": [
        "cd \"drive/My Drive/Colab Notebooks\""
      ],
      "execution_count": null,
      "outputs": [
        {
          "output_type": "stream",
          "text": [
            "[Errno 2] No such file or directory: 'drive/My Drive/Colab Notebooks'\n",
            "/content/drive/My Drive/Colab Notebooks\n"
          ],
          "name": "stdout"
        }
      ]
    },
    {
      "cell_type": "markdown",
      "metadata": {
        "id": "UC93FRGGVurn"
      },
      "source": [
        "**[CM 2] - Loading data**\n",
        "\n",
        "Data is loaded as a dataframe from a CSV file"
      ]
    },
    {
      "cell_type": "code",
      "metadata": {
        "id": "Xwz6rBNAkyzl"
      },
      "source": [
        "df = pd.read_csv('COVID_dataset.csv')\n"
      ],
      "execution_count": null,
      "outputs": []
    },
    {
      "cell_type": "code",
      "metadata": {
        "colab": {
          "base_uri": "https://localhost:8080/",
          "height": 251
        },
        "id": "59Mbtmw7k3pw",
        "outputId": "268f98d9-3b3c-4419-a485-de9d2c880c53"
      },
      "source": [
        "df.head()"
      ],
      "execution_count": null,
      "outputs": [
        {
          "output_type": "execute_result",
          "data": {
            "text/html": [
              "<div>\n",
              "<style scoped>\n",
              "    .dataframe tbody tr th:only-of-type {\n",
              "        vertical-align: middle;\n",
              "    }\n",
              "\n",
              "    .dataframe tbody tr th {\n",
              "        vertical-align: top;\n",
              "    }\n",
              "\n",
              "    .dataframe thead th {\n",
              "        text-align: right;\n",
              "    }\n",
              "</style>\n",
              "<table border=\"1\" class=\"dataframe\">\n",
              "  <thead>\n",
              "    <tr style=\"text-align: right;\">\n",
              "      <th></th>\n",
              "      <th>Accurate_Episode_Date</th>\n",
              "      <th>Case_Reported_Date</th>\n",
              "      <th>Test_Reported_Date</th>\n",
              "      <th>Specimen_Date</th>\n",
              "      <th>Age_Group</th>\n",
              "      <th>Client_Gender</th>\n",
              "      <th>Case_AcquisitionInfo</th>\n",
              "      <th>Reporting_PHU_City</th>\n",
              "      <th>Outbreak_Related</th>\n",
              "      <th>Reporting_PHU_Latitude</th>\n",
              "      <th>Reporting_PHU_Longitude</th>\n",
              "      <th>Outcome1</th>\n",
              "    </tr>\n",
              "  </thead>\n",
              "  <tbody>\n",
              "    <tr>\n",
              "      <th>0</th>\n",
              "      <td>2020-03-30</td>\n",
              "      <td>2020-03-31</td>\n",
              "      <td>2020-03-31</td>\n",
              "      <td>2020-03-30</td>\n",
              "      <td>70s</td>\n",
              "      <td>MALE</td>\n",
              "      <td>OB</td>\n",
              "      <td>Stratford</td>\n",
              "      <td>Yes</td>\n",
              "      <td>43.368662</td>\n",
              "      <td>-81.001913</td>\n",
              "      <td>Fatal</td>\n",
              "    </tr>\n",
              "    <tr>\n",
              "      <th>1</th>\n",
              "      <td>2021-01-22</td>\n",
              "      <td>2021-01-24</td>\n",
              "      <td>2021-01-24</td>\n",
              "      <td>2021-01-23</td>\n",
              "      <td>50s</td>\n",
              "      <td>FEMALE</td>\n",
              "      <td>NO KNOWN EPI LINK</td>\n",
              "      <td>Newmarket</td>\n",
              "      <td>NaN</td>\n",
              "      <td>44.048023</td>\n",
              "      <td>-79.480239</td>\n",
              "      <td>Not Resolved</td>\n",
              "    </tr>\n",
              "    <tr>\n",
              "      <th>2</th>\n",
              "      <td>2020-03-24</td>\n",
              "      <td>2020-04-14</td>\n",
              "      <td>2020-04-14</td>\n",
              "      <td>2020-04-13</td>\n",
              "      <td>70s</td>\n",
              "      <td>FEMALE</td>\n",
              "      <td>OB</td>\n",
              "      <td>Toronto</td>\n",
              "      <td>Yes</td>\n",
              "      <td>43.656591</td>\n",
              "      <td>-79.379358</td>\n",
              "      <td>Resolved</td>\n",
              "    </tr>\n",
              "    <tr>\n",
              "      <th>3</th>\n",
              "      <td>2021-01-18</td>\n",
              "      <td>2021-01-21</td>\n",
              "      <td>2021-01-21</td>\n",
              "      <td>2021-01-18</td>\n",
              "      <td>&lt;20</td>\n",
              "      <td>MALE</td>\n",
              "      <td>CC</td>\n",
              "      <td>Mississauga</td>\n",
              "      <td>NaN</td>\n",
              "      <td>43.647471</td>\n",
              "      <td>-79.708893</td>\n",
              "      <td>Not Resolved</td>\n",
              "    </tr>\n",
              "    <tr>\n",
              "      <th>4</th>\n",
              "      <td>2020-12-26</td>\n",
              "      <td>2020-12-28</td>\n",
              "      <td>2020-12-28</td>\n",
              "      <td>2020-12-26</td>\n",
              "      <td>60s</td>\n",
              "      <td>MALE</td>\n",
              "      <td>OB</td>\n",
              "      <td>Windsor</td>\n",
              "      <td>Yes</td>\n",
              "      <td>42.308796</td>\n",
              "      <td>-83.033670</td>\n",
              "      <td>Resolved</td>\n",
              "    </tr>\n",
              "  </tbody>\n",
              "</table>\n",
              "</div>"
            ],
            "text/plain": [
              "  Accurate_Episode_Date  ...      Outcome1\n",
              "0            2020-03-30  ...         Fatal\n",
              "1            2021-01-22  ...  Not Resolved\n",
              "2            2020-03-24  ...      Resolved\n",
              "3            2021-01-18  ...  Not Resolved\n",
              "4            2020-12-26  ...      Resolved\n",
              "\n",
              "[5 rows x 12 columns]"
            ]
          },
          "metadata": {
            "tags": []
          },
          "execution_count": 43
        }
      ]
    },
    {
      "cell_type": "markdown",
      "metadata": {
        "id": "K1aP64ucVYEH"
      },
      "source": [
        "**[CM 2] - Data Preprocessing**"
      ]
    },
    {
      "cell_type": "code",
      "metadata": {
        "id": "-WVYQSoRnLIX"
      },
      "source": [
        "#Label encoding\n",
        "le = preprocessing.LabelEncoder()\n",
        "#Here, we are labeling encoding the Outcome1 as Ordinal Categorical (Seriousness or severity of the outcome) data - 0 1 2\n",
        "le.fit(df.Outcome1)\n",
        "le.fit(['Fatal', 'Not Resolved', 'Resolved'])\n",
        "le.classes_\n",
        "df['Outcome1'] = le.transform(df['Outcome1'])"
      ],
      "execution_count": null,
      "outputs": []
    },
    {
      "cell_type": "code",
      "metadata": {
        "colab": {
          "base_uri": "https://localhost:8080/",
          "height": 394
        },
        "id": "ncXZIYOAuWTK",
        "outputId": "b4610048-e5e4-4b75-df78-8df818ef4a6b"
      },
      "source": [
        "#Here we are replacing <20 in Age_Group with 10 so that Sklearn can process it\n",
        "df.loc[(df.Age_Group == '<20'),'Age_Group']='10'\n",
        "\n",
        "#Here we are replacing the missing valves in Outbreak_Related as \"No\"\n",
        "df['Outbreak_Related'] = df['Outbreak_Related'].fillna(\"No\")\n",
        "\n",
        "#Here, we are dropping any row which has any missing values.\n",
        "df = df.dropna(how='any')\n",
        "\n",
        "df = df.drop(['Test_Reported_Date'], axis = 1)\n",
        "df = df.drop(['Specimen_Date'], axis = 1) \n",
        "\n",
        "#Here we are cleaning the 's' in the Age_Group so that sklearn accept the data\n",
        "df = df.reset_index(drop=True)\n",
        "df['Age_Group'] = df['Age_Group'].str.replace(r'\\D', '')\n",
        "df.isnull().sum(axis=0)\n",
        "\n",
        "#Here, we are labeling encoding the Age_Group so that Sklearn treats this feature as Ordinal Categorical data\n",
        "\n",
        "leAg = preprocessing.LabelEncoder()\n",
        "\n",
        "leAg.fit(df.Age_Group)\n",
        "leAg.fit(['10', '20', '30', '40', '50', '60', '70', '80', '90'])\n",
        "leAg.classes_\n",
        "df['Age_Group'] = leAg.transform(df['Age_Group'])\n",
        "\n",
        "leOR = preprocessing.LabelEncoder()\n",
        "\n",
        "#Here, we are labeling encoding the Outbreak_Related as binary - 0 1\n",
        "leOR.fit(df.Outbreak_Related)\n",
        "leOR.fit(['Yes', 'No'])\n",
        "leOR.classes_\n",
        "df['Outbreak_Related'] = leOR.transform(df['Outbreak_Related'])\n",
        "\n",
        "\n",
        "df_pp = df\n",
        "\n",
        "#Here, we are dropping rows with GENDER DIVERSE (treating them as outliers) and UNSPECIFIED (treating them as missing values) \n",
        "df.drop(df[df['Client_Gender'] == 'GENDER DIVERSE'].index, inplace = True) \n",
        "df.drop(df[df['Client_Gender'] == 'UNSPECIFIED'].index, inplace = True) \n",
        "df = df.reset_index(drop=True)\n",
        "\n",
        "#One-hot-encoding\n",
        "enc = OneHotEncoder(handle_unknown='ignore')\n",
        "\n",
        "en_CG = enc.fit_transform(df[['Client_Gender']]).toarray()\n",
        "column_name_Gender = enc.get_feature_names(['Client_Gender'])\n",
        "enc_df_Gender = pd.DataFrame(en_CG, columns= column_name_Gender)\n",
        "\n",
        "en_CA = enc.fit_transform(df[['Case_AcquisitionInfo']]).toarray()\n",
        "column_name_CA = enc.get_feature_names(['Case_AcquisitionInfo'])\n",
        "enc_df_CA = pd.DataFrame(en_CA, columns= column_name_CA)\n",
        "\n",
        "df = df.join(enc_df_Gender)\n",
        "df = df.join(enc_df_CA)\n",
        "\n",
        "#en_City = enc.fit_transform(df[['Reporting_PHU_City']]).toarray()\n",
        "#column_name_City = enc.get_feature_names(['Reporting_PHU_City'])\n",
        "#enc_df_City = pd.DataFrame(en_City, columns= column_name_City)\n",
        "\n",
        "#df = df.join(enc_df_City)\n",
        "\n",
        "#####################################################################\n",
        "#df = df.drop(['Outbreak_Related'], axis = 1) \n",
        "#df = df.drop(['Reporting_PHU_Latitude'], axis = 1) \n",
        "#df = df.drop(['Reporting_PHU_Longitude'], axis = 1) \n",
        "\n",
        "df = df.drop(['Client_Gender'], axis = 1) \n",
        "df = df.drop(['Case_AcquisitionInfo'], axis = 1) \n",
        "df = df.drop(['Reporting_PHU_City'], axis = 1) \n",
        "\n",
        "from datetime import date\n",
        "\n",
        "for i in range(len(df['Accurate_Episode_Date'])):\n",
        "  df['Accurate_Episode_Date'][i] = (date.fromisoformat(df['Accurate_Episode_Date'][i]) - date(2019, 1, 1)).days\n",
        "  df['Case_Reported_Date'][i] = (date.fromisoformat(df['Case_Reported_Date'][i]) - date(2019, 1, 1)).days\n",
        "  #df['Test_Reported_Date'][i] = (date.fromisoformat(df['Test_Reported_Date'][i]) - date(2018, 1, 1)).days\n",
        "  #df['Specimen_Date'][i] = (date.fromisoformat(df['Specimen_Date'][i]) - date(2018, 1, 1)).days\n",
        "\n",
        "df_OC = df['Outcome1']\n",
        "df = df.drop(['Outcome1'], axis = 1) \n",
        "dfX = df\n",
        "df = df.join(df_OC)\n",
        "\n",
        "#X = df_pp.iloc[:,:-1].values\n",
        "#y = df_pp.iloc[:,7].values\n",
        "X = df.iloc[:,:-1].values.astype(float)\n",
        "y = df.iloc[:,14].values.astype(int)\n",
        "\n",
        "\n",
        "\n",
        "print(df.shape)\n",
        "df.head()\n",
        "\n"
      ],
      "execution_count": null,
      "outputs": [
        {
          "output_type": "stream",
          "text": [
            "/usr/local/lib/python3.7/dist-packages/ipykernel_launcher.py:75: SettingWithCopyWarning: \n",
            "A value is trying to be set on a copy of a slice from a DataFrame\n",
            "\n",
            "See the caveats in the documentation: https://pandas.pydata.org/pandas-docs/stable/user_guide/indexing.html#returning-a-view-versus-a-copy\n",
            "/usr/local/lib/python3.7/dist-packages/ipykernel_launcher.py:76: SettingWithCopyWarning: \n",
            "A value is trying to be set on a copy of a slice from a DataFrame\n",
            "\n",
            "See the caveats in the documentation: https://pandas.pydata.org/pandas-docs/stable/user_guide/indexing.html#returning-a-view-versus-a-copy\n"
          ],
          "name": "stderr"
        },
        {
          "output_type": "stream",
          "text": [
            "(14551, 15)\n"
          ],
          "name": "stdout"
        },
        {
          "output_type": "execute_result",
          "data": {
            "text/html": [
              "<div>\n",
              "<style scoped>\n",
              "    .dataframe tbody tr th:only-of-type {\n",
              "        vertical-align: middle;\n",
              "    }\n",
              "\n",
              "    .dataframe tbody tr th {\n",
              "        vertical-align: top;\n",
              "    }\n",
              "\n",
              "    .dataframe thead th {\n",
              "        text-align: right;\n",
              "    }\n",
              "</style>\n",
              "<table border=\"1\" class=\"dataframe\">\n",
              "  <thead>\n",
              "    <tr style=\"text-align: right;\">\n",
              "      <th></th>\n",
              "      <th>Accurate_Episode_Date</th>\n",
              "      <th>Case_Reported_Date</th>\n",
              "      <th>Age_Group</th>\n",
              "      <th>Outbreak_Related</th>\n",
              "      <th>Reporting_PHU_Latitude</th>\n",
              "      <th>Reporting_PHU_Longitude</th>\n",
              "      <th>Client_Gender_FEMALE</th>\n",
              "      <th>Client_Gender_MALE</th>\n",
              "      <th>Case_AcquisitionInfo_CC</th>\n",
              "      <th>Case_AcquisitionInfo_MISSING INFORMATION</th>\n",
              "      <th>Case_AcquisitionInfo_NO KNOWN EPI LINK</th>\n",
              "      <th>Case_AcquisitionInfo_OB</th>\n",
              "      <th>Case_AcquisitionInfo_TRAVEL</th>\n",
              "      <th>Case_AcquisitionInfo_UNSPECIFIED EPI LINK</th>\n",
              "      <th>Outcome1</th>\n",
              "    </tr>\n",
              "  </thead>\n",
              "  <tbody>\n",
              "    <tr>\n",
              "      <th>0</th>\n",
              "      <td>454</td>\n",
              "      <td>455</td>\n",
              "      <td>6</td>\n",
              "      <td>1</td>\n",
              "      <td>43.368662</td>\n",
              "      <td>-81.001913</td>\n",
              "      <td>0.0</td>\n",
              "      <td>1.0</td>\n",
              "      <td>0.0</td>\n",
              "      <td>0.0</td>\n",
              "      <td>0.0</td>\n",
              "      <td>1.0</td>\n",
              "      <td>0.0</td>\n",
              "      <td>0.0</td>\n",
              "      <td>0</td>\n",
              "    </tr>\n",
              "    <tr>\n",
              "      <th>1</th>\n",
              "      <td>752</td>\n",
              "      <td>754</td>\n",
              "      <td>4</td>\n",
              "      <td>0</td>\n",
              "      <td>44.048023</td>\n",
              "      <td>-79.480239</td>\n",
              "      <td>1.0</td>\n",
              "      <td>0.0</td>\n",
              "      <td>0.0</td>\n",
              "      <td>0.0</td>\n",
              "      <td>1.0</td>\n",
              "      <td>0.0</td>\n",
              "      <td>0.0</td>\n",
              "      <td>0.0</td>\n",
              "      <td>1</td>\n",
              "    </tr>\n",
              "    <tr>\n",
              "      <th>2</th>\n",
              "      <td>448</td>\n",
              "      <td>469</td>\n",
              "      <td>6</td>\n",
              "      <td>1</td>\n",
              "      <td>43.656591</td>\n",
              "      <td>-79.379358</td>\n",
              "      <td>1.0</td>\n",
              "      <td>0.0</td>\n",
              "      <td>0.0</td>\n",
              "      <td>0.0</td>\n",
              "      <td>0.0</td>\n",
              "      <td>1.0</td>\n",
              "      <td>0.0</td>\n",
              "      <td>0.0</td>\n",
              "      <td>2</td>\n",
              "    </tr>\n",
              "    <tr>\n",
              "      <th>3</th>\n",
              "      <td>748</td>\n",
              "      <td>751</td>\n",
              "      <td>0</td>\n",
              "      <td>0</td>\n",
              "      <td>43.647471</td>\n",
              "      <td>-79.708893</td>\n",
              "      <td>0.0</td>\n",
              "      <td>1.0</td>\n",
              "      <td>1.0</td>\n",
              "      <td>0.0</td>\n",
              "      <td>0.0</td>\n",
              "      <td>0.0</td>\n",
              "      <td>0.0</td>\n",
              "      <td>0.0</td>\n",
              "      <td>1</td>\n",
              "    </tr>\n",
              "    <tr>\n",
              "      <th>4</th>\n",
              "      <td>725</td>\n",
              "      <td>727</td>\n",
              "      <td>5</td>\n",
              "      <td>1</td>\n",
              "      <td>42.308796</td>\n",
              "      <td>-83.033670</td>\n",
              "      <td>0.0</td>\n",
              "      <td>1.0</td>\n",
              "      <td>0.0</td>\n",
              "      <td>0.0</td>\n",
              "      <td>0.0</td>\n",
              "      <td>1.0</td>\n",
              "      <td>0.0</td>\n",
              "      <td>0.0</td>\n",
              "      <td>2</td>\n",
              "    </tr>\n",
              "  </tbody>\n",
              "</table>\n",
              "</div>"
            ],
            "text/plain": [
              "  Accurate_Episode_Date  ... Outcome1\n",
              "0                   454  ...        0\n",
              "1                   752  ...        1\n",
              "2                   448  ...        2\n",
              "3                   748  ...        1\n",
              "4                   725  ...        2\n",
              "\n",
              "[5 rows x 15 columns]"
            ]
          },
          "metadata": {
            "tags": []
          },
          "execution_count": 45
        }
      ]
    },
    {
      "cell_type": "markdown",
      "metadata": {
        "id": "un_ldNNQV-sc"
      },
      "source": [
        "**[CM 2] - Scaling features Reporting_PHU_Latitude and Reporting_PHU_Longitude**\n",
        "\n",
        "**[CM 2] - Splitting data into train test and validate**"
      ]
    },
    {
      "cell_type": "code",
      "metadata": {
        "id": "qQ2zovLOB7UW"
      },
      "source": [
        "from sklearn.preprocessing import StandardScaler\n",
        "sc_X = StandardScaler()\n",
        "X[:,[4,5]]  = sc_X.fit_transform(X[:,[4,5]])\n",
        "X[:,[0,1,]]  = sc_X.fit_transform(X[:,[0,1]])\n",
        "\n",
        "#Split arrays or matrices into random train and test subsets\n",
        "X_train, X_validate, y_train, y_validate = train_test_split(X, y, test_size=0.40, random_state = 275)\n",
        "X_test, X_validate, y_test, y_validate = train_test_split(X, y, test_size=0.50, random_state = 275)"
      ],
      "execution_count": null,
      "outputs": []
    },
    {
      "cell_type": "markdown",
      "metadata": {
        "id": "m_gtmZqmXrsW"
      },
      "source": [
        "**[CM2] - Importing necessary libraries**"
      ]
    },
    {
      "cell_type": "code",
      "metadata": {
        "id": "sN-G3E5i7Lgx"
      },
      "source": [
        "# MLP with automatic validation set\n",
        "import keras\n",
        "from keras.models import Sequential\n",
        "from keras.layers import Dense, Activation\n",
        "from keras.optimizers import SGD\n",
        "\n",
        "from sklearn.metrics import classification_report, confusion_matrix\n",
        "from keras.models import Sequential\n",
        "from keras.layers import Dense\n",
        "from keras.wrappers.scikit_learn import KerasClassifier\n",
        "from keras.utils import np_utils\n",
        "from sklearn.model_selection import cross_val_score\n",
        "from sklearn.model_selection import KFold\n",
        "from sklearn.preprocessing import LabelEncoder\n",
        "from sklearn.pipeline import Pipeline\n",
        "\n",
        "from keras.layers import Dense,Activation,Dropout \n",
        "from keras.layers.normalization import BatchNormalization \n",
        "from keras.utils import np_utils\n"
      ],
      "execution_count": null,
      "outputs": []
    },
    {
      "cell_type": "markdown",
      "metadata": {
        "id": "6XPHr3kVkCD9"
      },
      "source": [
        "**FULLY CONNECTED DEEP NEURAL NETWORK**"
      ]
    },
    {
      "cell_type": "markdown",
      "metadata": {
        "id": "5H4TDgY3UcVz"
      },
      "source": [
        "**Model A**"
      ]
    },
    {
      "cell_type": "markdown",
      "metadata": {
        "id": "4BljeKpvX2jk"
      },
      "source": [
        "**[CM 2] - Build the architecture and Compile the model**\n",
        "\n",
        "Model A is our first model. It has a total of 4 layers with 2 hidden layers.\n",
        "We will design the NN architecture by deciding the number of layers and activation functions. \n",
        "\n",
        "In the first layer we translate the input dimension of 14 into 100 neurons and apply a Relu activation function.\n",
        "\n",
        "The second layer just like the first is also a dense layer with a ReLu activation function and has 500 neurons. \n",
        "\n",
        "The third layer also a dense layer with a Relu activation function and 300 neurons with a dropout of 0.2. Dropout helps us find the optimum bias-variance spot.\n",
        "\n",
        "The last layer uses a softmax activation function that classifies the 3 categories of the data and has 3 neurons.\n",
        "\n",
        "**[CM 2] - Compiling the Model**\n",
        "\n",
        "Next, we compile the model with the following settings:\n",
        "Loss function — calculates the difference between the output and the target variable. It measures the accuracy of the model during training and we want to minimize this function. In this example, we chose the sparse_categorical_crossentropy loss function because our targets are not one-hot encoded. Its values are integers.\n",
        "\n",
        "Optimizer — how the model is updated and is based on the data and the loss function. We use the Adam optimizer because it's shown to be effective and efficient\n",
        "\n",
        "Metrics — monitors the training and testing steps. Accuracy is a common metric and it measures the fraction of images that are correctly classified."
      ]
    },
    {
      "cell_type": "code",
      "metadata": {
        "id": "hHSoyOv-OaP-"
      },
      "source": [
        "model_a = Sequential()\n",
        "model_a.add(Dense(100, activation='relu', input_dim=14))\n",
        "model_a.add(Dense(500,activation='relu'))\n",
        "model_a.add(Dense(300,activation='relu'))\n",
        "model_a.add(Dropout(0.2))\n",
        "model_a.add(Dense(3,activation='softmax'))\n",
        "#sgd = SGD(lr = 0.01, decay = 1e-6, momentum = 0.9, nesterov=True)\n",
        "model_a.compile(optimizer='adam',\n",
        "              loss='sparse_categorical_crossentropy',\n",
        "              metrics=['accuracy'])"
      ],
      "execution_count": null,
      "outputs": []
    },
    {
      "cell_type": "markdown",
      "metadata": {
        "id": "Qk0T2suuNua3"
      },
      "source": [
        "[CM 2] - **Adding Early Stopping before fitting model**\n",
        "\n",
        "The Early stopping added here mainly applies to the model with 50 epochs as we wanted every other epoch values to be completed\n"
      ]
    },
    {
      "cell_type": "code",
      "metadata": {
        "colab": {
          "base_uri": "https://localhost:8080/"
        },
        "id": "T3Y8FCTHOp4F",
        "outputId": "d72f6922-3f79-44f8-a22a-e3ce502fd167"
      },
      "source": [
        "from keras.callbacks import EarlyStopping\n",
        "import time\n",
        "\n",
        "early_stopping_monitor = EarlyStopping(patience=45)\n",
        "\n",
        "start_train_time = time.time()\n",
        "\n",
        "#Epochs - 10\n",
        "history_a_10 = model_a.fit(X_train, y_train, epochs = 10, batch_size = 8, validation_data=(X_validate, y_validate), callbacks=[early_stopping_monitor])\n",
        "score_a_10 = model_a.evaluate(X_test, y_test, verbose = 0)\n",
        "\n",
        "time_now_10 = time.time()\n",
        "time_10 = (time_now_10 - start_train_time)\n",
        "print(\"--- %s time to train (seconds) for 10 epochs ---\" % time_10)\n",
        "\n",
        "#Epochs - 20\n",
        "history_a_20 = model_a.fit(X_train, y_train, epochs = 20, batch_size = 8, validation_data=(X_validate, y_validate), callbacks=[early_stopping_monitor])\n",
        "score_a_20 = model_a.evaluate(X_test, y_test, verbose = 0)\n",
        "\n",
        "time_now_20 = time.time()\n",
        "time_20 = (time_now_20 - time_now_10)\n",
        "print(\"--- %s time to train (seconds) for 20 epochs ---\" % time_20)\n",
        "\n",
        "#Epochs - 30\n",
        "history_a_30 = model_a.fit(X_train, y_train, epochs = 30, batch_size = 8, validation_data=(X_validate, y_validate), callbacks=[early_stopping_monitor])\n",
        "score_a_30 = model_a.evaluate(X_test, y_test, verbose = 0)\n",
        "\n",
        "time_now_30 = time.time()\n",
        "time_30 = (time_now_30 - time_now_20)\n",
        "print(\"--- %s time to train (seconds) for 30 epochs ---\" % time_30)\n",
        "\n",
        "#Epochs - 40\n",
        "history_a_40 = model_a.fit(X_train, y_train, epochs = 40, batch_size = 8, validation_data=(X_validate, y_validate), callbacks=[early_stopping_monitor])\n",
        "score_a_40 = model_a.evaluate(X_test, y_test, verbose = 0)\n",
        "\n",
        "time_now_40 = time.time()\n",
        "time_40 = (time_now_40 - time_now_30)\n",
        "print(\"--- %s time to train (seconds) for 40 epochs ---\" % time_40)\n",
        "\n",
        "#Epochs - 50\n",
        "history_a_50 = model_a.fit(X_train, y_train, epochs = 50, batch_size = 8, validation_data=(X_validate, y_validate), callbacks=[early_stopping_monitor])\n",
        "score_a_50 = model_a.evaluate(X_test, y_test, verbose = 0)\n",
        "\n",
        "time_now_50 = time.time()\n",
        "time_50 = (time_now_50 - time_now_40)\n",
        "print(\"--- %s time to train (seconds) for 50 epochs ---\" % time_50)"
      ],
      "execution_count": null,
      "outputs": [
        {
          "output_type": "stream",
          "text": [
            "Epoch 1/10\n",
            "1092/1092 [==============================] - 4s 3ms/step - loss: 0.5305 - accuracy: 0.7750 - val_loss: 0.3143 - val_accuracy: 0.8769\n",
            "Epoch 2/10\n",
            "1092/1092 [==============================] - 3s 3ms/step - loss: 0.3215 - accuracy: 0.8815 - val_loss: 0.2948 - val_accuracy: 0.8979\n",
            "Epoch 3/10\n",
            "1092/1092 [==============================] - 3s 3ms/step - loss: 0.2954 - accuracy: 0.8931 - val_loss: 0.2896 - val_accuracy: 0.8936\n",
            "Epoch 4/10\n",
            "1092/1092 [==============================] - 3s 3ms/step - loss: 0.2945 - accuracy: 0.8966 - val_loss: 0.2640 - val_accuracy: 0.9049\n",
            "Epoch 5/10\n",
            "1092/1092 [==============================] - 3s 3ms/step - loss: 0.2801 - accuracy: 0.9001 - val_loss: 0.2491 - val_accuracy: 0.9130\n",
            "Epoch 6/10\n",
            "1092/1092 [==============================] - 3s 3ms/step - loss: 0.2819 - accuracy: 0.8946 - val_loss: 0.2605 - val_accuracy: 0.9020\n",
            "Epoch 7/10\n",
            "1092/1092 [==============================] - 3s 3ms/step - loss: 0.2813 - accuracy: 0.8942 - val_loss: 0.2558 - val_accuracy: 0.9098\n",
            "Epoch 8/10\n",
            "1092/1092 [==============================] - 3s 3ms/step - loss: 0.2739 - accuracy: 0.8989 - val_loss: 0.2473 - val_accuracy: 0.9111\n",
            "Epoch 9/10\n",
            "1092/1092 [==============================] - 3s 3ms/step - loss: 0.2668 - accuracy: 0.9038 - val_loss: 0.2631 - val_accuracy: 0.8984\n",
            "Epoch 10/10\n",
            "1092/1092 [==============================] - 3s 3ms/step - loss: 0.2757 - accuracy: 0.9007 - val_loss: 0.2487 - val_accuracy: 0.9090\n",
            "--- 34.56094002723694 time to train (seconds) for 10 epochs ---\n",
            "Epoch 1/20\n",
            "1092/1092 [==============================] - 3s 3ms/step - loss: 0.2624 - accuracy: 0.9047 - val_loss: 0.2465 - val_accuracy: 0.9115\n",
            "Epoch 2/20\n",
            "1092/1092 [==============================] - 3s 3ms/step - loss: 0.2613 - accuracy: 0.9069 - val_loss: 0.2406 - val_accuracy: 0.9142\n",
            "Epoch 3/20\n",
            "1092/1092 [==============================] - 3s 3ms/step - loss: 0.2616 - accuracy: 0.9060 - val_loss: 0.2420 - val_accuracy: 0.9134\n",
            "Epoch 4/20\n",
            "1092/1092 [==============================] - 3s 3ms/step - loss: 0.2627 - accuracy: 0.9062 - val_loss: 0.2811 - val_accuracy: 0.9041\n",
            "Epoch 5/20\n",
            "1092/1092 [==============================] - 3s 3ms/step - loss: 0.2621 - accuracy: 0.9049 - val_loss: 0.2384 - val_accuracy: 0.9148\n",
            "Epoch 6/20\n",
            "1092/1092 [==============================] - 3s 3ms/step - loss: 0.2559 - accuracy: 0.9080 - val_loss: 0.2895 - val_accuracy: 0.8947\n",
            "Epoch 7/20\n",
            "1092/1092 [==============================] - 3s 3ms/step - loss: 0.2576 - accuracy: 0.9058 - val_loss: 0.2587 - val_accuracy: 0.9075\n",
            "Epoch 8/20\n",
            "1092/1092 [==============================] - 3s 3ms/step - loss: 0.2504 - accuracy: 0.9102 - val_loss: 0.2820 - val_accuracy: 0.8973\n",
            "Epoch 9/20\n",
            "1092/1092 [==============================] - 3s 3ms/step - loss: 0.2541 - accuracy: 0.9078 - val_loss: 0.2778 - val_accuracy: 0.8988\n",
            "Epoch 10/20\n",
            "1092/1092 [==============================] - 3s 3ms/step - loss: 0.2579 - accuracy: 0.9068 - val_loss: 0.2389 - val_accuracy: 0.9118\n",
            "Epoch 11/20\n",
            "1092/1092 [==============================] - 3s 3ms/step - loss: 0.2528 - accuracy: 0.9081 - val_loss: 0.2431 - val_accuracy: 0.9130\n",
            "Epoch 12/20\n",
            "1092/1092 [==============================] - 3s 3ms/step - loss: 0.2491 - accuracy: 0.9113 - val_loss: 0.2443 - val_accuracy: 0.9181\n",
            "Epoch 13/20\n",
            "1092/1092 [==============================] - 3s 3ms/step - loss: 0.2486 - accuracy: 0.9123 - val_loss: 0.2940 - val_accuracy: 0.8962\n",
            "Epoch 14/20\n",
            "1092/1092 [==============================] - 3s 3ms/step - loss: 0.2485 - accuracy: 0.9077 - val_loss: 0.2508 - val_accuracy: 0.9119\n",
            "Epoch 15/20\n",
            "1092/1092 [==============================] - 3s 3ms/step - loss: 0.2497 - accuracy: 0.9111 - val_loss: 0.2576 - val_accuracy: 0.9119\n",
            "Epoch 16/20\n",
            "1092/1092 [==============================] - 3s 3ms/step - loss: 0.2462 - accuracy: 0.9111 - val_loss: 0.2459 - val_accuracy: 0.9158\n",
            "Epoch 17/20\n",
            "1092/1092 [==============================] - 3s 3ms/step - loss: 0.2473 - accuracy: 0.9099 - val_loss: 0.2442 - val_accuracy: 0.9158\n",
            "Epoch 18/20\n",
            "1092/1092 [==============================] - 3s 3ms/step - loss: 0.2395 - accuracy: 0.9139 - val_loss: 0.2496 - val_accuracy: 0.9109\n",
            "Epoch 19/20\n",
            "1092/1092 [==============================] - 4s 3ms/step - loss: 0.2432 - accuracy: 0.9111 - val_loss: 0.3332 - val_accuracy: 0.8958\n",
            "Epoch 20/20\n",
            "1092/1092 [==============================] - 3s 3ms/step - loss: 0.2415 - accuracy: 0.9112 - val_loss: 0.2873 - val_accuracy: 0.9083\n",
            "--- 68.33984589576721 time to train (seconds) for 20 epochs ---\n",
            "Epoch 1/30\n",
            "1092/1092 [==============================] - 3s 3ms/step - loss: 0.2442 - accuracy: 0.9125 - val_loss: 0.2480 - val_accuracy: 0.9134\n",
            "Epoch 2/30\n",
            "1092/1092 [==============================] - 3s 3ms/step - loss: 0.2410 - accuracy: 0.9103 - val_loss: 0.2548 - val_accuracy: 0.9126\n",
            "Epoch 3/30\n",
            "1092/1092 [==============================] - 3s 3ms/step - loss: 0.2412 - accuracy: 0.9109 - val_loss: 0.2507 - val_accuracy: 0.9116\n",
            "Epoch 4/30\n",
            "1092/1092 [==============================] - 3s 3ms/step - loss: 0.2395 - accuracy: 0.9128 - val_loss: 0.2500 - val_accuracy: 0.9159\n",
            "Epoch 5/30\n",
            "1092/1092 [==============================] - 3s 3ms/step - loss: 0.2407 - accuracy: 0.9117 - val_loss: 0.2433 - val_accuracy: 0.9178\n",
            "Epoch 6/30\n",
            "1092/1092 [==============================] - 3s 3ms/step - loss: 0.2393 - accuracy: 0.9137 - val_loss: 0.2748 - val_accuracy: 0.9081\n",
            "Epoch 7/30\n",
            "1092/1092 [==============================] - 3s 3ms/step - loss: 0.2392 - accuracy: 0.9140 - val_loss: 0.2605 - val_accuracy: 0.9100\n",
            "Epoch 8/30\n",
            "1092/1092 [==============================] - 3s 3ms/step - loss: 0.2357 - accuracy: 0.9150 - val_loss: 0.2518 - val_accuracy: 0.9131\n",
            "Epoch 9/30\n",
            "1092/1092 [==============================] - 3s 3ms/step - loss: 0.2358 - accuracy: 0.9175 - val_loss: 0.2490 - val_accuracy: 0.9131\n",
            "Epoch 10/30\n",
            "1092/1092 [==============================] - 3s 3ms/step - loss: 0.2381 - accuracy: 0.9110 - val_loss: 0.2475 - val_accuracy: 0.9138\n",
            "Epoch 11/30\n",
            "1092/1092 [==============================] - 3s 3ms/step - loss: 0.2356 - accuracy: 0.9147 - val_loss: 0.2581 - val_accuracy: 0.9112\n",
            "Epoch 12/30\n",
            "1092/1092 [==============================] - 3s 3ms/step - loss: 0.2311 - accuracy: 0.9142 - val_loss: 0.2572 - val_accuracy: 0.9145\n",
            "Epoch 13/30\n",
            "1092/1092 [==============================] - 3s 3ms/step - loss: 0.2320 - accuracy: 0.9143 - val_loss: 0.2785 - val_accuracy: 0.9079\n",
            "Epoch 14/30\n",
            "1092/1092 [==============================] - 3s 3ms/step - loss: 0.2302 - accuracy: 0.9164 - val_loss: 0.2624 - val_accuracy: 0.9159\n",
            "Epoch 15/30\n",
            "1092/1092 [==============================] - 3s 3ms/step - loss: 0.2315 - accuracy: 0.9141 - val_loss: 0.2594 - val_accuracy: 0.9126\n",
            "Epoch 16/30\n",
            "1092/1092 [==============================] - 3s 3ms/step - loss: 0.2285 - accuracy: 0.9170 - val_loss: 0.3455 - val_accuracy: 0.9170\n",
            "Epoch 17/30\n",
            "1092/1092 [==============================] - 3s 3ms/step - loss: 0.2415 - accuracy: 0.9160 - val_loss: 0.2526 - val_accuracy: 0.9142\n",
            "Epoch 18/30\n",
            "1092/1092 [==============================] - 3s 3ms/step - loss: 0.2291 - accuracy: 0.9152 - val_loss: 0.2569 - val_accuracy: 0.9148\n",
            "Epoch 19/30\n",
            "1092/1092 [==============================] - 4s 3ms/step - loss: 0.2275 - accuracy: 0.9144 - val_loss: 0.2545 - val_accuracy: 0.9175\n",
            "Epoch 20/30\n",
            "1092/1092 [==============================] - 4s 3ms/step - loss: 0.2294 - accuracy: 0.9170 - val_loss: 0.2633 - val_accuracy: 0.9149\n",
            "Epoch 21/30\n",
            "1092/1092 [==============================] - 3s 3ms/step - loss: 0.2264 - accuracy: 0.9179 - val_loss: 0.2719 - val_accuracy: 0.9141\n",
            "Epoch 22/30\n",
            "1092/1092 [==============================] - 3s 3ms/step - loss: 0.2231 - accuracy: 0.9168 - val_loss: 0.2745 - val_accuracy: 0.9074\n",
            "Epoch 23/30\n",
            "1092/1092 [==============================] - 3s 3ms/step - loss: 0.2295 - accuracy: 0.9155 - val_loss: 0.2666 - val_accuracy: 0.9182\n",
            "Epoch 24/30\n",
            "1092/1092 [==============================] - 3s 3ms/step - loss: 0.2272 - accuracy: 0.9175 - val_loss: 0.2618 - val_accuracy: 0.9175\n",
            "Epoch 25/30\n",
            "1092/1092 [==============================] - 3s 3ms/step - loss: 0.2221 - accuracy: 0.9153 - val_loss: 0.2786 - val_accuracy: 0.9156\n",
            "Epoch 26/30\n",
            "1092/1092 [==============================] - 3s 3ms/step - loss: 0.2271 - accuracy: 0.9191 - val_loss: 0.2733 - val_accuracy: 0.9164\n",
            "Epoch 27/30\n",
            "1092/1092 [==============================] - 3s 3ms/step - loss: 0.2323 - accuracy: 0.9156 - val_loss: 0.2623 - val_accuracy: 0.9179\n",
            "Epoch 28/30\n",
            "1092/1092 [==============================] - 3s 3ms/step - loss: 0.2213 - accuracy: 0.9191 - val_loss: 0.2804 - val_accuracy: 0.9178\n",
            "Epoch 29/30\n",
            "1092/1092 [==============================] - 3s 3ms/step - loss: 0.2203 - accuracy: 0.9179 - val_loss: 0.2815 - val_accuracy: 0.9158\n",
            "Epoch 30/30\n",
            "1092/1092 [==============================] - 3s 3ms/step - loss: 0.2215 - accuracy: 0.9190 - val_loss: 0.2830 - val_accuracy: 0.9138\n",
            "--- 102.68569684028625 time to train (seconds) for 30 epochs ---\n",
            "Epoch 1/40\n",
            "1092/1092 [==============================] - 3s 3ms/step - loss: 0.2174 - accuracy: 0.9196 - val_loss: 0.2848 - val_accuracy: 0.9126\n",
            "Epoch 2/40\n",
            "1092/1092 [==============================] - 3s 3ms/step - loss: 0.2224 - accuracy: 0.9187 - val_loss: 0.2674 - val_accuracy: 0.9170\n",
            "Epoch 3/40\n",
            "1092/1092 [==============================] - 3s 3ms/step - loss: 0.2202 - accuracy: 0.9190 - val_loss: 0.2833 - val_accuracy: 0.9137\n",
            "Epoch 4/40\n",
            "1092/1092 [==============================] - 3s 3ms/step - loss: 0.2157 - accuracy: 0.9194 - val_loss: 0.2756 - val_accuracy: 0.9144\n",
            "Epoch 5/40\n",
            "1092/1092 [==============================] - 3s 3ms/step - loss: 0.2164 - accuracy: 0.9196 - val_loss: 0.2748 - val_accuracy: 0.9179\n",
            "Epoch 6/40\n",
            "1092/1092 [==============================] - 3s 3ms/step - loss: 0.2131 - accuracy: 0.9205 - val_loss: 0.2827 - val_accuracy: 0.9138\n",
            "Epoch 7/40\n",
            "1092/1092 [==============================] - 4s 3ms/step - loss: 0.2201 - accuracy: 0.9187 - val_loss: 0.2828 - val_accuracy: 0.9127\n",
            "Epoch 8/40\n",
            "1092/1092 [==============================] - 3s 3ms/step - loss: 0.2185 - accuracy: 0.9211 - val_loss: 0.2758 - val_accuracy: 0.9134\n",
            "Epoch 9/40\n",
            "1092/1092 [==============================] - 3s 3ms/step - loss: 0.2201 - accuracy: 0.9194 - val_loss: 0.2993 - val_accuracy: 0.9182\n",
            "Epoch 10/40\n",
            "1092/1092 [==============================] - 4s 3ms/step - loss: 0.2168 - accuracy: 0.9223 - val_loss: 0.2765 - val_accuracy: 0.9192\n",
            "Epoch 11/40\n",
            "1092/1092 [==============================] - 4s 3ms/step - loss: 0.2121 - accuracy: 0.9229 - val_loss: 0.2830 - val_accuracy: 0.9127\n",
            "Epoch 12/40\n",
            "1092/1092 [==============================] - 4s 3ms/step - loss: 0.2140 - accuracy: 0.9222 - val_loss: 0.2846 - val_accuracy: 0.9129\n",
            "Epoch 13/40\n",
            "1092/1092 [==============================] - 3s 3ms/step - loss: 0.2183 - accuracy: 0.9207 - val_loss: 0.2871 - val_accuracy: 0.9133\n",
            "Epoch 14/40\n",
            "1092/1092 [==============================] - 3s 3ms/step - loss: 0.2077 - accuracy: 0.9233 - val_loss: 0.2845 - val_accuracy: 0.9109\n",
            "Epoch 15/40\n",
            "1092/1092 [==============================] - 3s 3ms/step - loss: 0.2137 - accuracy: 0.9205 - val_loss: 0.3046 - val_accuracy: 0.9156\n",
            "Epoch 16/40\n",
            "1092/1092 [==============================] - 4s 3ms/step - loss: 0.2117 - accuracy: 0.9213 - val_loss: 0.3128 - val_accuracy: 0.9109\n",
            "Epoch 17/40\n",
            "1092/1092 [==============================] - 3s 3ms/step - loss: 0.2092 - accuracy: 0.9203 - val_loss: 0.2908 - val_accuracy: 0.9123\n",
            "Epoch 18/40\n",
            "1092/1092 [==============================] - 3s 3ms/step - loss: 0.2225 - accuracy: 0.9195 - val_loss: 0.2786 - val_accuracy: 0.9156\n",
            "Epoch 19/40\n",
            "1092/1092 [==============================] - 3s 3ms/step - loss: 0.2134 - accuracy: 0.9221 - val_loss: 0.2960 - val_accuracy: 0.9116\n",
            "Epoch 20/40\n",
            "1092/1092 [==============================] - 3s 3ms/step - loss: 0.2055 - accuracy: 0.9236 - val_loss: 0.3418 - val_accuracy: 0.9083\n",
            "Epoch 21/40\n",
            "1092/1092 [==============================] - 3s 3ms/step - loss: 0.2072 - accuracy: 0.9233 - val_loss: 0.3010 - val_accuracy: 0.9181\n",
            "Epoch 22/40\n",
            "1092/1092 [==============================] - 3s 3ms/step - loss: 0.2083 - accuracy: 0.9222 - val_loss: 0.2940 - val_accuracy: 0.9137\n",
            "Epoch 23/40\n",
            "1092/1092 [==============================] - 3s 3ms/step - loss: 0.2081 - accuracy: 0.9238 - val_loss: 0.2898 - val_accuracy: 0.9168\n",
            "Epoch 24/40\n",
            "1092/1092 [==============================] - 3s 3ms/step - loss: 0.2095 - accuracy: 0.9226 - val_loss: 0.3497 - val_accuracy: 0.9020\n",
            "Epoch 25/40\n",
            "1092/1092 [==============================] - 3s 3ms/step - loss: 0.2085 - accuracy: 0.9237 - val_loss: 0.2980 - val_accuracy: 0.9126\n",
            "Epoch 26/40\n",
            "1092/1092 [==============================] - 3s 3ms/step - loss: 0.2056 - accuracy: 0.9227 - val_loss: 0.3125 - val_accuracy: 0.9100\n",
            "Epoch 27/40\n",
            "1092/1092 [==============================] - 3s 3ms/step - loss: 0.2102 - accuracy: 0.9216 - val_loss: 0.2884 - val_accuracy: 0.9111\n",
            "Epoch 28/40\n",
            "1092/1092 [==============================] - 3s 3ms/step - loss: 0.2040 - accuracy: 0.9243 - val_loss: 0.2942 - val_accuracy: 0.9116\n",
            "Epoch 29/40\n",
            "1092/1092 [==============================] - 3s 3ms/step - loss: 0.2005 - accuracy: 0.9250 - val_loss: 0.2956 - val_accuracy: 0.9182\n",
            "Epoch 30/40\n",
            "1092/1092 [==============================] - 3s 3ms/step - loss: 0.2052 - accuracy: 0.9218 - val_loss: 0.3256 - val_accuracy: 0.9034\n",
            "Epoch 31/40\n",
            "1092/1092 [==============================] - 3s 3ms/step - loss: 0.2033 - accuracy: 0.9242 - val_loss: 0.3121 - val_accuracy: 0.9145\n",
            "Epoch 32/40\n",
            "1092/1092 [==============================] - 3s 3ms/step - loss: 0.2071 - accuracy: 0.9238 - val_loss: 0.3011 - val_accuracy: 0.9129\n",
            "Epoch 33/40\n",
            "1092/1092 [==============================] - 3s 3ms/step - loss: 0.2074 - accuracy: 0.9253 - val_loss: 0.2878 - val_accuracy: 0.9171\n",
            "Epoch 34/40\n",
            "1092/1092 [==============================] - 3s 3ms/step - loss: 0.2054 - accuracy: 0.9247 - val_loss: 0.2953 - val_accuracy: 0.9153\n",
            "Epoch 35/40\n",
            "1092/1092 [==============================] - 3s 3ms/step - loss: 0.1982 - accuracy: 0.9255 - val_loss: 0.2977 - val_accuracy: 0.9137\n",
            "Epoch 36/40\n",
            "1092/1092 [==============================] - 3s 3ms/step - loss: 0.2176 - accuracy: 0.9221 - val_loss: 0.3072 - val_accuracy: 0.9140\n",
            "Epoch 37/40\n",
            "1092/1092 [==============================] - 3s 3ms/step - loss: 0.1950 - accuracy: 0.9275 - val_loss: 0.3162 - val_accuracy: 0.9182\n",
            "Epoch 38/40\n",
            "1092/1092 [==============================] - 3s 3ms/step - loss: 0.2021 - accuracy: 0.9247 - val_loss: 0.3122 - val_accuracy: 0.9147\n",
            "Epoch 39/40\n",
            "1092/1092 [==============================] - 3s 3ms/step - loss: 0.2062 - accuracy: 0.9226 - val_loss: 0.3157 - val_accuracy: 0.9162\n",
            "Epoch 40/40\n",
            "1092/1092 [==============================] - 3s 3ms/step - loss: 0.2036 - accuracy: 0.9265 - val_loss: 0.3106 - val_accuracy: 0.9178\n",
            "--- 138.13630199432373 time to train (seconds) for 40 epochs ---\n",
            "Epoch 1/50\n",
            "1092/1092 [==============================] - 3s 3ms/step - loss: 0.1990 - accuracy: 0.9231 - val_loss: 0.3135 - val_accuracy: 0.9174\n",
            "Epoch 2/50\n",
            "1092/1092 [==============================] - 3s 3ms/step - loss: 0.2028 - accuracy: 0.9238 - val_loss: 0.2982 - val_accuracy: 0.9181\n",
            "Epoch 3/50\n",
            "1092/1092 [==============================] - 3s 3ms/step - loss: 0.2120 - accuracy: 0.9235 - val_loss: 0.2994 - val_accuracy: 0.9158\n",
            "Epoch 4/50\n",
            "1092/1092 [==============================] - 3s 3ms/step - loss: 0.2038 - accuracy: 0.9258 - val_loss: 0.3129 - val_accuracy: 0.9109\n",
            "Epoch 5/50\n",
            "1092/1092 [==============================] - 3s 3ms/step - loss: 0.1981 - accuracy: 0.9247 - val_loss: 0.3423 - val_accuracy: 0.9138\n",
            "Epoch 6/50\n",
            "1092/1092 [==============================] - 3s 3ms/step - loss: 0.1977 - accuracy: 0.9252 - val_loss: 0.3082 - val_accuracy: 0.9140\n",
            "Epoch 7/50\n",
            "1092/1092 [==============================] - 3s 3ms/step - loss: 0.1970 - accuracy: 0.9265 - val_loss: 0.3111 - val_accuracy: 0.9156\n",
            "Epoch 8/50\n",
            "1092/1092 [==============================] - 3s 3ms/step - loss: 0.2015 - accuracy: 0.9273 - val_loss: 0.3084 - val_accuracy: 0.9171\n",
            "Epoch 9/50\n",
            "1092/1092 [==============================] - 3s 3ms/step - loss: 0.1915 - accuracy: 0.9290 - val_loss: 0.3138 - val_accuracy: 0.9166\n",
            "Epoch 10/50\n",
            "1092/1092 [==============================] - 3s 3ms/step - loss: 0.1937 - accuracy: 0.9267 - val_loss: 0.3450 - val_accuracy: 0.9107\n",
            "Epoch 11/50\n",
            "1092/1092 [==============================] - 3s 3ms/step - loss: 0.1978 - accuracy: 0.9254 - val_loss: 0.3497 - val_accuracy: 0.9163\n",
            "Epoch 12/50\n",
            "1092/1092 [==============================] - 3s 3ms/step - loss: 0.2016 - accuracy: 0.9284 - val_loss: 0.3499 - val_accuracy: 0.9148\n",
            "Epoch 13/50\n",
            "1092/1092 [==============================] - 3s 3ms/step - loss: 0.2055 - accuracy: 0.9269 - val_loss: 0.3385 - val_accuracy: 0.9134\n",
            "Epoch 14/50\n",
            "1092/1092 [==============================] - 3s 3ms/step - loss: 0.2010 - accuracy: 0.9253 - val_loss: 0.3114 - val_accuracy: 0.9148\n",
            "Epoch 15/50\n",
            "1092/1092 [==============================] - 3s 3ms/step - loss: 0.1939 - accuracy: 0.9268 - val_loss: 0.3383 - val_accuracy: 0.9140\n",
            "Epoch 16/50\n",
            "1092/1092 [==============================] - 3s 3ms/step - loss: 0.1923 - accuracy: 0.9270 - val_loss: 0.3466 - val_accuracy: 0.9156\n",
            "Epoch 17/50\n",
            "1092/1092 [==============================] - 3s 3ms/step - loss: 0.1945 - accuracy: 0.9273 - val_loss: 0.3064 - val_accuracy: 0.9166\n",
            "Epoch 18/50\n",
            "1092/1092 [==============================] - 3s 3ms/step - loss: 0.1899 - accuracy: 0.9274 - val_loss: 0.3782 - val_accuracy: 0.9151\n",
            "Epoch 19/50\n",
            "1092/1092 [==============================] - 3s 3ms/step - loss: 0.2048 - accuracy: 0.9244 - val_loss: 0.3554 - val_accuracy: 0.9076\n",
            "Epoch 20/50\n",
            "1092/1092 [==============================] - 3s 3ms/step - loss: 0.1886 - accuracy: 0.9260 - val_loss: 0.3391 - val_accuracy: 0.9158\n",
            "Epoch 21/50\n",
            "1092/1092 [==============================] - 3s 3ms/step - loss: 0.1985 - accuracy: 0.9296 - val_loss: 0.3336 - val_accuracy: 0.9125\n",
            "Epoch 22/50\n",
            "1092/1092 [==============================] - 3s 3ms/step - loss: 0.1965 - accuracy: 0.9255 - val_loss: 0.3666 - val_accuracy: 0.9093\n",
            "Epoch 23/50\n",
            "1092/1092 [==============================] - 3s 3ms/step - loss: 0.2019 - accuracy: 0.9247 - val_loss: 0.3279 - val_accuracy: 0.9162\n",
            "Epoch 24/50\n",
            "1092/1092 [==============================] - 3s 3ms/step - loss: 0.1883 - accuracy: 0.9306 - val_loss: 0.3436 - val_accuracy: 0.9119\n",
            "Epoch 25/50\n",
            "1092/1092 [==============================] - 3s 3ms/step - loss: 0.1928 - accuracy: 0.9271 - val_loss: 0.3180 - val_accuracy: 0.9142\n",
            "Epoch 26/50\n",
            "1092/1092 [==============================] - 3s 3ms/step - loss: 0.2038 - accuracy: 0.9270 - val_loss: 0.3189 - val_accuracy: 0.9155\n",
            "Epoch 27/50\n",
            "1092/1092 [==============================] - 3s 3ms/step - loss: 0.1919 - accuracy: 0.9293 - val_loss: 0.3333 - val_accuracy: 0.9120\n",
            "Epoch 28/50\n",
            "1092/1092 [==============================] - 3s 3ms/step - loss: 0.1953 - accuracy: 0.9267 - val_loss: 0.3261 - val_accuracy: 0.9138\n",
            "Epoch 29/50\n",
            "1092/1092 [==============================] - 3s 3ms/step - loss: 0.1910 - accuracy: 0.9284 - val_loss: 0.3382 - val_accuracy: 0.9126\n",
            "Epoch 30/50\n",
            "1092/1092 [==============================] - 3s 3ms/step - loss: 0.1930 - accuracy: 0.9285 - val_loss: 0.3654 - val_accuracy: 0.9108\n",
            "Epoch 31/50\n",
            "1092/1092 [==============================] - 3s 3ms/step - loss: 0.1866 - accuracy: 0.9291 - val_loss: 0.3847 - val_accuracy: 0.9171\n",
            "Epoch 32/50\n",
            "1092/1092 [==============================] - 3s 3ms/step - loss: 0.1897 - accuracy: 0.9296 - val_loss: 0.3563 - val_accuracy: 0.9167\n",
            "Epoch 33/50\n",
            "1092/1092 [==============================] - 3s 3ms/step - loss: 0.1909 - accuracy: 0.9271 - val_loss: 0.3583 - val_accuracy: 0.9173\n",
            "Epoch 34/50\n",
            "1092/1092 [==============================] - 3s 3ms/step - loss: 0.1919 - accuracy: 0.9286 - val_loss: 0.3924 - val_accuracy: 0.9097\n",
            "Epoch 35/50\n",
            "1092/1092 [==============================] - 3s 3ms/step - loss: 0.1971 - accuracy: 0.9278 - val_loss: 0.3730 - val_accuracy: 0.9151\n",
            "Epoch 36/50\n",
            "1092/1092 [==============================] - 4s 3ms/step - loss: 0.1924 - accuracy: 0.9255 - val_loss: 0.3551 - val_accuracy: 0.9087\n",
            "Epoch 37/50\n",
            "1092/1092 [==============================] - 3s 3ms/step - loss: 0.2003 - accuracy: 0.9270 - val_loss: 0.3398 - val_accuracy: 0.9163\n",
            "Epoch 38/50\n",
            "1092/1092 [==============================] - 3s 3ms/step - loss: 0.1907 - accuracy: 0.9270 - val_loss: 0.3622 - val_accuracy: 0.9160\n",
            "Epoch 39/50\n",
            "1092/1092 [==============================] - 3s 3ms/step - loss: 0.1871 - accuracy: 0.9296 - val_loss: 0.3779 - val_accuracy: 0.9174\n",
            "Epoch 40/50\n",
            "1092/1092 [==============================] - 3s 3ms/step - loss: 0.1890 - accuracy: 0.9274 - val_loss: 0.3378 - val_accuracy: 0.9148\n",
            "Epoch 41/50\n",
            "1092/1092 [==============================] - 3s 3ms/step - loss: 0.1874 - accuracy: 0.9285 - val_loss: 0.3785 - val_accuracy: 0.9155\n",
            "Epoch 42/50\n",
            "1092/1092 [==============================] - 3s 3ms/step - loss: 0.1965 - accuracy: 0.9290 - val_loss: 0.3415 - val_accuracy: 0.9133\n",
            "Epoch 43/50\n",
            "1092/1092 [==============================] - 3s 3ms/step - loss: 0.1899 - accuracy: 0.9289 - val_loss: 0.3672 - val_accuracy: 0.9153\n",
            "Epoch 44/50\n",
            "1092/1092 [==============================] - 3s 3ms/step - loss: 0.1838 - accuracy: 0.9299 - val_loss: 0.3925 - val_accuracy: 0.9171\n",
            "Epoch 45/50\n",
            "1092/1092 [==============================] - 3s 3ms/step - loss: 0.2014 - accuracy: 0.9257 - val_loss: 0.3584 - val_accuracy: 0.9142\n",
            "Epoch 46/50\n",
            "1092/1092 [==============================] - 3s 3ms/step - loss: 0.1944 - accuracy: 0.9286 - val_loss: 0.3620 - val_accuracy: 0.9153\n",
            "Epoch 47/50\n",
            "1092/1092 [==============================] - 3s 3ms/step - loss: 0.1820 - accuracy: 0.9286 - val_loss: 0.4076 - val_accuracy: 0.9155\n",
            "--- 162.43443179130554 time to train (seconds) for 50 epochs ---\n"
          ],
          "name": "stdout"
        }
      ]
    },
    {
      "cell_type": "markdown",
      "metadata": {
        "id": "mmhcM5yQaJ4u"
      },
      "source": [
        "**[CM 2] - Comparing accuracies between the model fit on different number of epochs**\n",
        "\n"
      ]
    },
    {
      "cell_type": "code",
      "metadata": {
        "colab": {
          "base_uri": "https://localhost:8080/",
          "height": 541
        },
        "id": "a-ydcVAPUNxk",
        "outputId": "eb3d4f92-0269-4164-d1f7-c05425bf1051"
      },
      "source": [
        "#Comparing Accuracies for Model A\n",
        "\n",
        "epochs_a = [10, 20, 30, 40, 50]\n",
        "accuracies_a = [score_a_10[1], score_a_20[1],score_a_30[1],score_a_40[1],score_a_50[1]]\n",
        "\n",
        "plt.xlabel(\"Epochs\")\n",
        "plt.ylabel(\"Accuracies (%)\")\n",
        "\n",
        "plt.plot(epochs_a, accuracies_a)\n",
        "\n",
        "plt.show()\n",
        "\n",
        "train_time_a = [time_10, time_20, time_30, time_40, time_50]\n",
        "accuracies_a = [score_a_10[1], score_a_20[1],score_a_30[1],score_a_40[1],score_a_50[1]]\n",
        "\n",
        "plt.xlabel(\"Time to Train\")\n",
        "plt.ylabel(\"Accuracies (%)\")\n",
        "\n",
        "plt.plot(train_time_a, accuracies_a)\n",
        "\n",
        "plt.show()\n"
      ],
      "execution_count": null,
      "outputs": [
        {
          "output_type": "display_data",
          "data": {
            "image/png": "[encoded data removed]",
            "text/plain": [
              "<Figure size 432x288 with 1 Axes>"
            ]
          },
          "metadata": {
            "tags": [],
            "needs_background": "light"
          }
        },
        {
          "output_type": "display_data",
          "data": {
            "image/png": "[encoded data removed]",
            "text/plain": [
              "<Figure size 432x288 with 1 Axes>"
            ]
          },
          "metadata": {
            "tags": [],
            "needs_background": "light"
          }
        }
      ]
    },
    {
      "cell_type": "markdown",
      "metadata": {
        "id": "i0dWKioEdlQD"
      },
      "source": [
        "**[CM 2]- Selecting the optimal epoch value to test on Kaggle test data**"
      ]
    },
    {
      "cell_type": "code",
      "metadata": {
        "colab": {
          "base_uri": "https://localhost:8080/"
        },
        "id": "wtKkz4CtmKgZ",
        "outputId": "0d6137bb-2cc9-4a84-8262-fe31cae868b1"
      },
      "source": [
        "from keras.callbacks import EarlyStopping\n",
        "import time\n",
        "\n",
        "early_stopping_monitor = EarlyStopping(patience=25)\n",
        "\n",
        "#Epochs - 30\n",
        "\n",
        "import time\n",
        "\n",
        "time_train_a = time.time()\n",
        "\n",
        "history_a_30 = model_a.fit(X_train, y_train, epochs = 30, batch_size = 8, validation_data=(X_validate, y_validate), callbacks=[early_stopping_monitor])\n",
        "\n",
        "time_train_a = time.time() - time_train_a"
      ],
      "execution_count": null,
      "outputs": [
        {
          "output_type": "stream",
          "text": [
            "Epoch 1/30\n",
            "1092/1092 [==============================] - 3s 3ms/step - loss: 0.1930 - accuracy: 0.9283 - val_loss: 0.3690 - val_accuracy: 0.9151\n",
            "Epoch 2/30\n",
            "1092/1092 [==============================] - 3s 3ms/step - loss: 0.1840 - accuracy: 0.9309 - val_loss: 0.3982 - val_accuracy: 0.9068\n",
            "Epoch 3/30\n",
            "1092/1092 [==============================] - 3s 3ms/step - loss: 0.1829 - accuracy: 0.9313 - val_loss: 0.4135 - val_accuracy: 0.9068\n",
            "Epoch 4/30\n",
            "1092/1092 [==============================] - 3s 3ms/step - loss: 0.1844 - accuracy: 0.9293 - val_loss: 0.3949 - val_accuracy: 0.9148\n",
            "Epoch 5/30\n",
            "1092/1092 [==============================] - 3s 3ms/step - loss: 0.1858 - accuracy: 0.9274 - val_loss: 0.3736 - val_accuracy: 0.9129\n",
            "Epoch 6/30\n",
            "1092/1092 [==============================] - 3s 3ms/step - loss: 0.1948 - accuracy: 0.9284 - val_loss: 0.3766 - val_accuracy: 0.9114\n",
            "Epoch 7/30\n",
            "1092/1092 [==============================] - 3s 3ms/step - loss: 0.1859 - accuracy: 0.9305 - val_loss: 0.3908 - val_accuracy: 0.9145\n",
            "Epoch 8/30\n",
            "1092/1092 [==============================] - 3s 3ms/step - loss: 0.1873 - accuracy: 0.9301 - val_loss: 0.4077 - val_accuracy: 0.9127\n",
            "Epoch 9/30\n",
            "1092/1092 [==============================] - 3s 3ms/step - loss: 0.1845 - accuracy: 0.9316 - val_loss: 0.3834 - val_accuracy: 0.9181\n",
            "Epoch 10/30\n",
            "1092/1092 [==============================] - 3s 3ms/step - loss: 0.1899 - accuracy: 0.9313 - val_loss: 0.3646 - val_accuracy: 0.9171\n",
            "Epoch 11/30\n",
            "1092/1092 [==============================] - 3s 3ms/step - loss: 0.1915 - accuracy: 0.9288 - val_loss: 0.4004 - val_accuracy: 0.9153\n",
            "Epoch 12/30\n",
            "1092/1092 [==============================] - 3s 3ms/step - loss: 0.1836 - accuracy: 0.9299 - val_loss: 0.3848 - val_accuracy: 0.9134\n",
            "Epoch 13/30\n",
            "1092/1092 [==============================] - 3s 3ms/step - loss: 0.1825 - accuracy: 0.9277 - val_loss: 0.3726 - val_accuracy: 0.9160\n",
            "Epoch 14/30\n",
            "1092/1092 [==============================] - 3s 3ms/step - loss: 0.1932 - accuracy: 0.9270 - val_loss: 0.4198 - val_accuracy: 0.9144\n",
            "Epoch 15/30\n",
            "1092/1092 [==============================] - 3s 3ms/step - loss: 0.2014 - accuracy: 0.9297 - val_loss: 0.3900 - val_accuracy: 0.9155\n",
            "Epoch 16/30\n",
            "1092/1092 [==============================] - 3s 3ms/step - loss: 0.1813 - accuracy: 0.9307 - val_loss: 0.4228 - val_accuracy: 0.9153\n",
            "Epoch 17/30\n",
            "1092/1092 [==============================] - 3s 3ms/step - loss: 0.1799 - accuracy: 0.9301 - val_loss: 0.4075 - val_accuracy: 0.9013\n",
            "Epoch 18/30\n",
            "1092/1092 [==============================] - 3s 3ms/step - loss: 0.1875 - accuracy: 0.9305 - val_loss: 0.4105 - val_accuracy: 0.9112\n",
            "Epoch 19/30\n",
            "1092/1092 [==============================] - 3s 3ms/step - loss: 0.1987 - accuracy: 0.9293 - val_loss: 0.3677 - val_accuracy: 0.9167\n",
            "Epoch 20/30\n",
            "1092/1092 [==============================] - 3s 3ms/step - loss: 0.1753 - accuracy: 0.9333 - val_loss: 0.4380 - val_accuracy: 0.9160\n",
            "Epoch 21/30\n",
            "1092/1092 [==============================] - 3s 3ms/step - loss: 0.1901 - accuracy: 0.9282 - val_loss: 0.3512 - val_accuracy: 0.9137\n",
            "Epoch 22/30\n",
            "1092/1092 [==============================] - 3s 3ms/step - loss: 0.1779 - accuracy: 0.9330 - val_loss: 0.3618 - val_accuracy: 0.9166\n",
            "Epoch 23/30\n",
            "1092/1092 [==============================] - 3s 3ms/step - loss: 0.1773 - accuracy: 0.9325 - val_loss: 0.4299 - val_accuracy: 0.9168\n",
            "Epoch 24/30\n",
            "1092/1092 [==============================] - 3s 3ms/step - loss: 0.2218 - accuracy: 0.9261 - val_loss: 0.4041 - val_accuracy: 0.9158\n",
            "Epoch 25/30\n",
            "1092/1092 [==============================] - 3s 3ms/step - loss: 0.1795 - accuracy: 0.9332 - val_loss: 0.4326 - val_accuracy: 0.9181\n",
            "Epoch 26/30\n",
            "1092/1092 [==============================] - 3s 3ms/step - loss: 0.1773 - accuracy: 0.9317 - val_loss: 0.4741 - val_accuracy: 0.9126\n",
            "Epoch 27/30\n",
            "1092/1092 [==============================] - 3s 3ms/step - loss: 0.1933 - accuracy: 0.9288 - val_loss: 0.4244 - val_accuracy: 0.9144\n",
            "Epoch 28/30\n",
            "1092/1092 [==============================] - 3s 3ms/step - loss: 0.1822 - accuracy: 0.9299 - val_loss: 0.4298 - val_accuracy: 0.9174\n",
            "Epoch 29/30\n",
            "1092/1092 [==============================] - 3s 3ms/step - loss: 0.1804 - accuracy: 0.9299 - val_loss: 0.4468 - val_accuracy: 0.9145\n",
            "Epoch 30/30\n",
            "1092/1092 [==============================] - 3s 3ms/step - loss: 0.1850 - accuracy: 0.9314 - val_loss: 0.4449 - val_accuracy: 0.9170\n"
          ],
          "name": "stdout"
        }
      ]
    },
    {
      "cell_type": "code",
      "metadata": {
        "id": "H_nbRnKKvrNY"
      },
      "source": [
        "time_test_a = time.time()\n",
        "\n",
        "score_a_30 = model_a.evaluate(X_test, y_test, verbose = 0)\n",
        "\n",
        "time_test_a = time.time() - time_test_a"
      ],
      "execution_count": null,
      "outputs": []
    },
    {
      "cell_type": "markdown",
      "metadata": {
        "id": "cKmCAXgtl11u"
      },
      "source": [
        "From the above graphs, When Epoch is 30 we have a fair balance of time to train and accuracy "
      ]
    },
    {
      "cell_type": "markdown",
      "metadata": {
        "id": "D-SPKciBdy2m"
      },
      "source": [
        "**[CM 2] - Plotting Accuracy and loss against number of epochs**\n",
        "\n",
        "- It is easy to see that there exists and inverse relationship between accuracy and loss\n",
        "- Subsequently we display a brief summary of the model"
      ]
    },
    {
      "cell_type": "code",
      "metadata": {
        "colab": {
          "base_uri": "https://localhost:8080/",
          "height": 761
        },
        "id": "nzxYAR9UbjF2",
        "outputId": "24d6956c-2448-4c7d-b1c7-3570245660d0"
      },
      "source": [
        "print('Test score:', score_a_30[0])\n",
        "print('Test accuracy:', score_a_30[1])\n",
        "\n",
        "fig, (ax1, ax2) = plt.subplots(2, figsize=(8, 6))\n",
        "\n",
        "acc = history_a_30.history['accuracy']\n",
        "loss = history_a_30.history['loss']\n",
        "val_acc = history_a_30.history['val_accuracy']\n",
        "val_loss = history_a_30.history['val_loss']\n",
        "ax1.plot(val_acc, label='Val')\n",
        "ax1.plot(acc, label='Train')\n",
        "ax2.plot(val_loss, label='Val')\n",
        "ax2.plot(loss, label='Train')\n",
        "    \n",
        "ax1.set_ylabel('accuracy')\n",
        "ax2.set_ylabel('loss')\n",
        "ax2.set_xlabel('epochs')\n",
        "ax1.legend()\n",
        "ax2.legend()\n",
        "plt.show()\n",
        "\n",
        "print(model_a.summary())"
      ],
      "execution_count": null,
      "outputs": [
        {
          "output_type": "stream",
          "text": [
            "Test score: 0.17696747183799744\n",
            "Test accuracy: 0.9338831901550293\n"
          ],
          "name": "stdout"
        },
        {
          "output_type": "display_data",
          "data": {
            "image/png": "[encoded data removed]",
            "text/plain": [
              "<Figure size 576x432 with 2 Axes>"
            ]
          },
          "metadata": {
            "tags": [],
            "needs_background": "light"
          }
        },
        {
          "output_type": "stream",
          "text": [
            "Model: \"sequential_3\"\n",
            "_________________________________________________________________\n",
            "Layer (type)                 Output Shape              Param #   \n",
            "=================================================================\n",
            "dense_11 (Dense)             (None, 100)               1500      \n",
            "_________________________________________________________________\n",
            "dense_12 (Dense)             (None, 500)               50500     \n",
            "_________________________________________________________________\n",
            "dense_13 (Dense)             (None, 300)               150300    \n",
            "_________________________________________________________________\n",
            "dropout_4 (Dropout)          (None, 300)               0         \n",
            "_________________________________________________________________\n",
            "dense_14 (Dense)             (None, 3)                 903       \n",
            "=================================================================\n",
            "Total params: 203,203\n",
            "Trainable params: 203,203\n",
            "Non-trainable params: 0\n",
            "_________________________________________________________________\n",
            "None\n"
          ],
          "name": "stdout"
        }
      ]
    },
    {
      "cell_type": "markdown",
      "metadata": {
        "id": "d4FvFGAaegaD"
      },
      "source": [
        "**[CM 2] - Here we showcase the confusion matrix of the model**"
      ]
    },
    {
      "cell_type": "code",
      "metadata": {
        "colab": {
          "base_uri": "https://localhost:8080/"
        },
        "id": "5ylugE0QJ-7_",
        "outputId": "c0af6591-06e7-4d44-c930-ec6418f1fe56"
      },
      "source": [
        "#import the relevant packages\n",
        "from sklearn import metrics\n",
        "from sklearn.metrics import confusion_matrix, classification_report\n",
        "import seaborn as sns\n",
        "import matplotlib.pyplot as plt\n",
        "\n",
        "y_pred = model_a.predict_classes(X_test)\n",
        "\n",
        "accuracy_default = metrics.accuracy_score(y_test, y_pred)\n",
        "print(accuracy_default)\n",
        "\n",
        "confusion_mtx = confusion_matrix(y_test, y_pred) \n",
        "\n",
        "print(metrics.classification_report((y_test+1),(y_pred+1)))"
      ],
      "execution_count": null,
      "outputs": [
        {
          "output_type": "stream",
          "text": [
            "/usr/local/lib/python3.7/dist-packages/tensorflow/python/keras/engine/sequential.py:450: UserWarning: `model.predict_classes()` is deprecated and will be removed after 2021-01-01. Please use instead:* `np.argmax(model.predict(x), axis=-1)`,   if your model does multi-class classification   (e.g. if it uses a `softmax` last-layer activation).* `(model.predict(x) > 0.5).astype(\"int32\")`,   if your model does binary classification   (e.g. if it uses a `sigmoid` last-layer activation).\n",
            "  warnings.warn('`model.predict_classes()` is deprecated and '\n"
          ],
          "name": "stderr"
        },
        {
          "output_type": "stream",
          "text": [
            "0.9338831615120274\n",
            "              precision    recall  f1-score   support\n",
            "\n",
            "           1       0.89      0.93      0.91      2381\n",
            "           2       0.97      0.98      0.98      2430\n",
            "           3       0.94      0.89      0.91      2464\n",
            "\n",
            "    accuracy                           0.93      7275\n",
            "   macro avg       0.93      0.93      0.93      7275\n",
            "weighted avg       0.93      0.93      0.93      7275\n",
            "\n"
          ],
          "name": "stdout"
        }
      ]
    },
    {
      "cell_type": "markdown",
      "metadata": {
        "id": "etO4cLhiermh"
      },
      "source": [
        "**[CM 2] -  Testing on Kaggle Test Data begins here**"
      ]
    },
    {
      "cell_type": "code",
      "metadata": {
        "colab": {
          "base_uri": "https://localhost:8080/",
          "height": 590
        },
        "id": "-dVKdkp1yOMj",
        "outputId": "bff9d210-b6b1-4e4f-d1c6-2b29378d3ee4"
      },
      "source": [
        "#@title\n",
        "#This is for Kaggle\n",
        "df = pd.read_csv('COVID_dataset_test.csv')\n",
        "print(df.head())\n",
        "\n",
        "#Here we are replacing <20 in Age_Group with 10 so that Sklearn can process it\n",
        "df.loc[(df.Age_Group == '<20'),'Age_Group']='10'\n",
        "\n",
        "#Here we are replacing the missing valves in Outbreak_Related as \"No\"\n",
        "df['Outbreak_Related'] = df['Outbreak_Related'].fillna(\"No\")\n",
        "\n",
        "df = df.drop(['Test_Reported_Date'], axis = 1)\n",
        "df = df.drop(['Specimen_Date'], axis = 1) \n",
        "\n",
        "#df['Test_Reported_Date'] = df['Test_Reported_Date'].fillna('4/14/2020')\n",
        "#df['Specimen_Date'] = df['Specimen_Date'].fillna('4/14/2020')\n",
        "\n",
        "#Here, we are dropping any row which has any missing values.\n",
        "#df = df.dropna(how='any')\n",
        "\n",
        "df.isnull().sum(axis=0)\n",
        "\n",
        "#Here we are cleaning the 's' in the Age_Group so that sklearn accept the data\n",
        "df = df.reset_index(drop=True)\n",
        "df['Age_Group'] = df['Age_Group'].str.replace(r'\\D', '')\n",
        "df.isnull().sum(axis=0)\n",
        "\n",
        "\n",
        "leOR = preprocessing.LabelEncoder()\n",
        "leAg = preprocessing.LabelEncoder()\n",
        "\n",
        "#Here, we are labeling encoding the Outbreak_Related as binary - 0 1\n",
        "leOR.fit(df.Outbreak_Related)\n",
        "leOR.fit(['Yes', 'No'])\n",
        "leOR.classes_\n",
        "df['Outbreak_Related'] = leOR.transform(df['Outbreak_Related'])\n",
        "\n",
        "#Here, we are labeling encoding the Age_Group so that Sklearn treats this feature as Ordinal Categorical data\n",
        "leAg.fit(df.Age_Group)\n",
        "leAg.fit(['10', '20', '30', '40', '50', '60', '70', '80', '90'])\n",
        "leAg.classes_\n",
        "df['Age_Group'] = leAg.transform(df['Age_Group'])\n",
        "\n",
        "df_pp = df\n",
        "\n",
        "#One-hot-encoding\n",
        "enc = OneHotEncoder(handle_unknown='ignore')\n",
        "\n",
        "en_CG = enc.fit_transform(df[['Client_Gender']]).toarray()\n",
        "column_name_Gender = enc.get_feature_names(['Client_Gender'])\n",
        "enc_df_Gender = pd.DataFrame(en_CG, columns= column_name_Gender)\n",
        "\n",
        "en_CA = enc.fit_transform(df[['Case_AcquisitionInfo']]).toarray()\n",
        "column_name_CA = enc.get_feature_names(['Case_AcquisitionInfo'])\n",
        "enc_df_CA = pd.DataFrame(en_CA, columns= column_name_CA)\n",
        "\n",
        "df = df.join(enc_df_Gender)\n",
        "df = df.join(enc_df_CA)\n",
        "\n",
        "#en_City = enc.fit_transform(df[['Reporting_PHU_City']]).toarray()\n",
        "#column_name_City = enc.get_feature_names(['Reporting_PHU_City'])\n",
        "#enc_df_City = pd.DataFrame(en_City, columns= column_name_City)\n",
        "\n",
        "#df = df.join(enc_df_City)\n",
        "\n",
        "#####################################################################\n",
        "#df = df.drop(['Outbreak_Related'], axis = 1) \n",
        "#df = df.drop(['Reporting_PHU_Latitude'], axis = 1) \n",
        "#df = df.drop(['Reporting_PHU_Longitude'], axis = 1) \n",
        "\n",
        "df = df.drop(['Client_Gender'], axis = 1) \n",
        "df = df.drop(['Case_AcquisitionInfo'], axis = 1) \n",
        "df = df.drop(['Reporting_PHU_City'], axis = 1) \n",
        "df = df.drop(['Client_Gender_UNSPECIFIED'], axis = 1) \n",
        "\n",
        "from datetime import date\n",
        "\n",
        "for i in range(len(df['Accurate_Episode_Date'])):\n",
        "  df['Accurate_Episode_Date'][i] = (date.fromisoformat(df['Accurate_Episode_Date'][i]) - date(2018, 1, 1)).days\n",
        "  df['Case_Reported_Date'][i] = (date.fromisoformat(df['Case_Reported_Date'][i]) - date(2018, 1, 1)).days\n",
        "  #df['Test_Reported_Date'][i] = (date.fromisoformat(df['Test_Reported_Date'][i]) - date(2018, 1, 1)).days\n",
        "  #df['Specimen_Date'][i] = (date.fromisoformat(df['Specimen_Date'][i]) - date(2018, 1, 1)).days\n",
        "\n",
        "df_ID = df['id']\n",
        "df = df.drop(['id'], axis = 1) \n",
        "\n",
        "X_FT = df.iloc[:,:].values.astype(float)\n",
        "\n",
        "X_FT[:,[4,5]]  = sc_X.fit_transform(X_FT[:,[4,5]])\n",
        "X_FT[:,[0,1]]  = sc_X.fit_transform(X_FT[:,[0,1]])\n",
        "\n",
        "y_pred_k = model_a.predict_classes(X_FT)\n",
        "print(y_pred_k)\n",
        "\n",
        "print(df.shape)\n",
        "df.head()"
      ],
      "execution_count": null,
      "outputs": [
        {
          "output_type": "stream",
          "text": [
            "   id Accurate_Episode_Date  ... Reporting_PHU_Latitude Reporting_PHU_Longitude\n",
            "0   0            2020-07-03  ...              43.647471              -79.708893\n",
            "1   1            2021-01-05  ...              44.301632              -78.321347\n",
            "2   2            2021-01-02  ...              43.656591              -79.379358\n",
            "3   3            2020-12-04  ...              43.257631              -79.871341\n",
            "4   4            2021-01-17  ...              43.656591              -79.379358\n",
            "\n",
            "[5 rows x 12 columns]\n"
          ],
          "name": "stdout"
        },
        {
          "output_type": "stream",
          "text": [
            "/usr/local/lib/python3.7/dist-packages/ipykernel_launcher.py:79: SettingWithCopyWarning: \n",
            "A value is trying to be set on a copy of a slice from a DataFrame\n",
            "\n",
            "See the caveats in the documentation: https://pandas.pydata.org/pandas-docs/stable/user_guide/indexing.html#returning-a-view-versus-a-copy\n",
            "/usr/local/lib/python3.7/dist-packages/ipykernel_launcher.py:80: SettingWithCopyWarning: \n",
            "A value is trying to be set on a copy of a slice from a DataFrame\n",
            "\n",
            "See the caveats in the documentation: https://pandas.pydata.org/pandas-docs/stable/user_guide/indexing.html#returning-a-view-versus-a-copy\n"
          ],
          "name": "stderr"
        },
        {
          "output_type": "stream",
          "text": [
            "[2 0 2 ... 1 1 0]\n",
            "(3704, 14)\n"
          ],
          "name": "stdout"
        },
        {
          "output_type": "stream",
          "text": [
            "/usr/local/lib/python3.7/dist-packages/tensorflow/python/keras/engine/sequential.py:450: UserWarning: `model.predict_classes()` is deprecated and will be removed after 2021-01-01. Please use instead:* `np.argmax(model.predict(x), axis=-1)`,   if your model does multi-class classification   (e.g. if it uses a `softmax` last-layer activation).* `(model.predict(x) > 0.5).astype(\"int32\")`,   if your model does binary classification   (e.g. if it uses a `sigmoid` last-layer activation).\n",
            "  warnings.warn('`model.predict_classes()` is deprecated and '\n"
          ],
          "name": "stderr"
        },
        {
          "output_type": "execute_result",
          "data": {
            "text/html": [
              "<div>\n",
              "<style scoped>\n",
              "    .dataframe tbody tr th:only-of-type {\n",
              "        vertical-align: middle;\n",
              "    }\n",
              "\n",
              "    .dataframe tbody tr th {\n",
              "        vertical-align: top;\n",
              "    }\n",
              "\n",
              "    .dataframe thead th {\n",
              "        text-align: right;\n",
              "    }\n",
              "</style>\n",
              "<table border=\"1\" class=\"dataframe\">\n",
              "  <thead>\n",
              "    <tr style=\"text-align: right;\">\n",
              "      <th></th>\n",
              "      <th>Accurate_Episode_Date</th>\n",
              "      <th>Case_Reported_Date</th>\n",
              "      <th>Age_Group</th>\n",
              "      <th>Outbreak_Related</th>\n",
              "      <th>Reporting_PHU_Latitude</th>\n",
              "      <th>Reporting_PHU_Longitude</th>\n",
              "      <th>Client_Gender_FEMALE</th>\n",
              "      <th>Client_Gender_MALE</th>\n",
              "      <th>Case_AcquisitionInfo_CC</th>\n",
              "      <th>Case_AcquisitionInfo_MISSING INFORMATION</th>\n",
              "      <th>Case_AcquisitionInfo_NO KNOWN EPI LINK</th>\n",
              "      <th>Case_AcquisitionInfo_OB</th>\n",
              "      <th>Case_AcquisitionInfo_TRAVEL</th>\n",
              "      <th>Case_AcquisitionInfo_UNSPECIFIED EPI LINK</th>\n",
              "    </tr>\n",
              "  </thead>\n",
              "  <tbody>\n",
              "    <tr>\n",
              "      <th>0</th>\n",
              "      <td>914</td>\n",
              "      <td>917</td>\n",
              "      <td>2</td>\n",
              "      <td>0</td>\n",
              "      <td>43.647471</td>\n",
              "      <td>-79.708893</td>\n",
              "      <td>0.0</td>\n",
              "      <td>1.0</td>\n",
              "      <td>1.0</td>\n",
              "      <td>0.0</td>\n",
              "      <td>0.0</td>\n",
              "      <td>0.0</td>\n",
              "      <td>0.0</td>\n",
              "      <td>0.0</td>\n",
              "    </tr>\n",
              "    <tr>\n",
              "      <th>1</th>\n",
              "      <td>1100</td>\n",
              "      <td>1108</td>\n",
              "      <td>7</td>\n",
              "      <td>0</td>\n",
              "      <td>44.301632</td>\n",
              "      <td>-78.321347</td>\n",
              "      <td>1.0</td>\n",
              "      <td>0.0</td>\n",
              "      <td>0.0</td>\n",
              "      <td>0.0</td>\n",
              "      <td>1.0</td>\n",
              "      <td>0.0</td>\n",
              "      <td>0.0</td>\n",
              "      <td>0.0</td>\n",
              "    </tr>\n",
              "    <tr>\n",
              "      <th>2</th>\n",
              "      <td>1097</td>\n",
              "      <td>1102</td>\n",
              "      <td>5</td>\n",
              "      <td>0</td>\n",
              "      <td>43.656591</td>\n",
              "      <td>-79.379358</td>\n",
              "      <td>0.0</td>\n",
              "      <td>1.0</td>\n",
              "      <td>1.0</td>\n",
              "      <td>0.0</td>\n",
              "      <td>0.0</td>\n",
              "      <td>0.0</td>\n",
              "      <td>0.0</td>\n",
              "      <td>0.0</td>\n",
              "    </tr>\n",
              "    <tr>\n",
              "      <th>3</th>\n",
              "      <td>1068</td>\n",
              "      <td>1069</td>\n",
              "      <td>6</td>\n",
              "      <td>1</td>\n",
              "      <td>43.257631</td>\n",
              "      <td>-79.871341</td>\n",
              "      <td>1.0</td>\n",
              "      <td>0.0</td>\n",
              "      <td>0.0</td>\n",
              "      <td>0.0</td>\n",
              "      <td>0.0</td>\n",
              "      <td>1.0</td>\n",
              "      <td>0.0</td>\n",
              "      <td>0.0</td>\n",
              "    </tr>\n",
              "    <tr>\n",
              "      <th>4</th>\n",
              "      <td>1112</td>\n",
              "      <td>1114</td>\n",
              "      <td>3</td>\n",
              "      <td>0</td>\n",
              "      <td>43.656591</td>\n",
              "      <td>-79.379358</td>\n",
              "      <td>0.0</td>\n",
              "      <td>1.0</td>\n",
              "      <td>0.0</td>\n",
              "      <td>1.0</td>\n",
              "      <td>0.0</td>\n",
              "      <td>0.0</td>\n",
              "      <td>0.0</td>\n",
              "      <td>0.0</td>\n",
              "    </tr>\n",
              "  </tbody>\n",
              "</table>\n",
              "</div>"
            ],
            "text/plain": [
              "  Accurate_Episode_Date  ... Case_AcquisitionInfo_UNSPECIFIED EPI LINK\n",
              "0                   914  ...                                       0.0\n",
              "1                  1100  ...                                       0.0\n",
              "2                  1097  ...                                       0.0\n",
              "3                  1068  ...                                       0.0\n",
              "4                  1112  ...                                       0.0\n",
              "\n",
              "[5 rows x 14 columns]"
            ]
          },
          "metadata": {
            "tags": []
          },
          "execution_count": 55
        }
      ]
    },
    {
      "cell_type": "markdown",
      "metadata": {
        "id": "BlwLKyLoe8Y6"
      },
      "source": [
        "**[CM 2] - Inverse Transafrom label encoding of predicted target (This is for the Kaggle Test data too)**"
      ]
    },
    {
      "cell_type": "code",
      "metadata": {
        "colab": {
          "base_uri": "https://localhost:8080/"
        },
        "id": "gLMZuppLx1Cg",
        "outputId": "a52816c7-fb36-41b7-ff0c-892dcb15f33f"
      },
      "source": [
        "#@title\n",
        "y_tar = le.inverse_transform(y_pred_k)\n",
        "print(y_tar)\n",
        "print(y_tar.shape)"
      ],
      "execution_count": null,
      "outputs": [
        {
          "output_type": "stream",
          "text": [
            "['Resolved' 'Fatal' 'Resolved' ... 'Not Resolved' 'Not Resolved' 'Fatal']\n",
            "(3704,)\n"
          ],
          "name": "stdout"
        }
      ]
    },
    {
      "cell_type": "markdown",
      "metadata": {
        "id": "M-OI72U_fLCe"
      },
      "source": [
        "**[CM 2] - Create CSV file containing predicted target information**"
      ]
    },
    {
      "cell_type": "code",
      "metadata": {
        "id": "zxUZI3YMz4_U"
      },
      "source": [
        "#@title\n",
        "my_submission = pd.DataFrame({'id': df_ID, 'Outcome1': y_tar})\n",
        "my_submission.to_csv('A4submission_covid-2.csv', index=False)"
      ],
      "execution_count": null,
      "outputs": []
    },
    {
      "cell_type": "markdown",
      "metadata": {
        "id": "UAQjhZbYxF3g"
      },
      "source": [
        "**Model B - Shallow Network**\n",
        "\n",
        "**[CM 2] - Build the architecture**\n",
        "\n",
        "Model B is our second model and is the shallowest of the three we used here. It has a total of 3 layers with 1 hidden layers.\n",
        "\n",
        "We will design the NN architecture by deciding the number of layers and activation functions. \n",
        "\n",
        "In the first layer we translate the input dimension of 14 into 100 neurons like the first model and apply a Relu activation function.\n",
        "\n",
        "The second layer just like the first is also a dense layer with a Sigmoid activation function because the Sigmoid activation function is particularly useful for shallow networks. A dropout of 0.2 is also added to the layer.\n",
        "\n",
        "The last layer uses a Sigmoid activation function that classifies the 3 categories of the data and has 3 neurons.\n",
        "\n"
      ]
    },
    {
      "cell_type": "markdown",
      "metadata": {
        "id": "nupwZiU-f_a2"
      },
      "source": [
        "**[CM 2] - Compiling the Model**\n",
        "\n",
        "Next, we compile the model with the following settings:\n",
        "Loss function — calculates the difference between the output and the target variable. It measures the accuracy of the model during training and we want to minimize this function. In this example, we chose the sparse_categorical_crossentropy loss function because our targets are not one-hot encoded. Its values are integers.\n",
        "\n",
        "Optimizer — how the model is updated and is based on the data and the loss function. We use the SGD optimizer here to test variety and it also works well for shallow networks.\n",
        "\n",
        "Metrics — monitors the training and testing steps. Accuracy is a common metric and it measures the fraction of images that are correctly classified.\n",
        "\n",
        "\n",
        "Just like the first model, we carry out same operations for this second"
      ]
    },
    {
      "cell_type": "code",
      "metadata": {
        "id": "AFaZ6B-4xFMV"
      },
      "source": [
        "model_b = Sequential()\n",
        "model_b.add(Dense(100, activation='relu', input_dim=14))\n",
        "model_b.add(Dense(300,activation='sigmoid'))\n",
        "model_b.add(Dropout(0.2))\n",
        "model_b.add(Dense(3,activation='sigmoid'))\n",
        "#sgd = SGD(lr = 0.01, decay = 1e-6, momentum = 0.9, nesterov=True)\n",
        "model_b.compile(optimizer='SGD',\n",
        "              loss='sparse_categorical_crossentropy',\n",
        "              metrics=['accuracy'])"
      ],
      "execution_count": null,
      "outputs": []
    },
    {
      "cell_type": "code",
      "metadata": {
        "colab": {
          "base_uri": "https://localhost:8080/"
        },
        "id": "jqzYvi7RzO8C",
        "outputId": "7ec6a09a-c29b-49c9-b991-302fab491e6e"
      },
      "source": [
        "start_train_time = time.time()\n",
        "\n",
        "#Epochs - 10\n",
        "history_b_10 = model_b.fit(X_train, y_train, epochs = 10, batch_size = 8, validation_data=(X_validate, y_validate), callbacks=[early_stopping_monitor])\n",
        "score_b_10 = model_b.evaluate(X_test, y_test, verbose = 0)\n",
        "\n",
        "time_now_10 = time.time()\n",
        "time_10 = (time_now_10 - start_train_time)\n",
        "print(\"--- %s time to train (seconds) for 10 epochs ---\" % time_10)\n",
        "\n",
        "#Epochs - 20\n",
        "history_b_20 = model_b.fit(X_train, y_train, epochs = 20, batch_size = 8, validation_data=(X_validate, y_validate), callbacks=[early_stopping_monitor])\n",
        "score_b_20 = model_b.evaluate(X_test, y_test, verbose = 0)\n",
        "\n",
        "time_now_20 = time.time()\n",
        "time_20 = (time_now_20 - time_now_10)\n",
        "print(\"--- %s time to train (seconds) for 20 epochs ---\" % time_20)\n",
        "\n",
        "#Epochs - 30\n",
        "history_b_30 = model_b.fit(X_train, y_train, epochs = 30, batch_size = 8, validation_data=(X_validate, y_validate), callbacks=[early_stopping_monitor])\n",
        "score_b_30 = model_b.evaluate(X_test, y_test, verbose = 0)\n",
        "\n",
        "time_now_30 = time.time()\n",
        "time_30 = (time_now_30 - time_now_20)\n",
        "print(\"--- %s time to train (seconds) for 30 epochs ---\" % time_30)\n",
        "\n",
        "#Epochs - 40\n",
        "history_b_40 = model_b.fit(X_train, y_train, epochs = 40, batch_size = 8, validation_data=(X_validate, y_validate), callbacks=[early_stopping_monitor])\n",
        "score_b_40 = model_b.evaluate(X_test, y_test, verbose = 0)\n",
        "\n",
        "time_now_40 = time.time()\n",
        "time_40 = (time_now_40 - time_now_30)\n",
        "print(\"--- %s time to train (seconds) for 40 epochs ---\" % time_40)\n",
        "\n",
        "#Epochs - 50\n",
        "history_b_50 = model_b.fit(X_train, y_train, epochs = 50, batch_size = 8, validation_data=(X_validate, y_validate), callbacks=[early_stopping_monitor])\n",
        "score_b_50 = model_b.evaluate(X_test, y_test, verbose = 0)\n",
        "\n",
        "time_now_50 = time.time()\n",
        "time_50 = (time_now_50 - time_now_40)\n",
        "print(\"--- %s time to train (seconds) for 50 epochs ---\" % time_50)"
      ],
      "execution_count": null,
      "outputs": [
        {
          "output_type": "stream",
          "text": [
            "Epoch 1/10\n",
            "1092/1092 [==============================] - 4s 3ms/step - loss: 0.8388 - accuracy: 0.5848 - val_loss: 0.5882 - val_accuracy: 0.7958\n",
            "Epoch 2/10\n",
            "1092/1092 [==============================] - 3s 3ms/step - loss: 0.6012 - accuracy: 0.7348 - val_loss: 0.4792 - val_accuracy: 0.8204\n",
            "Epoch 3/10\n",
            "1092/1092 [==============================] - 3s 3ms/step - loss: 0.5117 - accuracy: 0.7916 - val_loss: 0.4303 - val_accuracy: 0.8514\n",
            "Epoch 4/10\n",
            "1092/1092 [==============================] - 3s 3ms/step - loss: 0.4539 - accuracy: 0.8197 - val_loss: 0.3872 - val_accuracy: 0.8598\n",
            "Epoch 5/10\n",
            "1092/1092 [==============================] - 3s 3ms/step - loss: 0.4086 - accuracy: 0.8336 - val_loss: 0.3620 - val_accuracy: 0.8561\n",
            "Epoch 6/10\n",
            "1092/1092 [==============================] - 3s 3ms/step - loss: 0.3873 - accuracy: 0.8483 - val_loss: 0.3312 - val_accuracy: 0.8832\n",
            "Epoch 7/10\n",
            "1092/1092 [==============================] - 3s 3ms/step - loss: 0.3678 - accuracy: 0.8647 - val_loss: 0.3128 - val_accuracy: 0.8905\n",
            "Epoch 8/10\n",
            "1092/1092 [==============================] - 3s 3ms/step - loss: 0.3484 - accuracy: 0.8658 - val_loss: 0.3078 - val_accuracy: 0.8837\n",
            "Epoch 9/10\n",
            "1092/1092 [==============================] - 3s 3ms/step - loss: 0.3365 - accuracy: 0.8768 - val_loss: 0.2950 - val_accuracy: 0.8976\n",
            "Epoch 10/10\n",
            "1092/1092 [==============================] - 3s 3ms/step - loss: 0.3243 - accuracy: 0.8794 - val_loss: 0.2907 - val_accuracy: 0.9035\n",
            "--- 32.01730298995972 time to train (seconds) for 10 epochs ---\n",
            "Epoch 1/20\n",
            "1092/1092 [==============================] - 3s 3ms/step - loss: 0.3240 - accuracy: 0.8827 - val_loss: 0.3081 - val_accuracy: 0.8883\n",
            "Epoch 2/20\n",
            "1092/1092 [==============================] - 3s 3ms/step - loss: 0.3151 - accuracy: 0.8844 - val_loss: 0.2768 - val_accuracy: 0.9016\n",
            "Epoch 3/20\n",
            "1092/1092 [==============================] - 3s 3ms/step - loss: 0.3133 - accuracy: 0.8834 - val_loss: 0.2764 - val_accuracy: 0.9065\n",
            "Epoch 4/20\n",
            "1092/1092 [==============================] - 3s 3ms/step - loss: 0.3022 - accuracy: 0.8874 - val_loss: 0.2776 - val_accuracy: 0.8995\n",
            "Epoch 5/20\n",
            "1092/1092 [==============================] - 3s 3ms/step - loss: 0.3031 - accuracy: 0.8899 - val_loss: 0.2882 - val_accuracy: 0.8927\n",
            "Epoch 6/20\n",
            "1092/1092 [==============================] - 3s 3ms/step - loss: 0.2985 - accuracy: 0.8910 - val_loss: 0.2830 - val_accuracy: 0.8925\n",
            "Epoch 7/20\n",
            "1092/1092 [==============================] - 3s 3ms/step - loss: 0.2975 - accuracy: 0.8911 - val_loss: 0.2698 - val_accuracy: 0.9079\n",
            "Epoch 8/20\n",
            "1092/1092 [==============================] - 3s 3ms/step - loss: 0.2981 - accuracy: 0.8907 - val_loss: 0.2651 - val_accuracy: 0.9041\n",
            "Epoch 9/20\n",
            "1092/1092 [==============================] - 3s 3ms/step - loss: 0.2948 - accuracy: 0.8939 - val_loss: 0.2770 - val_accuracy: 0.9041\n",
            "Epoch 10/20\n",
            "1092/1092 [==============================] - 3s 3ms/step - loss: 0.2897 - accuracy: 0.8964 - val_loss: 0.2648 - val_accuracy: 0.9122\n",
            "Epoch 11/20\n",
            "1092/1092 [==============================] - 3s 3ms/step - loss: 0.2939 - accuracy: 0.8940 - val_loss: 0.2646 - val_accuracy: 0.9085\n",
            "Epoch 12/20\n",
            "1092/1092 [==============================] - 3s 3ms/step - loss: 0.2888 - accuracy: 0.8970 - val_loss: 0.2564 - val_accuracy: 0.9115\n",
            "Epoch 13/20\n",
            "1092/1092 [==============================] - 3s 3ms/step - loss: 0.2846 - accuracy: 0.8992 - val_loss: 0.2668 - val_accuracy: 0.9120\n",
            "Epoch 14/20\n",
            "1092/1092 [==============================] - 3s 3ms/step - loss: 0.2838 - accuracy: 0.8967 - val_loss: 0.3012 - val_accuracy: 0.8909\n",
            "Epoch 15/20\n",
            "1092/1092 [==============================] - 3s 3ms/step - loss: 0.2847 - accuracy: 0.8954 - val_loss: 0.2583 - val_accuracy: 0.9105\n",
            "Epoch 16/20\n",
            "1092/1092 [==============================] - 3s 3ms/step - loss: 0.2819 - accuracy: 0.8993 - val_loss: 0.2728 - val_accuracy: 0.9009\n",
            "Epoch 17/20\n",
            "1092/1092 [==============================] - 3s 3ms/step - loss: 0.2821 - accuracy: 0.8987 - val_loss: 0.2744 - val_accuracy: 0.9065\n",
            "Epoch 18/20\n",
            "1092/1092 [==============================] - 3s 3ms/step - loss: 0.2818 - accuracy: 0.8999 - val_loss: 0.2755 - val_accuracy: 0.9105\n",
            "Epoch 19/20\n",
            "1092/1092 [==============================] - 3s 3ms/step - loss: 0.2788 - accuracy: 0.9015 - val_loss: 0.2607 - val_accuracy: 0.9082\n",
            "Epoch 20/20\n",
            "1092/1092 [==============================] - 3s 3ms/step - loss: 0.2772 - accuracy: 0.9033 - val_loss: 0.2643 - val_accuracy: 0.9133\n",
            "--- 63.65613079071045 time to train (seconds) for 20 epochs ---\n",
            "Epoch 1/30\n",
            "1092/1092 [==============================] - 3s 3ms/step - loss: 0.2773 - accuracy: 0.9005 - val_loss: 0.2582 - val_accuracy: 0.9114\n",
            "Epoch 2/30\n",
            "1092/1092 [==============================] - 3s 3ms/step - loss: 0.2767 - accuracy: 0.8984 - val_loss: 0.2539 - val_accuracy: 0.9116\n",
            "Epoch 3/30\n",
            "1092/1092 [==============================] - 3s 3ms/step - loss: 0.2760 - accuracy: 0.8994 - val_loss: 0.2580 - val_accuracy: 0.9158\n",
            "Epoch 4/30\n",
            "1092/1092 [==============================] - 3s 3ms/step - loss: 0.2770 - accuracy: 0.9009 - val_loss: 0.2637 - val_accuracy: 0.9074\n",
            "Epoch 5/30\n",
            "1092/1092 [==============================] - 3s 3ms/step - loss: 0.2752 - accuracy: 0.8999 - val_loss: 0.2513 - val_accuracy: 0.9131\n",
            "Epoch 6/30\n",
            "1092/1092 [==============================] - 3s 3ms/step - loss: 0.2754 - accuracy: 0.9030 - val_loss: 0.2837 - val_accuracy: 0.8954\n",
            "Epoch 7/30\n",
            "1092/1092 [==============================] - 3s 3ms/step - loss: 0.2737 - accuracy: 0.9008 - val_loss: 0.2547 - val_accuracy: 0.9103\n",
            "Epoch 8/30\n",
            "1092/1092 [==============================] - 3s 3ms/step - loss: 0.2749 - accuracy: 0.9010 - val_loss: 0.2628 - val_accuracy: 0.9050\n",
            "Epoch 9/30\n",
            "1092/1092 [==============================] - 3s 3ms/step - loss: 0.2724 - accuracy: 0.9023 - val_loss: 0.2565 - val_accuracy: 0.9173\n",
            "Epoch 10/30\n",
            "1092/1092 [==============================] - 3s 3ms/step - loss: 0.2751 - accuracy: 0.9002 - val_loss: 0.2628 - val_accuracy: 0.9059\n",
            "Epoch 11/30\n",
            "1092/1092 [==============================] - 3s 3ms/step - loss: 0.2749 - accuracy: 0.9023 - val_loss: 0.2480 - val_accuracy: 0.9137\n",
            "Epoch 12/30\n",
            "1092/1092 [==============================] - 3s 3ms/step - loss: 0.2706 - accuracy: 0.9024 - val_loss: 0.2511 - val_accuracy: 0.9142\n",
            "Epoch 13/30\n",
            "1092/1092 [==============================] - 3s 3ms/step - loss: 0.2697 - accuracy: 0.9045 - val_loss: 0.2592 - val_accuracy: 0.9074\n",
            "Epoch 14/30\n",
            "1092/1092 [==============================] - 3s 3ms/step - loss: 0.2717 - accuracy: 0.9056 - val_loss: 0.2502 - val_accuracy: 0.9107\n",
            "Epoch 15/30\n",
            "1092/1092 [==============================] - 3s 3ms/step - loss: 0.2723 - accuracy: 0.9018 - val_loss: 0.2676 - val_accuracy: 0.9017\n",
            "Epoch 16/30\n",
            "1092/1092 [==============================] - 3s 3ms/step - loss: 0.2715 - accuracy: 0.9034 - val_loss: 0.2476 - val_accuracy: 0.9152\n",
            "Epoch 17/30\n",
            "1092/1092 [==============================] - 3s 3ms/step - loss: 0.2702 - accuracy: 0.9038 - val_loss: 0.2481 - val_accuracy: 0.9159\n",
            "Epoch 18/30\n",
            "1092/1092 [==============================] - 3s 3ms/step - loss: 0.2707 - accuracy: 0.9025 - val_loss: 0.2514 - val_accuracy: 0.9115\n",
            "Epoch 19/30\n",
            "1092/1092 [==============================] - 3s 3ms/step - loss: 0.2729 - accuracy: 0.9024 - val_loss: 0.2503 - val_accuracy: 0.9114\n",
            "Epoch 20/30\n",
            "1092/1092 [==============================] - 3s 3ms/step - loss: 0.2696 - accuracy: 0.9029 - val_loss: 0.2506 - val_accuracy: 0.9101\n",
            "Epoch 21/30\n",
            "1092/1092 [==============================] - 3s 3ms/step - loss: 0.2708 - accuracy: 0.9034 - val_loss: 0.2513 - val_accuracy: 0.9155\n",
            "Epoch 22/30\n",
            "1092/1092 [==============================] - 3s 3ms/step - loss: 0.2695 - accuracy: 0.9037 - val_loss: 0.2566 - val_accuracy: 0.9065\n",
            "Epoch 23/30\n",
            "1092/1092 [==============================] - 3s 3ms/step - loss: 0.2672 - accuracy: 0.9055 - val_loss: 0.2670 - val_accuracy: 0.9043\n",
            "Epoch 24/30\n",
            "1092/1092 [==============================] - 3s 3ms/step - loss: 0.2700 - accuracy: 0.9044 - val_loss: 0.2653 - val_accuracy: 0.9089\n",
            "Epoch 25/30\n",
            "1092/1092 [==============================] - 3s 3ms/step - loss: 0.2666 - accuracy: 0.9048 - val_loss: 0.2497 - val_accuracy: 0.9118\n",
            "Epoch 26/30\n",
            "1092/1092 [==============================] - 3s 3ms/step - loss: 0.2673 - accuracy: 0.9031 - val_loss: 0.2457 - val_accuracy: 0.9160\n",
            "Epoch 27/30\n",
            "1092/1092 [==============================] - 3s 3ms/step - loss: 0.2702 - accuracy: 0.9038 - val_loss: 0.2489 - val_accuracy: 0.9168\n",
            "Epoch 28/30\n",
            "1092/1092 [==============================] - 3s 3ms/step - loss: 0.2684 - accuracy: 0.9039 - val_loss: 0.2561 - val_accuracy: 0.9070\n",
            "Epoch 29/30\n",
            "1092/1092 [==============================] - 3s 3ms/step - loss: 0.2657 - accuracy: 0.9055 - val_loss: 0.2474 - val_accuracy: 0.9140\n",
            "Epoch 30/30\n",
            "1092/1092 [==============================] - 3s 3ms/step - loss: 0.2667 - accuracy: 0.9058 - val_loss: 0.2468 - val_accuracy: 0.9118\n",
            "--- 95.15818285942078 time to train (seconds) for 30 epochs ---\n",
            "Epoch 1/40\n",
            "1092/1092 [==============================] - 3s 3ms/step - loss: 0.2679 - accuracy: 0.9033 - val_loss: 0.2479 - val_accuracy: 0.9189\n",
            "Epoch 2/40\n",
            "1092/1092 [==============================] - 3s 3ms/step - loss: 0.2670 - accuracy: 0.9079 - val_loss: 0.2605 - val_accuracy: 0.9115\n",
            "Epoch 3/40\n",
            "1092/1092 [==============================] - 3s 3ms/step - loss: 0.2680 - accuracy: 0.9069 - val_loss: 0.2499 - val_accuracy: 0.9182\n",
            "Epoch 4/40\n",
            "1092/1092 [==============================] - 3s 3ms/step - loss: 0.2652 - accuracy: 0.9041 - val_loss: 0.2520 - val_accuracy: 0.9104\n",
            "Epoch 5/40\n",
            "1092/1092 [==============================] - 3s 3ms/step - loss: 0.2670 - accuracy: 0.9050 - val_loss: 0.2617 - val_accuracy: 0.9097\n",
            "Epoch 6/40\n",
            "1092/1092 [==============================] - 3s 3ms/step - loss: 0.2665 - accuracy: 0.9060 - val_loss: 0.2506 - val_accuracy: 0.9173\n",
            "Epoch 7/40\n",
            "1092/1092 [==============================] - 3s 3ms/step - loss: 0.2645 - accuracy: 0.9061 - val_loss: 0.2566 - val_accuracy: 0.9115\n",
            "Epoch 8/40\n",
            "1092/1092 [==============================] - 3s 3ms/step - loss: 0.2641 - accuracy: 0.9063 - val_loss: 0.2482 - val_accuracy: 0.9127\n",
            "Epoch 9/40\n",
            "1092/1092 [==============================] - 3s 3ms/step - loss: 0.2654 - accuracy: 0.9040 - val_loss: 0.2473 - val_accuracy: 0.9145\n",
            "Epoch 10/40\n",
            "1092/1092 [==============================] - 3s 3ms/step - loss: 0.2659 - accuracy: 0.9047 - val_loss: 0.2496 - val_accuracy: 0.9116\n",
            "Epoch 11/40\n",
            "1092/1092 [==============================] - 3s 3ms/step - loss: 0.2619 - accuracy: 0.9060 - val_loss: 0.2543 - val_accuracy: 0.9098\n",
            "Epoch 12/40\n",
            "1092/1092 [==============================] - 3s 3ms/step - loss: 0.2666 - accuracy: 0.9062 - val_loss: 0.2477 - val_accuracy: 0.9159\n",
            "Epoch 13/40\n",
            "1092/1092 [==============================] - 3s 3ms/step - loss: 0.2642 - accuracy: 0.9070 - val_loss: 0.2604 - val_accuracy: 0.9052\n",
            "Epoch 14/40\n",
            "1092/1092 [==============================] - 3s 3ms/step - loss: 0.2664 - accuracy: 0.9050 - val_loss: 0.2464 - val_accuracy: 0.9155\n",
            "Epoch 15/40\n",
            "1092/1092 [==============================] - 3s 3ms/step - loss: 0.2660 - accuracy: 0.9066 - val_loss: 0.2798 - val_accuracy: 0.8980\n",
            "Epoch 16/40\n",
            "1092/1092 [==============================] - 3s 3ms/step - loss: 0.2647 - accuracy: 0.9054 - val_loss: 0.2437 - val_accuracy: 0.9149\n",
            "Epoch 17/40\n",
            "1092/1092 [==============================] - 3s 3ms/step - loss: 0.2603 - accuracy: 0.9078 - val_loss: 0.2443 - val_accuracy: 0.9164\n",
            "Epoch 18/40\n",
            "1092/1092 [==============================] - 3s 3ms/step - loss: 0.2633 - accuracy: 0.9054 - val_loss: 0.2462 - val_accuracy: 0.9123\n",
            "Epoch 19/40\n",
            "1092/1092 [==============================] - 3s 3ms/step - loss: 0.2665 - accuracy: 0.9076 - val_loss: 0.2579 - val_accuracy: 0.9100\n",
            "Epoch 20/40\n",
            "1092/1092 [==============================] - 3s 3ms/step - loss: 0.2621 - accuracy: 0.9074 - val_loss: 0.2434 - val_accuracy: 0.9145\n",
            "Epoch 21/40\n",
            "1092/1092 [==============================] - 3s 3ms/step - loss: 0.2657 - accuracy: 0.9034 - val_loss: 0.2429 - val_accuracy: 0.9177\n",
            "Epoch 22/40\n",
            "1092/1092 [==============================] - 3s 3ms/step - loss: 0.2620 - accuracy: 0.9055 - val_loss: 0.2683 - val_accuracy: 0.9061\n",
            "Epoch 23/40\n",
            "1092/1092 [==============================] - 3s 3ms/step - loss: 0.2618 - accuracy: 0.9072 - val_loss: 0.2636 - val_accuracy: 0.9109\n",
            "Epoch 24/40\n",
            "1092/1092 [==============================] - 3s 3ms/step - loss: 0.2616 - accuracy: 0.9068 - val_loss: 0.2581 - val_accuracy: 0.9074\n",
            "Epoch 25/40\n",
            "1092/1092 [==============================] - 3s 3ms/step - loss: 0.2591 - accuracy: 0.9069 - val_loss: 0.2437 - val_accuracy: 0.9166\n",
            "Epoch 26/40\n",
            "1092/1092 [==============================] - 3s 3ms/step - loss: 0.2603 - accuracy: 0.9057 - val_loss: 0.2499 - val_accuracy: 0.9092\n",
            "Epoch 27/40\n",
            "1092/1092 [==============================] - 3s 3ms/step - loss: 0.2625 - accuracy: 0.9056 - val_loss: 0.2430 - val_accuracy: 0.9185\n",
            "Epoch 28/40\n",
            "1092/1092 [==============================] - 3s 3ms/step - loss: 0.2625 - accuracy: 0.9079 - val_loss: 0.2490 - val_accuracy: 0.9177\n",
            "Epoch 29/40\n",
            "1092/1092 [==============================] - 3s 3ms/step - loss: 0.2604 - accuracy: 0.9069 - val_loss: 0.2437 - val_accuracy: 0.9168\n",
            "Epoch 30/40\n",
            "1092/1092 [==============================] - 3s 3ms/step - loss: 0.2627 - accuracy: 0.9060 - val_loss: 0.2430 - val_accuracy: 0.9149\n",
            "Epoch 31/40\n",
            "1092/1092 [==============================] - 3s 3ms/step - loss: 0.2584 - accuracy: 0.9093 - val_loss: 0.2436 - val_accuracy: 0.9200\n",
            "Epoch 32/40\n",
            "1092/1092 [==============================] - 3s 3ms/step - loss: 0.2608 - accuracy: 0.9052 - val_loss: 0.2456 - val_accuracy: 0.9173\n",
            "Epoch 33/40\n",
            "1092/1092 [==============================] - 3s 3ms/step - loss: 0.2598 - accuracy: 0.9066 - val_loss: 0.2417 - val_accuracy: 0.9186\n",
            "Epoch 34/40\n",
            "1092/1092 [==============================] - 3s 3ms/step - loss: 0.2594 - accuracy: 0.9085 - val_loss: 0.2505 - val_accuracy: 0.9112\n",
            "Epoch 35/40\n",
            "1092/1092 [==============================] - 3s 3ms/step - loss: 0.2579 - accuracy: 0.9081 - val_loss: 0.2438 - val_accuracy: 0.9120\n",
            "Epoch 36/40\n",
            "1092/1092 [==============================] - 3s 3ms/step - loss: 0.2581 - accuracy: 0.9089 - val_loss: 0.2782 - val_accuracy: 0.9013\n",
            "Epoch 37/40\n",
            "1092/1092 [==============================] - 3s 3ms/step - loss: 0.2600 - accuracy: 0.9065 - val_loss: 0.2419 - val_accuracy: 0.9179\n",
            "Epoch 38/40\n",
            "1092/1092 [==============================] - 3s 3ms/step - loss: 0.2600 - accuracy: 0.9078 - val_loss: 0.2435 - val_accuracy: 0.9160\n",
            "Epoch 39/40\n",
            "1092/1092 [==============================] - 3s 3ms/step - loss: 0.2603 - accuracy: 0.9074 - val_loss: 0.2538 - val_accuracy: 0.9120\n",
            "Epoch 40/40\n",
            "1092/1092 [==============================] - 3s 3ms/step - loss: 0.2600 - accuracy: 0.9081 - val_loss: 0.2491 - val_accuracy: 0.9141\n",
            "--- 127.43999195098877 time to train (seconds) for 40 epochs ---\n",
            "Epoch 1/50\n",
            "1092/1092 [==============================] - 3s 3ms/step - loss: 0.2584 - accuracy: 0.9074 - val_loss: 0.2486 - val_accuracy: 0.9153\n",
            "Epoch 2/50\n",
            "1092/1092 [==============================] - 3s 3ms/step - loss: 0.2585 - accuracy: 0.9076 - val_loss: 0.2509 - val_accuracy: 0.9166\n",
            "Epoch 3/50\n",
            "1092/1092 [==============================] - 3s 3ms/step - loss: 0.2568 - accuracy: 0.9081 - val_loss: 0.2664 - val_accuracy: 0.9034\n",
            "Epoch 4/50\n",
            "1092/1092 [==============================] - 3s 3ms/step - loss: 0.2563 - accuracy: 0.9094 - val_loss: 0.2430 - val_accuracy: 0.9140\n",
            "Epoch 5/50\n",
            "1092/1092 [==============================] - 3s 3ms/step - loss: 0.2603 - accuracy: 0.9066 - val_loss: 0.2412 - val_accuracy: 0.9156\n",
            "Epoch 6/50\n",
            "1092/1092 [==============================] - 3s 3ms/step - loss: 0.2588 - accuracy: 0.9084 - val_loss: 0.2515 - val_accuracy: 0.9119\n",
            "Epoch 7/50\n",
            "1092/1092 [==============================] - 3s 3ms/step - loss: 0.2571 - accuracy: 0.9073 - val_loss: 0.2787 - val_accuracy: 0.8983\n",
            "Epoch 8/50\n",
            "1092/1092 [==============================] - 3s 3ms/step - loss: 0.2577 - accuracy: 0.9071 - val_loss: 0.2401 - val_accuracy: 0.9178\n",
            "Epoch 9/50\n",
            "1092/1092 [==============================] - 3s 3ms/step - loss: 0.2567 - accuracy: 0.9084 - val_loss: 0.2583 - val_accuracy: 0.9049\n",
            "Epoch 10/50\n",
            "1092/1092 [==============================] - 3s 3ms/step - loss: 0.2570 - accuracy: 0.9097 - val_loss: 0.2473 - val_accuracy: 0.9094\n",
            "Epoch 11/50\n",
            "1092/1092 [==============================] - 3s 3ms/step - loss: 0.2525 - accuracy: 0.9108 - val_loss: 0.2579 - val_accuracy: 0.9114\n",
            "Epoch 12/50\n",
            "1092/1092 [==============================] - 3s 3ms/step - loss: 0.2571 - accuracy: 0.9076 - val_loss: 0.2419 - val_accuracy: 0.9149\n",
            "Epoch 13/50\n",
            "1092/1092 [==============================] - 3s 3ms/step - loss: 0.2569 - accuracy: 0.9090 - val_loss: 0.2454 - val_accuracy: 0.9142\n",
            "Epoch 14/50\n",
            "1092/1092 [==============================] - 3s 3ms/step - loss: 0.2589 - accuracy: 0.9058 - val_loss: 0.2449 - val_accuracy: 0.9103\n",
            "Epoch 15/50\n",
            "1092/1092 [==============================] - 3s 3ms/step - loss: 0.2574 - accuracy: 0.9096 - val_loss: 0.2450 - val_accuracy: 0.9197\n",
            "Epoch 16/50\n",
            "1092/1092 [==============================] - 3s 3ms/step - loss: 0.2559 - accuracy: 0.9087 - val_loss: 0.2416 - val_accuracy: 0.9189\n",
            "Epoch 17/50\n",
            "1092/1092 [==============================] - 3s 3ms/step - loss: 0.2576 - accuracy: 0.9084 - val_loss: 0.2405 - val_accuracy: 0.9148\n",
            "Epoch 18/50\n",
            "1092/1092 [==============================] - 3s 3ms/step - loss: 0.2571 - accuracy: 0.9094 - val_loss: 0.2465 - val_accuracy: 0.9170\n",
            "Epoch 19/50\n",
            "1092/1092 [==============================] - 3s 3ms/step - loss: 0.2547 - accuracy: 0.9093 - val_loss: 0.2393 - val_accuracy: 0.9178\n",
            "Epoch 20/50\n",
            "1092/1092 [==============================] - 3s 3ms/step - loss: 0.2597 - accuracy: 0.9066 - val_loss: 0.2468 - val_accuracy: 0.9178\n",
            "Epoch 21/50\n",
            "1092/1092 [==============================] - 3s 3ms/step - loss: 0.2541 - accuracy: 0.9082 - val_loss: 0.2390 - val_accuracy: 0.9178\n",
            "Epoch 22/50\n",
            "1092/1092 [==============================] - 3s 3ms/step - loss: 0.2556 - accuracy: 0.9070 - val_loss: 0.2597 - val_accuracy: 0.9082\n",
            "Epoch 23/50\n",
            "1092/1092 [==============================] - 3s 3ms/step - loss: 0.2565 - accuracy: 0.9086 - val_loss: 0.2407 - val_accuracy: 0.9186\n",
            "Epoch 24/50\n",
            "1092/1092 [==============================] - 3s 3ms/step - loss: 0.2560 - accuracy: 0.9096 - val_loss: 0.2448 - val_accuracy: 0.9130\n",
            "Epoch 25/50\n",
            "1092/1092 [==============================] - 3s 3ms/step - loss: 0.2554 - accuracy: 0.9093 - val_loss: 0.2507 - val_accuracy: 0.9072\n",
            "Epoch 26/50\n",
            "1092/1092 [==============================] - 3s 3ms/step - loss: 0.2557 - accuracy: 0.9088 - val_loss: 0.2461 - val_accuracy: 0.9137\n",
            "Epoch 27/50\n",
            "1092/1092 [==============================] - 3s 3ms/step - loss: 0.2551 - accuracy: 0.9107 - val_loss: 0.2475 - val_accuracy: 0.9120\n",
            "Epoch 28/50\n",
            "1092/1092 [==============================] - 3s 3ms/step - loss: 0.2562 - accuracy: 0.9095 - val_loss: 0.2407 - val_accuracy: 0.9142\n",
            "Epoch 29/50\n",
            "1092/1092 [==============================] - 3s 3ms/step - loss: 0.2531 - accuracy: 0.9100 - val_loss: 0.2400 - val_accuracy: 0.9166\n",
            "Epoch 30/50\n",
            "1092/1092 [==============================] - 3s 3ms/step - loss: 0.2561 - accuracy: 0.9065 - val_loss: 0.2484 - val_accuracy: 0.9108\n",
            "Epoch 31/50\n",
            "1092/1092 [==============================] - 3s 3ms/step - loss: 0.2557 - accuracy: 0.9079 - val_loss: 0.2396 - val_accuracy: 0.9184\n",
            "Epoch 32/50\n",
            "1092/1092 [==============================] - 3s 3ms/step - loss: 0.2558 - accuracy: 0.9068 - val_loss: 0.2550 - val_accuracy: 0.9105\n",
            "Epoch 33/50\n",
            "1092/1092 [==============================] - 3s 3ms/step - loss: 0.2540 - accuracy: 0.9084 - val_loss: 0.2540 - val_accuracy: 0.9061\n",
            "Epoch 34/50\n",
            "1092/1092 [==============================] - 3s 3ms/step - loss: 0.2545 - accuracy: 0.9082 - val_loss: 0.2398 - val_accuracy: 0.9148\n",
            "Epoch 35/50\n",
            "1092/1092 [==============================] - 3s 3ms/step - loss: 0.2548 - accuracy: 0.9107 - val_loss: 0.2475 - val_accuracy: 0.9085\n",
            "Epoch 36/50\n",
            "1092/1092 [==============================] - 3s 3ms/step - loss: 0.2532 - accuracy: 0.9097 - val_loss: 0.2451 - val_accuracy: 0.9115\n",
            "Epoch 37/50\n",
            "1092/1092 [==============================] - 3s 3ms/step - loss: 0.2525 - accuracy: 0.9090 - val_loss: 0.2380 - val_accuracy: 0.9167\n",
            "Epoch 38/50\n",
            "1092/1092 [==============================] - 3s 3ms/step - loss: 0.2518 - accuracy: 0.9092 - val_loss: 0.2390 - val_accuracy: 0.9155\n",
            "Epoch 39/50\n",
            "1092/1092 [==============================] - 3s 3ms/step - loss: 0.2532 - accuracy: 0.9100 - val_loss: 0.2519 - val_accuracy: 0.9082\n",
            "Epoch 40/50\n",
            "1092/1092 [==============================] - 3s 3ms/step - loss: 0.2539 - accuracy: 0.9076 - val_loss: 0.2412 - val_accuracy: 0.9156\n",
            "Epoch 41/50\n",
            "1092/1092 [==============================] - 3s 3ms/step - loss: 0.2519 - accuracy: 0.9104 - val_loss: 0.2426 - val_accuracy: 0.9174\n",
            "Epoch 42/50\n",
            "1092/1092 [==============================] - 3s 3ms/step - loss: 0.2532 - accuracy: 0.9101 - val_loss: 0.2616 - val_accuracy: 0.9130\n",
            "Epoch 43/50\n",
            "1092/1092 [==============================] - 3s 3ms/step - loss: 0.2531 - accuracy: 0.9093 - val_loss: 0.2408 - val_accuracy: 0.9155\n",
            "Epoch 44/50\n",
            "1092/1092 [==============================] - 3s 3ms/step - loss: 0.2542 - accuracy: 0.9094 - val_loss: 0.2363 - val_accuracy: 0.9196\n",
            "Epoch 45/50\n",
            "1092/1092 [==============================] - 3s 3ms/step - loss: 0.2538 - accuracy: 0.9099 - val_loss: 0.2377 - val_accuracy: 0.9162\n",
            "Epoch 46/50\n",
            "1092/1092 [==============================] - 3s 3ms/step - loss: 0.2540 - accuracy: 0.9071 - val_loss: 0.2389 - val_accuracy: 0.9130\n",
            "Epoch 47/50\n",
            "1092/1092 [==============================] - 3s 3ms/step - loss: 0.2506 - accuracy: 0.9116 - val_loss: 0.2420 - val_accuracy: 0.9153\n",
            "Epoch 48/50\n",
            "1092/1092 [==============================] - 3s 3ms/step - loss: 0.2549 - accuracy: 0.9087 - val_loss: 0.2368 - val_accuracy: 0.9188\n",
            "Epoch 49/50\n",
            "1092/1092 [==============================] - 3s 3ms/step - loss: 0.2528 - accuracy: 0.9082 - val_loss: 0.2388 - val_accuracy: 0.9192\n",
            "Epoch 50/50\n",
            "1092/1092 [==============================] - 3s 3ms/step - loss: 0.2526 - accuracy: 0.9103 - val_loss: 0.2366 - val_accuracy: 0.9179\n",
            "--- 160.39642238616943 time to train (seconds) for 50 epochs ---\n"
          ],
          "name": "stdout"
        }
      ]
    },
    {
      "cell_type": "code",
      "metadata": {
        "colab": {
          "base_uri": "https://localhost:8080/",
          "height": 594
        },
        "id": "O_OclUC0zx57",
        "outputId": "35587c2c-9cc0-418c-e9ae-80759f614a97"
      },
      "source": [
        "#Comparing Accuracies for Model B\n",
        "\n",
        "epochs_b = [10, 20, 30, 40, 50]\n",
        "accuracies_b = [score_b_10[1], score_b_20[1],score_b_30[1],score_b_40[1],score_b_50[1]]\n",
        "\n",
        "plt.xlabel(\"Epochs\")\n",
        "plt.ylabel(\"Accuracies (%)\")\n",
        "\n",
        "plt.plot(epochs_b, accuracies_b)\n",
        "\n",
        "plt.show()\n",
        "\n",
        "train_time_b = [time_10, time_20, time_30, time_40, time_50]\n",
        "accuracies_b = [score_b_10[1], score_b_20[1],score_b_30[1],score_b_40[1],score_b_50[1]]\n",
        "\n",
        "plt.xlabel(\"Time to Train\")\n",
        "plt.ylabel(\"Accuracies (%)\")\n",
        "\n",
        "plt.plot(train_time_b, accuracies_b)\n",
        "\n",
        "plt.show()\n",
        "\n",
        "print(train_time_b)\n",
        "print(accuracies_b)\n",
        "\n",
        "print(epochs_b)\n"
      ],
      "execution_count": null,
      "outputs": [
        {
          "output_type": "display_data",
          "data": {
            "image/png": "[encoded data removed]",
            "text/plain": [
              "<Figure size 432x288 with 1 Axes>"
            ]
          },
          "metadata": {
            "tags": [],
            "needs_background": "light"
          }
        },
        {
          "output_type": "display_data",
          "data": {
            "image/png": "[encoded data removed]",
            "text/plain": [
              "<Figure size 432x288 with 1 Axes>"
            ]
          },
          "metadata": {
            "tags": [],
            "needs_background": "light"
          }
        },
        {
          "output_type": "stream",
          "text": [
            "[32.01730298995972, 63.65613079071045, 95.15818285942078, 127.43999195098877, 160.39642238616943]\n",
            "[0.892646074295044, 0.9077663421630859, 0.9076288938522339, 0.9092783331871033, 0.9129896759986877]\n",
            "[10, 20, 30, 40, 50]\n"
          ],
          "name": "stdout"
        }
      ]
    },
    {
      "cell_type": "markdown",
      "metadata": {
        "id": "5Qab_e9p3kG2"
      },
      "source": [
        "From the above graphs, When Epoch is 20 we have the optimal use of time and highest accuracy"
      ]
    },
    {
      "cell_type": "code",
      "metadata": {
        "colab": {
          "base_uri": "https://localhost:8080/"
        },
        "id": "eMXZonUDyg2A",
        "outputId": "5a90f8dc-607e-4c14-ab0a-091b8ec04ded"
      },
      "source": [
        "\n",
        "import time\n",
        "\n",
        "time_train_b = time.time()\n",
        "\n",
        "history_b = model_b.fit(X_train, y_train, epochs = 20, batch_size = 8, validation_data=(X_validate, y_validate))\n",
        "\n",
        "time_train_b = time.time() - time_train_b\n"
      ],
      "execution_count": null,
      "outputs": [
        {
          "output_type": "stream",
          "text": [
            "Epoch 1/20\n",
            "1092/1092 [==============================] - 3s 3ms/step - loss: 0.2521 - accuracy: 0.9092 - val_loss: 0.2428 - val_accuracy: 0.9144\n",
            "Epoch 2/20\n",
            "1092/1092 [==============================] - 3s 3ms/step - loss: 0.2549 - accuracy: 0.9068 - val_loss: 0.2365 - val_accuracy: 0.9171\n",
            "Epoch 3/20\n",
            "1092/1092 [==============================] - 3s 3ms/step - loss: 0.2536 - accuracy: 0.9095 - val_loss: 0.2420 - val_accuracy: 0.9160\n",
            "Epoch 4/20\n",
            "1092/1092 [==============================] - 3s 3ms/step - loss: 0.2511 - accuracy: 0.9104 - val_loss: 0.2436 - val_accuracy: 0.9119\n",
            "Epoch 5/20\n",
            "1092/1092 [==============================] - 3s 3ms/step - loss: 0.2531 - accuracy: 0.9095 - val_loss: 0.2369 - val_accuracy: 0.9181\n",
            "Epoch 6/20\n",
            "1092/1092 [==============================] - 3s 3ms/step - loss: 0.2483 - accuracy: 0.9108 - val_loss: 0.2389 - val_accuracy: 0.9155\n",
            "Epoch 7/20\n",
            "1092/1092 [==============================] - 3s 3ms/step - loss: 0.2529 - accuracy: 0.9108 - val_loss: 0.2478 - val_accuracy: 0.9086\n",
            "Epoch 8/20\n",
            "1092/1092 [==============================] - 3s 3ms/step - loss: 0.2519 - accuracy: 0.9102 - val_loss: 0.2399 - val_accuracy: 0.9159\n",
            "Epoch 9/20\n",
            "1092/1092 [==============================] - 3s 3ms/step - loss: 0.2525 - accuracy: 0.9071 - val_loss: 0.2735 - val_accuracy: 0.8950\n",
            "Epoch 10/20\n",
            "1092/1092 [==============================] - 3s 3ms/step - loss: 0.2503 - accuracy: 0.9118 - val_loss: 0.2414 - val_accuracy: 0.9171\n",
            "Epoch 11/20\n",
            "1092/1092 [==============================] - 3s 3ms/step - loss: 0.2510 - accuracy: 0.9121 - val_loss: 0.2372 - val_accuracy: 0.9195\n",
            "Epoch 12/20\n",
            "1092/1092 [==============================] - 3s 3ms/step - loss: 0.2526 - accuracy: 0.9095 - val_loss: 0.2398 - val_accuracy: 0.9179\n",
            "Epoch 13/20\n",
            "1092/1092 [==============================] - 3s 3ms/step - loss: 0.2508 - accuracy: 0.9064 - val_loss: 0.2379 - val_accuracy: 0.9151\n",
            "Epoch 14/20\n",
            "1092/1092 [==============================] - 3s 3ms/step - loss: 0.2523 - accuracy: 0.9085 - val_loss: 0.2379 - val_accuracy: 0.9190\n",
            "Epoch 15/20\n",
            "1092/1092 [==============================] - 3s 3ms/step - loss: 0.2507 - accuracy: 0.9105 - val_loss: 0.2408 - val_accuracy: 0.9151\n",
            "Epoch 16/20\n",
            "1092/1092 [==============================] - 3s 3ms/step - loss: 0.2487 - accuracy: 0.9100 - val_loss: 0.2375 - val_accuracy: 0.9138\n",
            "Epoch 17/20\n",
            "1092/1092 [==============================] - 3s 3ms/step - loss: 0.2499 - accuracy: 0.9123 - val_loss: 0.2362 - val_accuracy: 0.9162\n",
            "Epoch 18/20\n",
            "1092/1092 [==============================] - 3s 3ms/step - loss: 0.2504 - accuracy: 0.9092 - val_loss: 0.2506 - val_accuracy: 0.9134\n",
            "Epoch 19/20\n",
            "1092/1092 [==============================] - 3s 3ms/step - loss: 0.2524 - accuracy: 0.9089 - val_loss: 0.2397 - val_accuracy: 0.9184\n",
            "Epoch 20/20\n",
            "1092/1092 [==============================] - 3s 3ms/step - loss: 0.2521 - accuracy: 0.9104 - val_loss: 0.3252 - val_accuracy: 0.8646\n"
          ],
          "name": "stdout"
        }
      ]
    },
    {
      "cell_type": "code",
      "metadata": {
        "id": "H4xym3LmylTH",
        "colab": {
          "base_uri": "https://localhost:8080/"
        },
        "outputId": "cb2a92d5-080e-4b87-88ca-98d4b07cdc3a"
      },
      "source": [
        "import time\n",
        "\n",
        "time_test_b = time.time()\n",
        "\n",
        "score_b = model_b.evaluate(X_test, y_test, verbose = 0)\n",
        "\n",
        "time_test_b = (time.time() - time_test_b)\n",
        "\n",
        "print(\"--- %s seconds ---\" % time_test_b)"
      ],
      "execution_count": null,
      "outputs": [
        {
          "output_type": "stream",
          "text": [
            "--- 0.27565646171569824 seconds ---\n"
          ],
          "name": "stdout"
        }
      ]
    },
    {
      "cell_type": "code",
      "metadata": {
        "id": "SfEaOrj0yrj4",
        "colab": {
          "base_uri": "https://localhost:8080/",
          "height": 725
        },
        "outputId": "acc878d6-d53c-4386-c7b9-8c237c8074fd"
      },
      "source": [
        "print('Test score:', score_b[0])\n",
        "print('Test accuracy:', score_b[1])\n",
        "\n",
        "fig, (ax1, ax2) = plt.subplots(2, figsize=(8, 6))\n",
        "\n",
        "acc = history_b.history['accuracy']\n",
        "loss = history_b.history['loss']\n",
        "val_acc = history_b.history['val_accuracy']\n",
        "val_loss = history_b.history['val_loss']\n",
        "ax1.plot(val_acc, label='Val')\n",
        "ax1.plot(acc, label='Train')\n",
        "ax2.plot(val_loss, label='Val')\n",
        "ax2.plot(loss, label='Train')\n",
        "    \n",
        "ax1.set_ylabel('accuracy')\n",
        "ax2.set_ylabel('loss')\n",
        "ax2.set_xlabel('epochs')\n",
        "ax1.legend()\n",
        "ax2.legend()\n",
        "plt.show()\n",
        "\n",
        "print(model_b.summary())"
      ],
      "execution_count": null,
      "outputs": [
        {
          "output_type": "stream",
          "text": [
            "Test score: 0.33701226115226746\n",
            "Test accuracy: 0.8633676767349243\n"
          ],
          "name": "stdout"
        },
        {
          "output_type": "display_data",
          "data": {
            "image/png": "[encoded data removed]",
            "text/plain": [
              "<Figure size 576x432 with 2 Axes>"
            ]
          },
          "metadata": {
            "tags": [],
            "needs_background": "light"
          }
        },
        {
          "output_type": "stream",
          "text": [
            "Model: \"sequential_4\"\n",
            "_________________________________________________________________\n",
            "Layer (type)                 Output Shape              Param #   \n",
            "=================================================================\n",
            "dense_15 (Dense)             (None, 100)               1500      \n",
            "_________________________________________________________________\n",
            "dense_16 (Dense)             (None, 300)               30300     \n",
            "_________________________________________________________________\n",
            "dropout_5 (Dropout)          (None, 300)               0         \n",
            "_________________________________________________________________\n",
            "dense_17 (Dense)             (None, 3)                 903       \n",
            "=================================================================\n",
            "Total params: 32,703\n",
            "Trainable params: 32,703\n",
            "Non-trainable params: 0\n",
            "_________________________________________________________________\n",
            "None\n"
          ],
          "name": "stdout"
        }
      ]
    },
    {
      "cell_type": "code",
      "metadata": {
        "colab": {
          "base_uri": "https://localhost:8080/"
        },
        "id": "4pM7wpiEyztN",
        "outputId": "9d977b16-35b5-4c2a-9f89-8c8fca3222df"
      },
      "source": [
        "#import the relevant packages\n",
        "from sklearn import metrics\n",
        "from sklearn.metrics import confusion_matrix, classification_report\n",
        "import seaborn as sns\n",
        "import matplotlib.pyplot as plt\n",
        "\n",
        "y_pred = model_b.predict_classes(X_test)\n",
        "\n",
        "accuracy_default = metrics.accuracy_score(y_test, y_pred)\n",
        "print(accuracy_default)\n",
        "\n",
        "confusion_mtx = confusion_matrix(y_test, y_pred) \n",
        "\n",
        "print(metrics.classification_report((y_test+1),(y_pred+1)))"
      ],
      "execution_count": null,
      "outputs": [
        {
          "output_type": "stream",
          "text": [
            "/usr/local/lib/python3.7/dist-packages/tensorflow/python/keras/engine/sequential.py:450: UserWarning: `model.predict_classes()` is deprecated and will be removed after 2021-01-01. Please use instead:* `np.argmax(model.predict(x), axis=-1)`,   if your model does multi-class classification   (e.g. if it uses a `softmax` last-layer activation).* `(model.predict(x) > 0.5).astype(\"int32\")`,   if your model does binary classification   (e.g. if it uses a `sigmoid` last-layer activation).\n",
            "  warnings.warn('`model.predict_classes()` is deprecated and '\n"
          ],
          "name": "stderr"
        },
        {
          "output_type": "stream",
          "text": [
            "0.8633676975945017\n",
            "              precision    recall  f1-score   support\n",
            "\n",
            "           1       0.81      0.93      0.87      2381\n",
            "           2       0.99      0.79      0.88      2430\n",
            "           3       0.82      0.87      0.85      2464\n",
            "\n",
            "    accuracy                           0.86      7275\n",
            "   macro avg       0.88      0.86      0.86      7275\n",
            "weighted avg       0.88      0.86      0.86      7275\n",
            "\n"
          ],
          "name": "stdout"
        }
      ]
    },
    {
      "cell_type": "markdown",
      "metadata": {
        "id": "iLhNfgqghuJB"
      },
      "source": [
        "\n",
        "**[CM 2] - Build the architecture**\n",
        "\n",
        "Model C is our third and most complex model. It has a total of 4 layers with 2 hidden layers.\n",
        "\n",
        "We will design the NN architecture by deciding the number of layers and activation functions. \n",
        "\n",
        "In the first layer we translate the input dimension of 14 into 10 neurons, apply batch normalization to help standardize the inputs to a layer for each mini-batch, dropout of 0.3 and apply a Relu activation function.\n",
        "\n",
        "The second layer just like the first is also a dense layer with a Relu activation, batch normalized with a dropout of 0.3 and a regularizer which helps reduce variance.\n",
        "\n",
        "The third layer just like the second is also a dense layer with a Relu activation with 5 neurons and then regularized.\n",
        "\n",
        "The output layer uses a Softmax activation function that classifies the 3 categories of the data and has 3 neurons."
      ]
    },
    {
      "cell_type": "markdown",
      "metadata": {
        "id": "1kKLbqimi3-M"
      },
      "source": [
        "**[CM 2] - Compiling the Model**\n",
        "\n",
        "Next, we compile the model with the following settings:\n",
        "Loss function — calculates the difference between the output and the target variable. It measures the accuracy of the model during training and we want to minimize this function. In this example, we chose the sparse_categorical_crossentropy loss function because our targets are not one-hot encoded. Its values are integers.\n",
        "\n",
        "Optimizer — how the model is updated and is based on the data and the loss function. We use the Adam optimizer because it's shown to be effective and efficient\n",
        "\n",
        "Metrics — monitors the training and testing steps. Accuracy is a common metric and it measures the fraction of images that are correctly classified."
      ]
    },
    {
      "cell_type": "code",
      "metadata": {
        "id": "666VoyZ-9wMq"
      },
      "source": [
        "from tensorflow.keras import regularizers\n",
        "\n",
        "model_c = Sequential()\n",
        "model_c.add(Dense(10, input_dim=14, activation='relu', kernel_initializer='he_normal', \n",
        "                                kernel_regularizer=regularizers.l2(0.01)))\n",
        "model_c.add(BatchNormalization())\n",
        "model_c.add(Dropout(0.3))\n",
        "model_c.add(Dense(7, activation='relu', kernel_initializer='he_normal', \n",
        "                                kernel_regularizer=regularizers.l1_l2(l1=0.001, l2=0.001)))\n",
        "model_c.add(BatchNormalization())\n",
        "model_c.add(Dropout(0.3))\n",
        "model_c.add(Dense(5, activation='relu', kernel_initializer='he_normal', \n",
        "                                kernel_regularizer=regularizers.l1_l2(l1=0.001, l2=0.001)))\n",
        "model_c.add(Dense(3, activation='softmax'))\n",
        "\n",
        "model_c.compile(optimizer='adam', loss='sparse_categorical_crossentropy', metrics=['accuracy'])\n"
      ],
      "execution_count": null,
      "outputs": []
    },
    {
      "cell_type": "code",
      "metadata": {
        "colab": {
          "base_uri": "https://localhost:8080/"
        },
        "id": "QqTyRlj74xNh",
        "outputId": "215511bf-e262-467b-e0b4-505c664090de"
      },
      "source": [
        "from keras.callbacks import EarlyStopping\n",
        "import time\n",
        "\n",
        "early_stopping_monitor = EarlyStopping(patience=45)\n",
        "\n",
        "start_train_time_c = time.time()\n",
        "\n",
        "#Epochs - 10\n",
        "history_c_10 = model_c.fit(X_train, y_train, epochs = 10, batch_size = 8, validation_data=(X_validate, y_validate), callbacks=[early_stopping_monitor])\n",
        "score_c_10 = model_c.evaluate(X_test, y_test, verbose = 0)\n",
        "\n",
        "time_now_10 = time.time()\n",
        "time_10 = (time_now_10 - start_train_time_c)\n",
        "print(\"--- %s time to train (seconds) for 10 epochs ---\" % time_10)\n",
        "\n",
        "#Epochs - 20\n",
        "history_c_20 = model_c.fit(X_train, y_train, epochs = 20, batch_size = 8, validation_data=(X_validate, y_validate), callbacks=[early_stopping_monitor])\n",
        "score_c_20 = model_c.evaluate(X_test, y_test, verbose = 0)\n",
        "\n",
        "time_now_20 = time.time()\n",
        "time_20 = (time_now_20 - time_now_10)\n",
        "print(\"--- %s time to train (seconds) for 20 epochs ---\" % time_20)\n",
        "\n",
        "#Epochs - 30\n",
        "history_c_30 = model_c.fit(X_train, y_train, epochs = 30, batch_size = 8, validation_data=(X_validate, y_validate), callbacks=[early_stopping_monitor])\n",
        "score_c_30 = model_c.evaluate(X_test, y_test, verbose = 0)\n",
        "\n",
        "time_now_30 = time.time()\n",
        "time_30 = (time_now_30 - time_now_20)\n",
        "print(\"--- %s time to train (seconds) for 30 epochs ---\" % time_30)\n",
        "\n",
        "#Epochs - 40\n",
        "history_c_40 = model_c.fit(X_train, y_train, epochs = 40, batch_size = 8, validation_data=(X_validate, y_validate), callbacks=[early_stopping_monitor])\n",
        "score_c_40 = model_c.evaluate(X_test, y_test, verbose = 0)\n",
        "\n",
        "time_now_40 = time.time()\n",
        "time_40 = (time_now_40 - time_now_30)\n",
        "print(\"--- %s time to train (seconds) for 40 epochs ---\" % time_40)\n",
        "\n",
        "#Epochs - 50\n",
        "history_c_50 = model_c.fit(X_train, y_train, epochs = 50, batch_size = 8, validation_data=(X_validate, y_validate), callbacks=[early_stopping_monitor])\n",
        "score_c_50 = model_c.evaluate(X_test, y_test, verbose = 0)\n",
        "\n",
        "time_now_50 = time.time()\n",
        "time_50 = (time_now_50 - time_now_40)\n",
        "print(\"--- %s time to train (seconds) for 50 epochs ---\" % time_50)"
      ],
      "execution_count": null,
      "outputs": [
        {
          "output_type": "stream",
          "text": [
            "Epoch 1/10\n",
            "1092/1092 [==============================] - 6s 5ms/step - loss: 1.3123 - accuracy: 0.4130 - val_loss: 0.8371 - val_accuracy: 0.7239\n",
            "Epoch 2/10\n",
            "1092/1092 [==============================] - 5s 4ms/step - loss: 0.9483 - accuracy: 0.6315 - val_loss: 0.7191 - val_accuracy: 0.7974\n",
            "Epoch 3/10\n",
            "1092/1092 [==============================] - 5s 4ms/step - loss: 0.8192 - accuracy: 0.6910 - val_loss: 0.4926 - val_accuracy: 0.8788\n",
            "Epoch 4/10\n",
            "1092/1092 [==============================] - 5s 4ms/step - loss: 0.7066 - accuracy: 0.7520 - val_loss: 0.3880 - val_accuracy: 0.9026\n",
            "Epoch 5/10\n",
            "1092/1092 [==============================] - 5s 4ms/step - loss: 0.6172 - accuracy: 0.7927 - val_loss: 0.3539 - val_accuracy: 0.9038\n",
            "Epoch 6/10\n",
            "1092/1092 [==============================] - 5s 4ms/step - loss: 0.5997 - accuracy: 0.7969 - val_loss: 0.3657 - val_accuracy: 0.8950\n",
            "Epoch 7/10\n",
            "1092/1092 [==============================] - 5s 4ms/step - loss: 0.5893 - accuracy: 0.8064 - val_loss: 0.3151 - val_accuracy: 0.9086\n",
            "Epoch 8/10\n",
            "1092/1092 [==============================] - 5s 4ms/step - loss: 0.5374 - accuracy: 0.8156 - val_loss: 0.3080 - val_accuracy: 0.9111\n",
            "Epoch 9/10\n",
            "1092/1092 [==============================] - 5s 4ms/step - loss: 0.5414 - accuracy: 0.8137 - val_loss: 0.4195 - val_accuracy: 0.8608\n",
            "Epoch 10/10\n",
            "1092/1092 [==============================] - 5s 4ms/step - loss: 0.5218 - accuracy: 0.8216 - val_loss: 0.3085 - val_accuracy: 0.9082\n",
            "--- 48.54502868652344 time to train (seconds) for 10 epochs ---\n",
            "Epoch 1/20\n",
            "1092/1092 [==============================] - 5s 4ms/step - loss: 0.5145 - accuracy: 0.8222 - val_loss: 0.2869 - val_accuracy: 0.9160\n",
            "Epoch 2/20\n",
            "1092/1092 [==============================] - 5s 4ms/step - loss: 0.5290 - accuracy: 0.8191 - val_loss: 0.3054 - val_accuracy: 0.9050\n",
            "Epoch 3/20\n",
            "1092/1092 [==============================] - 5s 4ms/step - loss: 0.5265 - accuracy: 0.8117 - val_loss: 0.3162 - val_accuracy: 0.9019\n",
            "Epoch 4/20\n",
            "1092/1092 [==============================] - 5s 4ms/step - loss: 0.5266 - accuracy: 0.8095 - val_loss: 0.3151 - val_accuracy: 0.9041\n",
            "Epoch 5/20\n",
            "1092/1092 [==============================] - 5s 4ms/step - loss: 0.5137 - accuracy: 0.8245 - val_loss: 0.2925 - val_accuracy: 0.9126\n",
            "Epoch 6/20\n",
            "1092/1092 [==============================] - 5s 4ms/step - loss: 0.4756 - accuracy: 0.8418 - val_loss: 0.2883 - val_accuracy: 0.9127\n",
            "Epoch 7/20\n",
            "1092/1092 [==============================] - 5s 4ms/step - loss: 0.4534 - accuracy: 0.8509 - val_loss: 0.3002 - val_accuracy: 0.9060\n",
            "Epoch 8/20\n",
            "1092/1092 [==============================] - 5s 4ms/step - loss: 0.4752 - accuracy: 0.8362 - val_loss: 0.2837 - val_accuracy: 0.9144\n",
            "Epoch 9/20\n",
            "1092/1092 [==============================] - 5s 4ms/step - loss: 0.4518 - accuracy: 0.8483 - val_loss: 0.2840 - val_accuracy: 0.9131\n",
            "Epoch 10/20\n",
            "1092/1092 [==============================] - 5s 4ms/step - loss: 0.4623 - accuracy: 0.8470 - val_loss: 0.2975 - val_accuracy: 0.9048\n",
            "Epoch 11/20\n",
            "1092/1092 [==============================] - 5s 4ms/step - loss: 0.4481 - accuracy: 0.8550 - val_loss: 0.2807 - val_accuracy: 0.9148\n",
            "Epoch 12/20\n",
            "1092/1092 [==============================] - 5s 4ms/step - loss: 0.4606 - accuracy: 0.8457 - val_loss: 0.2807 - val_accuracy: 0.9177\n",
            "Epoch 13/20\n",
            "1092/1092 [==============================] - 5s 4ms/step - loss: 0.4674 - accuracy: 0.8464 - val_loss: 0.2957 - val_accuracy: 0.9059\n",
            "Epoch 14/20\n",
            "1092/1092 [==============================] - 5s 4ms/step - loss: 0.4535 - accuracy: 0.8465 - val_loss: 0.2831 - val_accuracy: 0.9115\n",
            "Epoch 15/20\n",
            "1092/1092 [==============================] - 5s 4ms/step - loss: 0.4398 - accuracy: 0.8543 - val_loss: 0.3035 - val_accuracy: 0.9010\n",
            "Epoch 16/20\n",
            "1092/1092 [==============================] - 5s 4ms/step - loss: 0.4613 - accuracy: 0.8472 - val_loss: 0.3003 - val_accuracy: 0.8995\n",
            "Epoch 17/20\n",
            "1092/1092 [==============================] - 5s 4ms/step - loss: 0.4588 - accuracy: 0.8468 - val_loss: 0.3097 - val_accuracy: 0.8997\n",
            "Epoch 18/20\n",
            "1092/1092 [==============================] - 5s 4ms/step - loss: 0.4556 - accuracy: 0.8496 - val_loss: 0.2893 - val_accuracy: 0.9027\n",
            "Epoch 19/20\n",
            "1092/1092 [==============================] - 5s 4ms/step - loss: 0.4490 - accuracy: 0.8525 - val_loss: 0.2854 - val_accuracy: 0.9122\n",
            "Epoch 20/20\n",
            "1092/1092 [==============================] - 5s 4ms/step - loss: 0.4468 - accuracy: 0.8540 - val_loss: 0.2875 - val_accuracy: 0.9079\n",
            "--- 93.95945143699646 time to train (seconds) for 20 epochs ---\n",
            "Epoch 1/30\n",
            "1092/1092 [==============================] - 5s 4ms/step - loss: 0.4458 - accuracy: 0.8518 - val_loss: 0.2834 - val_accuracy: 0.9119\n",
            "Epoch 2/30\n",
            "1092/1092 [==============================] - 5s 4ms/step - loss: 0.4464 - accuracy: 0.8526 - val_loss: 0.2778 - val_accuracy: 0.9136\n",
            "Epoch 3/30\n",
            "1092/1092 [==============================] - 5s 4ms/step - loss: 0.4549 - accuracy: 0.8463 - val_loss: 0.2816 - val_accuracy: 0.9149\n",
            "Epoch 4/30\n",
            "1092/1092 [==============================] - 5s 4ms/step - loss: 0.4446 - accuracy: 0.8502 - val_loss: 0.2825 - val_accuracy: 0.9156\n",
            "Epoch 5/30\n",
            "1092/1092 [==============================] - 5s 4ms/step - loss: 0.4489 - accuracy: 0.8478 - val_loss: 0.2872 - val_accuracy: 0.9076\n",
            "Epoch 6/30\n",
            "1092/1092 [==============================] - 5s 4ms/step - loss: 0.4496 - accuracy: 0.8465 - val_loss: 0.3053 - val_accuracy: 0.9019\n",
            "Epoch 7/30\n",
            "1092/1092 [==============================] - 5s 4ms/step - loss: 0.4495 - accuracy: 0.8496 - val_loss: 0.3312 - val_accuracy: 0.8868\n",
            "Epoch 8/30\n",
            "1092/1092 [==============================] - 5s 4ms/step - loss: 0.4476 - accuracy: 0.8519 - val_loss: 0.2781 - val_accuracy: 0.9127\n",
            "Epoch 9/30\n",
            "1092/1092 [==============================] - 5s 4ms/step - loss: 0.4416 - accuracy: 0.8540 - val_loss: 0.2818 - val_accuracy: 0.9107\n",
            "Epoch 10/30\n",
            "1092/1092 [==============================] - 5s 4ms/step - loss: 0.4597 - accuracy: 0.8477 - val_loss: 0.2776 - val_accuracy: 0.9168\n",
            "Epoch 11/30\n",
            "1092/1092 [==============================] - 5s 4ms/step - loss: 0.4446 - accuracy: 0.8466 - val_loss: 0.3013 - val_accuracy: 0.9090\n",
            "Epoch 12/30\n",
            "1092/1092 [==============================] - 5s 4ms/step - loss: 0.4513 - accuracy: 0.8506 - val_loss: 0.2960 - val_accuracy: 0.9067\n",
            "Epoch 13/30\n",
            "1092/1092 [==============================] - 5s 4ms/step - loss: 0.4539 - accuracy: 0.8472 - val_loss: 0.2868 - val_accuracy: 0.9134\n",
            "Epoch 14/30\n",
            "1092/1092 [==============================] - 5s 4ms/step - loss: 0.4453 - accuracy: 0.8473 - val_loss: 0.3158 - val_accuracy: 0.8986\n",
            "Epoch 15/30\n",
            "1092/1092 [==============================] - 5s 4ms/step - loss: 0.4564 - accuracy: 0.8456 - val_loss: 0.2840 - val_accuracy: 0.9131\n",
            "Epoch 16/30\n",
            "1092/1092 [==============================] - 5s 4ms/step - loss: 0.4435 - accuracy: 0.8543 - val_loss: 0.2863 - val_accuracy: 0.9127\n",
            "Epoch 17/30\n",
            "1092/1092 [==============================] - 5s 4ms/step - loss: 0.4449 - accuracy: 0.8511 - val_loss: 0.3199 - val_accuracy: 0.8918\n",
            "Epoch 18/30\n",
            "1092/1092 [==============================] - 5s 4ms/step - loss: 0.4412 - accuracy: 0.8557 - val_loss: 0.2923 - val_accuracy: 0.9082\n",
            "Epoch 19/30\n",
            "1092/1092 [==============================] - 5s 4ms/step - loss: 0.4502 - accuracy: 0.8535 - val_loss: 0.2895 - val_accuracy: 0.9109\n",
            "Epoch 20/30\n",
            "1092/1092 [==============================] - 5s 4ms/step - loss: 0.4442 - accuracy: 0.8538 - val_loss: 0.2791 - val_accuracy: 0.9173\n",
            "Epoch 21/30\n",
            "1092/1092 [==============================] - 5s 4ms/step - loss: 0.4563 - accuracy: 0.8486 - val_loss: 0.3331 - val_accuracy: 0.8852\n",
            "Epoch 22/30\n",
            "1092/1092 [==============================] - 5s 4ms/step - loss: 0.4372 - accuracy: 0.8603 - val_loss: 0.2884 - val_accuracy: 0.9103\n",
            "Epoch 23/30\n",
            "1092/1092 [==============================] - 5s 4ms/step - loss: 0.4490 - accuracy: 0.8471 - val_loss: 0.3119 - val_accuracy: 0.9009\n",
            "Epoch 24/30\n",
            "1092/1092 [==============================] - 5s 4ms/step - loss: 0.4447 - accuracy: 0.8485 - val_loss: 0.2964 - val_accuracy: 0.9053\n",
            "Epoch 25/30\n",
            "1092/1092 [==============================] - 5s 4ms/step - loss: 0.4510 - accuracy: 0.8495 - val_loss: 0.2945 - val_accuracy: 0.9056\n",
            "Epoch 26/30\n",
            "1092/1092 [==============================] - 5s 4ms/step - loss: 0.4460 - accuracy: 0.8507 - val_loss: 0.2980 - val_accuracy: 0.9052\n",
            "Epoch 27/30\n",
            "1092/1092 [==============================] - 5s 4ms/step - loss: 0.4543 - accuracy: 0.8415 - val_loss: 0.3244 - val_accuracy: 0.8932\n",
            "Epoch 28/30\n",
            "1092/1092 [==============================] - 5s 4ms/step - loss: 0.4360 - accuracy: 0.8567 - val_loss: 0.3190 - val_accuracy: 0.8927\n",
            "Epoch 29/30\n",
            "1092/1092 [==============================] - 5s 4ms/step - loss: 0.4434 - accuracy: 0.8526 - val_loss: 0.2776 - val_accuracy: 0.9158\n",
            "Epoch 30/30\n",
            "1092/1092 [==============================] - 5s 4ms/step - loss: 0.4394 - accuracy: 0.8572 - val_loss: 0.2873 - val_accuracy: 0.9114\n",
            "--- 141.83507752418518 time to train (seconds) for 30 epochs ---\n",
            "Epoch 1/40\n",
            "1092/1092 [==============================] - 5s 4ms/step - loss: 0.4517 - accuracy: 0.8499 - val_loss: 0.3334 - val_accuracy: 0.8873\n",
            "Epoch 2/40\n",
            "1092/1092 [==============================] - 5s 4ms/step - loss: 0.4363 - accuracy: 0.8544 - val_loss: 0.3088 - val_accuracy: 0.9005\n",
            "Epoch 3/40\n",
            "1092/1092 [==============================] - 5s 4ms/step - loss: 0.4478 - accuracy: 0.8474 - val_loss: 0.2946 - val_accuracy: 0.9089\n",
            "Epoch 4/40\n",
            "1092/1092 [==============================] - 5s 4ms/step - loss: 0.4345 - accuracy: 0.8551 - val_loss: 0.2855 - val_accuracy: 0.9145\n",
            "Epoch 5/40\n",
            "1092/1092 [==============================] - 5s 4ms/step - loss: 0.4400 - accuracy: 0.8534 - val_loss: 0.2900 - val_accuracy: 0.9109\n",
            "Epoch 6/40\n",
            "1092/1092 [==============================] - 5s 4ms/step - loss: 0.4502 - accuracy: 0.8504 - val_loss: 0.3232 - val_accuracy: 0.8888\n",
            "Epoch 7/40\n",
            "1092/1092 [==============================] - 5s 4ms/step - loss: 0.4498 - accuracy: 0.8486 - val_loss: 0.3026 - val_accuracy: 0.9060\n",
            "Epoch 8/40\n",
            "1092/1092 [==============================] - 5s 4ms/step - loss: 0.4381 - accuracy: 0.8585 - val_loss: 0.3018 - val_accuracy: 0.9031\n",
            "Epoch 9/40\n",
            "1092/1092 [==============================] - 5s 4ms/step - loss: 0.4420 - accuracy: 0.8521 - val_loss: 0.2806 - val_accuracy: 0.9151\n",
            "Epoch 10/40\n",
            "1092/1092 [==============================] - 5s 4ms/step - loss: 0.4441 - accuracy: 0.8537 - val_loss: 0.3282 - val_accuracy: 0.8982\n",
            "Epoch 11/40\n",
            "1092/1092 [==============================] - 5s 5ms/step - loss: 0.4300 - accuracy: 0.8573 - val_loss: 0.2894 - val_accuracy: 0.9087\n",
            "Epoch 12/40\n",
            "1092/1092 [==============================] - 5s 4ms/step - loss: 0.4414 - accuracy: 0.8543 - val_loss: 0.2843 - val_accuracy: 0.9105\n",
            "Epoch 13/40\n",
            "1092/1092 [==============================] - 5s 4ms/step - loss: 0.4501 - accuracy: 0.8474 - val_loss: 0.2861 - val_accuracy: 0.9127\n",
            "Epoch 14/40\n",
            "1092/1092 [==============================] - 5s 4ms/step - loss: 0.4314 - accuracy: 0.8576 - val_loss: 0.2872 - val_accuracy: 0.9096\n",
            "Epoch 15/40\n",
            "1092/1092 [==============================] - 5s 4ms/step - loss: 0.4463 - accuracy: 0.8521 - val_loss: 0.2942 - val_accuracy: 0.9078\n",
            "Epoch 16/40\n",
            "1092/1092 [==============================] - 5s 4ms/step - loss: 0.4384 - accuracy: 0.8542 - val_loss: 0.2846 - val_accuracy: 0.9130\n",
            "Epoch 17/40\n",
            "1092/1092 [==============================] - 5s 4ms/step - loss: 0.4449 - accuracy: 0.8509 - val_loss: 0.2920 - val_accuracy: 0.9103\n",
            "Epoch 18/40\n",
            "1092/1092 [==============================] - 5s 4ms/step - loss: 0.4415 - accuracy: 0.8545 - val_loss: 0.2983 - val_accuracy: 0.9083\n",
            "Epoch 19/40\n",
            "1092/1092 [==============================] - 5s 4ms/step - loss: 0.4487 - accuracy: 0.8497 - val_loss: 0.2853 - val_accuracy: 0.9156\n",
            "Epoch 20/40\n",
            "1092/1092 [==============================] - 5s 4ms/step - loss: 0.4418 - accuracy: 0.8520 - val_loss: 0.2937 - val_accuracy: 0.9089\n",
            "Epoch 21/40\n",
            "1092/1092 [==============================] - 5s 4ms/step - loss: 0.4456 - accuracy: 0.8517 - val_loss: 0.2885 - val_accuracy: 0.9097\n",
            "Epoch 22/40\n",
            "1092/1092 [==============================] - 5s 4ms/step - loss: 0.4417 - accuracy: 0.8526 - val_loss: 0.2892 - val_accuracy: 0.9129\n",
            "Epoch 23/40\n",
            "1092/1092 [==============================] - 5s 4ms/step - loss: 0.4440 - accuracy: 0.8534 - val_loss: 0.2850 - val_accuracy: 0.9136\n",
            "Epoch 24/40\n",
            "1092/1092 [==============================] - 5s 4ms/step - loss: 0.4286 - accuracy: 0.8576 - val_loss: 0.2815 - val_accuracy: 0.9145\n",
            "Epoch 25/40\n",
            "1092/1092 [==============================] - 5s 4ms/step - loss: 0.4515 - accuracy: 0.8504 - val_loss: 0.2967 - val_accuracy: 0.9042\n",
            "Epoch 26/40\n",
            "1092/1092 [==============================] - 5s 4ms/step - loss: 0.4551 - accuracy: 0.8486 - val_loss: 0.2893 - val_accuracy: 0.9122\n",
            "Epoch 27/40\n",
            "1092/1092 [==============================] - 5s 4ms/step - loss: 0.4441 - accuracy: 0.8502 - val_loss: 0.3021 - val_accuracy: 0.9056\n",
            "Epoch 28/40\n",
            "1092/1092 [==============================] - 5s 4ms/step - loss: 0.4407 - accuracy: 0.8522 - val_loss: 0.2885 - val_accuracy: 0.9116\n",
            "Epoch 29/40\n",
            "1092/1092 [==============================] - 5s 4ms/step - loss: 0.4433 - accuracy: 0.8577 - val_loss: 0.2948 - val_accuracy: 0.9087\n",
            "Epoch 30/40\n",
            "1092/1092 [==============================] - 5s 4ms/step - loss: 0.4486 - accuracy: 0.8481 - val_loss: 0.2865 - val_accuracy: 0.9108\n",
            "Epoch 31/40\n",
            "1092/1092 [==============================] - 5s 4ms/step - loss: 0.4254 - accuracy: 0.8615 - val_loss: 0.2855 - val_accuracy: 0.9104\n",
            "Epoch 32/40\n",
            "1092/1092 [==============================] - 5s 4ms/step - loss: 0.4508 - accuracy: 0.8512 - val_loss: 0.2987 - val_accuracy: 0.9050\n",
            "Epoch 33/40\n",
            "1092/1092 [==============================] - 5s 4ms/step - loss: 0.4864 - accuracy: 0.8259 - val_loss: 0.2943 - val_accuracy: 0.9067\n",
            "Epoch 34/40\n",
            "1092/1092 [==============================] - 5s 4ms/step - loss: 0.4410 - accuracy: 0.8552 - val_loss: 0.3054 - val_accuracy: 0.9041\n",
            "Epoch 35/40\n",
            "1092/1092 [==============================] - 5s 4ms/step - loss: 0.4347 - accuracy: 0.8532 - val_loss: 0.2937 - val_accuracy: 0.9101\n",
            "Epoch 36/40\n",
            "1092/1092 [==============================] - 5s 4ms/step - loss: 0.4360 - accuracy: 0.8564 - val_loss: 0.3181 - val_accuracy: 0.8988\n",
            "Epoch 37/40\n",
            "1092/1092 [==============================] - 5s 4ms/step - loss: 0.4368 - accuracy: 0.8584 - val_loss: 0.2850 - val_accuracy: 0.9107\n",
            "Epoch 38/40\n",
            "1092/1092 [==============================] - 5s 4ms/step - loss: 0.4452 - accuracy: 0.8521 - val_loss: 0.2989 - val_accuracy: 0.9045\n",
            "Epoch 39/40\n",
            "1092/1092 [==============================] - 5s 4ms/step - loss: 0.4507 - accuracy: 0.8495 - val_loss: 0.2979 - val_accuracy: 0.9028\n",
            "Epoch 40/40\n",
            "1092/1092 [==============================] - 5s 4ms/step - loss: 0.4449 - accuracy: 0.8521 - val_loss: 0.2903 - val_accuracy: 0.9111\n",
            "--- 189.91387462615967 time to train (seconds) for 40 epochs ---\n",
            "Epoch 1/50\n",
            "1092/1092 [==============================] - 5s 4ms/step - loss: 0.4455 - accuracy: 0.8540 - val_loss: 0.3145 - val_accuracy: 0.8950\n",
            "Epoch 2/50\n",
            "1092/1092 [==============================] - 5s 4ms/step - loss: 0.4421 - accuracy: 0.8518 - val_loss: 0.2930 - val_accuracy: 0.9081\n",
            "Epoch 3/50\n",
            "1092/1092 [==============================] - 5s 4ms/step - loss: 0.4596 - accuracy: 0.8485 - val_loss: 0.3052 - val_accuracy: 0.9037\n",
            "Epoch 4/50\n",
            "1092/1092 [==============================] - 5s 4ms/step - loss: 0.4378 - accuracy: 0.8556 - val_loss: 0.2817 - val_accuracy: 0.9153\n",
            "Epoch 5/50\n",
            "1092/1092 [==============================] - 5s 4ms/step - loss: 0.4582 - accuracy: 0.8449 - val_loss: 0.3404 - val_accuracy: 0.8862\n",
            "Epoch 6/50\n",
            "1092/1092 [==============================] - 5s 4ms/step - loss: 0.4640 - accuracy: 0.8483 - val_loss: 0.2862 - val_accuracy: 0.9103\n",
            "Epoch 7/50\n",
            "1092/1092 [==============================] - 5s 4ms/step - loss: 0.4499 - accuracy: 0.8518 - val_loss: 0.2923 - val_accuracy: 0.9057\n",
            "Epoch 8/50\n",
            "1092/1092 [==============================] - 5s 4ms/step - loss: 0.4444 - accuracy: 0.8519 - val_loss: 0.2831 - val_accuracy: 0.9133\n",
            "Epoch 9/50\n",
            "1092/1092 [==============================] - 5s 4ms/step - loss: 0.4447 - accuracy: 0.8543 - val_loss: 0.2848 - val_accuracy: 0.9133\n",
            "Epoch 10/50\n",
            "1092/1092 [==============================] - 5s 4ms/step - loss: 0.4457 - accuracy: 0.8488 - val_loss: 0.2894 - val_accuracy: 0.9140\n",
            "Epoch 11/50\n",
            "1092/1092 [==============================] - 5s 4ms/step - loss: 0.4468 - accuracy: 0.8483 - val_loss: 0.2945 - val_accuracy: 0.9104\n",
            "Epoch 12/50\n",
            "1092/1092 [==============================] - 5s 4ms/step - loss: 0.4575 - accuracy: 0.8505 - val_loss: 0.2847 - val_accuracy: 0.9133\n",
            "Epoch 13/50\n",
            "1092/1092 [==============================] - 5s 4ms/step - loss: 0.4359 - accuracy: 0.8578 - val_loss: 0.3150 - val_accuracy: 0.9013\n",
            "Epoch 14/50\n",
            "1092/1092 [==============================] - 5s 4ms/step - loss: 0.4411 - accuracy: 0.8523 - val_loss: 0.2778 - val_accuracy: 0.9153\n",
            "Epoch 15/50\n",
            "1092/1092 [==============================] - 5s 4ms/step - loss: 0.4417 - accuracy: 0.8520 - val_loss: 0.2829 - val_accuracy: 0.9123\n",
            "Epoch 16/50\n",
            "1092/1092 [==============================] - 5s 4ms/step - loss: 0.4197 - accuracy: 0.8620 - val_loss: 0.3021 - val_accuracy: 0.9020\n",
            "Epoch 17/50\n",
            "1092/1092 [==============================] - 5s 4ms/step - loss: 0.4466 - accuracy: 0.8474 - val_loss: 0.3004 - val_accuracy: 0.9048\n",
            "Epoch 18/50\n",
            "1092/1092 [==============================] - 5s 4ms/step - loss: 0.4704 - accuracy: 0.8444 - val_loss: 0.3347 - val_accuracy: 0.8914\n",
            "Epoch 19/50\n",
            "1092/1092 [==============================] - 5s 4ms/step - loss: 0.4543 - accuracy: 0.8481 - val_loss: 0.3088 - val_accuracy: 0.9012\n",
            "Epoch 20/50\n",
            "1092/1092 [==============================] - 5s 4ms/step - loss: 0.4570 - accuracy: 0.8472 - val_loss: 0.2858 - val_accuracy: 0.9151\n",
            "Epoch 21/50\n",
            "1092/1092 [==============================] - 5s 4ms/step - loss: 0.4581 - accuracy: 0.8435 - val_loss: 0.2796 - val_accuracy: 0.9153\n",
            "Epoch 22/50\n",
            "1092/1092 [==============================] - 5s 4ms/step - loss: 0.4305 - accuracy: 0.8557 - val_loss: 0.2808 - val_accuracy: 0.9141\n",
            "Epoch 23/50\n",
            "1092/1092 [==============================] - 5s 4ms/step - loss: 0.4403 - accuracy: 0.8509 - val_loss: 0.2924 - val_accuracy: 0.9039\n",
            "Epoch 24/50\n",
            "1092/1092 [==============================] - 5s 4ms/step - loss: 0.4385 - accuracy: 0.8526 - val_loss: 0.2975 - val_accuracy: 0.9052\n",
            "Epoch 25/50\n",
            "1092/1092 [==============================] - 5s 4ms/step - loss: 0.4438 - accuracy: 0.8521 - val_loss: 0.2992 - val_accuracy: 0.9019\n",
            "Epoch 26/50\n",
            "1092/1092 [==============================] - 5s 4ms/step - loss: 0.4521 - accuracy: 0.8495 - val_loss: 0.2925 - val_accuracy: 0.9048\n",
            "Epoch 27/50\n",
            "1092/1092 [==============================] - 5s 4ms/step - loss: 0.4576 - accuracy: 0.8449 - val_loss: 0.3267 - val_accuracy: 0.8947\n",
            "Epoch 28/50\n",
            "1092/1092 [==============================] - 5s 4ms/step - loss: 0.4486 - accuracy: 0.8514 - val_loss: 0.2772 - val_accuracy: 0.9163\n",
            "Epoch 29/50\n",
            "1092/1092 [==============================] - 5s 4ms/step - loss: 0.4458 - accuracy: 0.8507 - val_loss: 0.2915 - val_accuracy: 0.9060\n",
            "Epoch 30/50\n",
            "1092/1092 [==============================] - 5s 4ms/step - loss: 0.4425 - accuracy: 0.8536 - val_loss: 0.2917 - val_accuracy: 0.9072\n",
            "Epoch 31/50\n",
            "1092/1092 [==============================] - 5s 4ms/step - loss: 0.4434 - accuracy: 0.8528 - val_loss: 0.3045 - val_accuracy: 0.9028\n",
            "Epoch 32/50\n",
            "1092/1092 [==============================] - 5s 4ms/step - loss: 0.4497 - accuracy: 0.8474 - val_loss: 0.2858 - val_accuracy: 0.9092\n",
            "Epoch 33/50\n",
            "1092/1092 [==============================] - 5s 4ms/step - loss: 0.4390 - accuracy: 0.8518 - val_loss: 0.2752 - val_accuracy: 0.9162\n",
            "Epoch 34/50\n",
            "1092/1092 [==============================] - 5s 4ms/step - loss: 0.4395 - accuracy: 0.8527 - val_loss: 0.2785 - val_accuracy: 0.9168\n",
            "Epoch 35/50\n",
            "1092/1092 [==============================] - 5s 4ms/step - loss: 0.4353 - accuracy: 0.8606 - val_loss: 0.3005 - val_accuracy: 0.9061\n",
            "Epoch 36/50\n",
            "1092/1092 [==============================] - 5s 4ms/step - loss: 0.4501 - accuracy: 0.8523 - val_loss: 0.2767 - val_accuracy: 0.9144\n",
            "Epoch 37/50\n",
            "1092/1092 [==============================] - 5s 4ms/step - loss: 0.4377 - accuracy: 0.8560 - val_loss: 0.3026 - val_accuracy: 0.9041\n",
            "Epoch 38/50\n",
            "1092/1092 [==============================] - 5s 4ms/step - loss: 0.4336 - accuracy: 0.8541 - val_loss: 0.2804 - val_accuracy: 0.9173\n",
            "Epoch 39/50\n",
            "1092/1092 [==============================] - 5s 4ms/step - loss: 0.4371 - accuracy: 0.8554 - val_loss: 0.2853 - val_accuracy: 0.9111\n",
            "Epoch 40/50\n",
            "1092/1092 [==============================] - 5s 4ms/step - loss: 0.4338 - accuracy: 0.8534 - val_loss: 0.2885 - val_accuracy: 0.9103\n",
            "Epoch 41/50\n",
            "1092/1092 [==============================] - 5s 4ms/step - loss: 0.4306 - accuracy: 0.8608 - val_loss: 0.2851 - val_accuracy: 0.9109\n",
            "Epoch 42/50\n",
            "1092/1092 [==============================] - 5s 4ms/step - loss: 0.4488 - accuracy: 0.8533 - val_loss: 0.2925 - val_accuracy: 0.9074\n",
            "Epoch 43/50\n",
            "1092/1092 [==============================] - 5s 4ms/step - loss: 0.4384 - accuracy: 0.8556 - val_loss: 0.2743 - val_accuracy: 0.9173\n",
            "Epoch 44/50\n",
            "1092/1092 [==============================] - 5s 4ms/step - loss: 0.4402 - accuracy: 0.8582 - val_loss: 0.2748 - val_accuracy: 0.9162\n",
            "Epoch 45/50\n",
            "1092/1092 [==============================] - 5s 4ms/step - loss: 0.4539 - accuracy: 0.8504 - val_loss: 0.2915 - val_accuracy: 0.9092\n",
            "Epoch 46/50\n",
            "1092/1092 [==============================] - 5s 4ms/step - loss: 0.4317 - accuracy: 0.8557 - val_loss: 0.2960 - val_accuracy: 0.9078\n",
            "Epoch 47/50\n",
            "1092/1092 [==============================] - 5s 4ms/step - loss: 0.4417 - accuracy: 0.8520 - val_loss: 0.2799 - val_accuracy: 0.9160\n",
            "Epoch 48/50\n",
            "1092/1092 [==============================] - 5s 4ms/step - loss: 0.4394 - accuracy: 0.8536 - val_loss: 0.2874 - val_accuracy: 0.9111\n",
            "Epoch 49/50\n",
            "1092/1092 [==============================] - 5s 4ms/step - loss: 0.4619 - accuracy: 0.8444 - val_loss: 0.3122 - val_accuracy: 0.8961\n",
            "Epoch 50/50\n",
            "1092/1092 [==============================] - 5s 4ms/step - loss: 0.4426 - accuracy: 0.8566 - val_loss: 0.2912 - val_accuracy: 0.9064\n",
            "--- 238.33878707885742 time to train (seconds) for 50 epochs ---\n"
          ],
          "name": "stdout"
        }
      ]
    },
    {
      "cell_type": "markdown",
      "metadata": {
        "id": "1aEROahBy1vv"
      },
      "source": [
        "**Model C**"
      ]
    },
    {
      "cell_type": "code",
      "metadata": {
        "colab": {
          "base_uri": "https://localhost:8080/",
          "height": 594
        },
        "id": "IL1jsb445L3i",
        "outputId": "de54cef0-a274-4008-960c-1da68aa5546c"
      },
      "source": [
        "#Comparing Accuracies for Model C\n",
        "\n",
        "epochs_c = [10, 20, 30, 40, 50]\n",
        "accuracies_c = [score_c_10[1], score_c_20[1],score_c_30[1],score_c_40[1],score_c_50[1]]\n",
        "\n",
        "plt.xlabel(\"Epochs\")\n",
        "plt.ylabel(\"Accuracies (%)\")\n",
        "\n",
        "plt.plot(epochs_c, accuracies_c)\n",
        "\n",
        "plt.show()\n",
        "\n",
        "train_time_c = [time_10, time_20, time_30, time_40, time_50]\n",
        "accuracies_c = [score_c_10[1], score_c_20[1],score_c_30[1],score_c_40[1],score_c_50[1]]\n",
        "\n",
        "plt.xlabel(\"Time to Train\")\n",
        "plt.ylabel(\"Accuracies (%)\")\n",
        "\n",
        "plt.plot(train_time_c, accuracies_c)\n",
        "\n",
        "plt.show()\n",
        "\n",
        "print(train_time_c)\n",
        "print(accuracies_c)\n",
        "\n",
        "print(epochs_c)\n"
      ],
      "execution_count": null,
      "outputs": [
        {
          "output_type": "display_data",
          "data": {
            "image/png": "[encoded data removed]",
            "text/plain": [
              "<Figure size 432x288 with 1 Axes>"
            ]
          },
          "metadata": {
            "tags": [],
            "needs_background": "light"
          }
        },
        {
          "output_type": "display_data",
          "data": {
            "image/png": "[encoded data removed]",
            "text/plain": [
              "<Figure size 432x288 with 1 Axes>"
            ]
          },
          "metadata": {
            "tags": [],
            "needs_background": "light"
          }
        },
        {
          "output_type": "stream",
          "text": [
            "[48.54502868652344, 93.95945143699646, 141.83507752418518, 189.91387462615967, 238.33878707885742]\n",
            "[0.8999312520027161, 0.9025429487228394, 0.9061168432235718, 0.9044673442840576, 0.9008934497833252]\n",
            "[10, 20, 30, 40, 50]\n"
          ],
          "name": "stdout"
        }
      ]
    },
    {
      "cell_type": "code",
      "metadata": {
        "colab": {
          "base_uri": "https://localhost:8080/"
        },
        "id": "Pa3Cem_6qHom",
        "outputId": "933d2f99-7c9b-4f34-a273-258d341bd418"
      },
      "source": [
        "import time\n",
        "\n",
        "time_train_c = time.time()\n",
        "\n",
        "history_c = model_c.fit(X_train, y_train, epochs = 30, batch_size = 8, validation_data=(X_validate, y_validate))\n",
        "\n",
        "time_train_c = time.time() - time_train_c"
      ],
      "execution_count": null,
      "outputs": [
        {
          "output_type": "stream",
          "text": [
            "Epoch 1/30\n",
            "1092/1092 [==============================] - 5s 4ms/step - loss: 0.4562 - accuracy: 0.8448 - val_loss: 0.2823 - val_accuracy: 0.9140\n",
            "Epoch 2/30\n",
            "1092/1092 [==============================] - 5s 4ms/step - loss: 0.4376 - accuracy: 0.8550 - val_loss: 0.2862 - val_accuracy: 0.9100\n",
            "Epoch 3/30\n",
            "1092/1092 [==============================] - 5s 4ms/step - loss: 0.4662 - accuracy: 0.8487 - val_loss: 0.2894 - val_accuracy: 0.9129\n",
            "Epoch 4/30\n",
            "1092/1092 [==============================] - 5s 4ms/step - loss: 0.4237 - accuracy: 0.8595 - val_loss: 0.2981 - val_accuracy: 0.9034\n",
            "Epoch 5/30\n",
            "1092/1092 [==============================] - 5s 4ms/step - loss: 0.4558 - accuracy: 0.8480 - val_loss: 0.3006 - val_accuracy: 0.9030\n",
            "Epoch 6/30\n",
            "1092/1092 [==============================] - 5s 4ms/step - loss: 0.4481 - accuracy: 0.8559 - val_loss: 0.2924 - val_accuracy: 0.9089\n",
            "Epoch 7/30\n",
            "1092/1092 [==============================] - 5s 4ms/step - loss: 0.4450 - accuracy: 0.8506 - val_loss: 0.2989 - val_accuracy: 0.9070\n",
            "Epoch 8/30\n",
            "1092/1092 [==============================] - 5s 4ms/step - loss: 0.4521 - accuracy: 0.8541 - val_loss: 0.2945 - val_accuracy: 0.9097\n",
            "Epoch 9/30\n",
            "1092/1092 [==============================] - 5s 4ms/step - loss: 0.4424 - accuracy: 0.8498 - val_loss: 0.2795 - val_accuracy: 0.9145\n",
            "Epoch 10/30\n",
            "1092/1092 [==============================] - 5s 4ms/step - loss: 0.4474 - accuracy: 0.8493 - val_loss: 0.2903 - val_accuracy: 0.9100\n",
            "Epoch 11/30\n",
            "1092/1092 [==============================] - 5s 4ms/step - loss: 0.4422 - accuracy: 0.8543 - val_loss: 0.2854 - val_accuracy: 0.9126\n",
            "Epoch 12/30\n",
            "1092/1092 [==============================] - 5s 4ms/step - loss: 0.4446 - accuracy: 0.8501 - val_loss: 0.2898 - val_accuracy: 0.9126\n",
            "Epoch 13/30\n",
            "1092/1092 [==============================] - 5s 4ms/step - loss: 0.4230 - accuracy: 0.8564 - val_loss: 0.2846 - val_accuracy: 0.9141\n",
            "Epoch 14/30\n",
            "1092/1092 [==============================] - 5s 4ms/step - loss: 0.4435 - accuracy: 0.8572 - val_loss: 0.2804 - val_accuracy: 0.9138\n",
            "Epoch 15/30\n",
            "1092/1092 [==============================] - 5s 4ms/step - loss: 0.4465 - accuracy: 0.8496 - val_loss: 0.2845 - val_accuracy: 0.9127\n",
            "Epoch 16/30\n",
            "1092/1092 [==============================] - 5s 4ms/step - loss: 0.4625 - accuracy: 0.8471 - val_loss: 0.2833 - val_accuracy: 0.9138\n",
            "Epoch 17/30\n",
            "1092/1092 [==============================] - 5s 4ms/step - loss: 0.4383 - accuracy: 0.8496 - val_loss: 0.2843 - val_accuracy: 0.9108\n",
            "Epoch 18/30\n",
            "1092/1092 [==============================] - 5s 4ms/step - loss: 0.4456 - accuracy: 0.8530 - val_loss: 0.2918 - val_accuracy: 0.9100\n",
            "Epoch 19/30\n",
            "1092/1092 [==============================] - 5s 4ms/step - loss: 0.4461 - accuracy: 0.8504 - val_loss: 0.2788 - val_accuracy: 0.9148\n",
            "Epoch 20/30\n",
            "1092/1092 [==============================] - 5s 4ms/step - loss: 0.4452 - accuracy: 0.8551 - val_loss: 0.2883 - val_accuracy: 0.9105\n",
            "Epoch 21/30\n",
            "1092/1092 [==============================] - 5s 4ms/step - loss: 0.4515 - accuracy: 0.8528 - val_loss: 0.2911 - val_accuracy: 0.9104\n",
            "Epoch 22/30\n",
            "1092/1092 [==============================] - 5s 4ms/step - loss: 0.4578 - accuracy: 0.8442 - val_loss: 0.2966 - val_accuracy: 0.9060\n",
            "Epoch 23/30\n",
            "1092/1092 [==============================] - 5s 4ms/step - loss: 0.4561 - accuracy: 0.8446 - val_loss: 0.2847 - val_accuracy: 0.9127\n",
            "Epoch 24/30\n",
            "1092/1092 [==============================] - 5s 4ms/step - loss: 0.4313 - accuracy: 0.8591 - val_loss: 0.2833 - val_accuracy: 0.9159\n",
            "Epoch 25/30\n",
            "1092/1092 [==============================] - 5s 4ms/step - loss: 0.4474 - accuracy: 0.8502 - val_loss: 0.3226 - val_accuracy: 0.9004\n",
            "Epoch 26/30\n",
            "1092/1092 [==============================] - 5s 4ms/step - loss: 0.4427 - accuracy: 0.8526 - val_loss: 0.2990 - val_accuracy: 0.9049\n",
            "Epoch 27/30\n",
            "1092/1092 [==============================] - 5s 4ms/step - loss: 0.4325 - accuracy: 0.8542 - val_loss: 0.2882 - val_accuracy: 0.9108\n",
            "Epoch 28/30\n",
            "1092/1092 [==============================] - 5s 4ms/step - loss: 0.4448 - accuracy: 0.8520 - val_loss: 0.2913 - val_accuracy: 0.9103\n",
            "Epoch 29/30\n",
            "1092/1092 [==============================] - 5s 4ms/step - loss: 0.4404 - accuracy: 0.8511 - val_loss: 0.2917 - val_accuracy: 0.9122\n",
            "Epoch 30/30\n",
            "1092/1092 [==============================] - 5s 4ms/step - loss: 0.4469 - accuracy: 0.8505 - val_loss: 0.2883 - val_accuracy: 0.9109\n"
          ],
          "name": "stdout"
        }
      ]
    },
    {
      "cell_type": "code",
      "metadata": {
        "id": "rouyZp8RzIyP",
        "colab": {
          "base_uri": "https://localhost:8080/"
        },
        "outputId": "fef869da-5599-4423-a16e-fe4f9faa62b4"
      },
      "source": [
        "import time\n",
        "\n",
        "time_test_c = time.time()\n",
        "\n",
        "score_c = model_c.evaluate(X_test, y_test, verbose = 0)\n",
        "\n",
        "time_test_c = (time.time() - time_test_c)\n",
        "\n",
        "print(\"--- %s seconds ---\" % time_test_c)"
      ],
      "execution_count": null,
      "outputs": [
        {
          "output_type": "stream",
          "text": [
            "--- 0.32587480545043945 seconds ---\n"
          ],
          "name": "stdout"
        }
      ]
    },
    {
      "cell_type": "code",
      "metadata": {
        "id": "z_3_vpU4zSrN",
        "colab": {
          "base_uri": "https://localhost:8080/"
        },
        "outputId": "cf972c50-6f52-4bc2-9796-cc8af2b2ece6"
      },
      "source": [
        "print('Test score:', score_c[0])\n",
        "print('Test accuracy:', score_c[1])\n",
        "\n",
        "fig, (ax1, ax2) = plt.subplots(2, figsize=(8, 6))\n",
        "\n",
        "acc = history_c.history['accuracy']\n",
        "loss = history_c.history['loss']\n",
        "val_acc = history_c.history['val_accuracy']\n",
        "val_loss = history_c.history['val_loss']\n",
        "ax1.plot(val_acc, label='Val')\n",
        "ax1.plot(acc, label='Train')\n",
        "ax2.plot(val_loss, label='Val')\n",
        "ax2.plot(loss, label='Train')\n",
        "    \n",
        "ax1.set_ylabel('accuracy')\n",
        "ax2.set_ylabel('loss')\n",
        "ax2.set_xlabel('epochs')\n",
        "ax1.legend()\n",
        "ax2.legend()\n",
        "plt.show()\n",
        "\n",
        "print(model_c.summary())"
      ],
      "execution_count": null,
      "outputs": [
        {
          "output_type": "stream",
          "text": [
            "Test score: 0.30102548003196716\n",
            "Test accuracy: 0.9063917398452759\n"
          ],
          "name": "stdout"
        },
        {
          "output_type": "display_data",
          "data": {
            "image/png": "[encoded data removed]",
            "text/plain": [
              "<Figure size 576x432 with 2 Axes>"
            ]
          },
          "metadata": {
            "tags": [],
            "needs_background": "light"
          }
        },
        {
          "output_type": "stream",
          "text": [
            "Model: \"sequential_5\"\n",
            "_________________________________________________________________\n",
            "Layer (type)                 Output Shape              Param #   \n",
            "=================================================================\n",
            "dense_18 (Dense)             (None, 10)                150       \n",
            "_________________________________________________________________\n",
            "batch_normalization_2 (Batch (None, 10)                40        \n",
            "_________________________________________________________________\n",
            "dropout_6 (Dropout)          (None, 10)                0         \n",
            "_________________________________________________________________\n",
            "dense_19 (Dense)             (None, 7)                 77        \n",
            "_________________________________________________________________\n",
            "batch_normalization_3 (Batch (None, 7)                 28        \n",
            "_________________________________________________________________\n",
            "dropout_7 (Dropout)          (None, 7)                 0         \n",
            "_________________________________________________________________\n",
            "dense_20 (Dense)             (None, 5)                 40        \n",
            "_________________________________________________________________\n",
            "dense_21 (Dense)             (None, 3)                 18        \n",
            "=================================================================\n",
            "Total params: 353\n",
            "Trainable params: 319\n",
            "Non-trainable params: 34\n",
            "_________________________________________________________________\n",
            "None\n"
          ],
          "name": "stdout"
        }
      ]
    },
    {
      "cell_type": "markdown",
      "metadata": {
        "id": "V-L57P1Wgl_o"
      },
      "source": [
        "Resources\n",
        "- https://towardsdatascience.com/a-guide-to-an-efficient-way-to-build-neural-network-architectures-part-i-hyper-parameter-8129009f131b"
      ]
    },
    {
      "cell_type": "markdown",
      "metadata": {
        "id": "uiH2zHD4q3C4"
      },
      "source": [
        "**Comparing models**"
      ]
    },
    {
      "cell_type": "code",
      "metadata": {
        "colab": {
          "base_uri": "https://localhost:8080/"
        },
        "id": "fx9dv9Tiqvy7",
        "outputId": "b5369be6-6672-4d07-cfc1-a923f1ee06e9"
      },
      "source": [
        "models = [1, 2, 3]\n",
        "accuracies = [score_a_30[1], score_b[1], score_c[1]]\n",
        "\n",
        "plt.grid()\n",
        "plt.xlabel(\"Models\")\n",
        "plt.ylabel(\"Accuracies (%)\")\n",
        "\n",
        "labels = [\"Model A\", \"Model B\", \"Model C\"]\n",
        "\n",
        "plt.xticks(models, labels)\n",
        "\n",
        "plt.plot(models, accuracies)\n",
        "\n",
        "plt.show()\n",
        "\n",
        "\n",
        "models = [1, 2, 3]\n",
        "losses = [score_a_30[0], score_b[0], score_c[0]]\n",
        "\n",
        "plt.grid()\n",
        "plt.xlabel(\"Models\")\n",
        "plt.ylabel(\"losses (%)\")\n",
        "\n",
        "labels = [\"Model A\", \"Model B\", \"Model C\"]\n",
        "\n",
        "plt.xticks(models, labels)\n",
        "\n",
        "plt.plot(models, losses)\n",
        "\n",
        "plt.show()"
      ],
      "execution_count": null,
      "outputs": [
        {
          "output_type": "display_data",
          "data": {
            "image/png": "[encoded data removed]",
            "text/plain": [
              "<Figure size 432x288 with 1 Axes>"
            ]
          },
          "metadata": {
            "tags": [],
            "needs_background": "light"
          }
        }
      ]
    },
    {
      "cell_type": "code",
      "metadata": {
        "colab": {
          "base_uri": "https://localhost:8080/"
        },
        "id": "hq5EUon8zZaI",
        "outputId": "0982fab7-01f7-4838-832a-8b5b9f587843"
      },
      "source": [
        "\n",
        "models = [1, 2, 3]\n",
        "time_to_trains = [time_train_a, time_train_b, time_train_c]\n",
        "\n",
        "plt.grid()\n",
        "plt.xlabel(\"Models\")\n",
        "plt.ylabel(\"Time to train\")\n",
        "\n",
        "labels = [\"Model A\", \"Model B\", \"Model C\"]\n",
        "\n",
        "plt.xticks(models, labels)\n",
        "\n",
        "plt.plot(models, time_to_trains)\n",
        "\n",
        "plt.show()"
      ],
      "execution_count": null,
      "outputs": [
        {
          "output_type": "display_data",
          "data": {
            "image/png": "[encoded data removed]",
            "text/plain": [
              "<Figure size 432x288 with 1 Axes>"
            ]
          },
          "metadata": {
            "tags": [],
            "needs_background": "light"
          }
        }
      ]
    },
    {
      "cell_type": "code",
      "metadata": {
        "colab": {
          "base_uri": "https://localhost:8080/",
          "height": 278
        },
        "id": "Uq-lMfMnzmKd",
        "outputId": "6627f998-395c-432a-f37a-c130ac61f269"
      },
      "source": [
        "models = [1, 2, 3]\n",
        "time_to_test = [time_test_a, time_test_b, time_test_c]\n",
        "\n",
        "plt.grid()\n",
        "plt.xlabel(\"Models\")\n",
        "plt.ylabel(\"Time to test\")\n",
        "\n",
        "labels = [\"Model A\", \"Model B\", \"Model C\"]\n",
        "\n",
        "plt.xticks(models, labels)\n",
        "\n",
        "plt.plot(models, time_to_test)\n",
        "\n",
        "plt.show()"
      ],
      "execution_count": null,
      "outputs": [
        {
          "output_type": "display_data",
          "data": {
            "image/png": "[encoded data removed]",
            "text/plain": [
              "<Figure size 432x288 with 1 Axes>"
            ]
          },
          "metadata": {
            "tags": [],
            "needs_background": "light"
          }
        }
      ]
    }
  ]
}