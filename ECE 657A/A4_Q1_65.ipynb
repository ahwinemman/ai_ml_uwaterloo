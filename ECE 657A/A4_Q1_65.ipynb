{
  "nbformat": 4,
  "nbformat_minor": 0,
  "metadata": {
    "colab": {
      "name": "A4_Q1_65.ipynb",
      "provenance": [],
      "collapsed_sections": []
    },
    "kernelspec": {
      "name": "python3",
      "display_name": "Python 3"
    },
    "language_info": {
      "name": "python"
    }
  },
  "cells": [
    {
      "cell_type": "code",
      "metadata": {
        "colab": {
          "base_uri": "https://localhost:8080/"
        },
        "id": "2fFGacqNZ2Al",
        "outputId": "573d18ae-238b-4c8f-b50a-36c942a67d15"
      },
      "source": [
        "import numpy as np\n",
        "import pandas as pd\n",
        "from pandas.core.common import flatten\n",
        "from sklearn.model_selection import train_test_split\n",
        "from sklearn.model_selection import cross_val_score\n",
        "from sklearn import preprocessing\n",
        "from sklearn.preprocessing import OneHotEncoder\n",
        "import matplotlib.pyplot as plt\n",
        "from sklearn import tree\n",
        "import seaborn as sns\n",
        "from sklearn.preprocessing import StandardScaler\n",
        "from sklearn.preprocessing import MinMaxScaler\n",
        "import io\n",
        "\n",
        "from google.colab import drive\n",
        "drive.mount('/content/drive')\n",
        "#Reading the data using Pandas library\n",
        "\n",
        "#df = pd.read_csv(io.StringIO(uploaded['COVID_dataset.csv'].decode('utf-8')))"
      ],
      "execution_count": null,
      "outputs": [
        {
          "output_type": "stream",
          "text": [
            "Mounted at /content/drive\n"
          ],
          "name": "stdout"
        }
      ]
    },
    {
      "cell_type": "code",
      "metadata": {
        "id": "4sgASjjShXNk",
        "colab": {
          "base_uri": "https://localhost:8080/"
        },
        "outputId": "64ecbf47-b288-4fd1-ca44-cf907762a8f5"
      },
      "source": [
        "ls"
      ],
      "execution_count": null,
      "outputs": [
        {
          "output_type": "stream",
          "text": [
            "\u001b[0m\u001b[01;34mdrive\u001b[0m/  \u001b[01;34msample_data\u001b[0m/\n"
          ],
          "name": "stdout"
        }
      ]
    },
    {
      "cell_type": "code",
      "metadata": {
        "id": "9ozL7inFhGgC",
        "colab": {
          "base_uri": "https://localhost:8080/"
        },
        "outputId": "c5da3e03-b30f-4bb8-bb99-918db37d6b90"
      },
      "source": [
        "cd \"drive/My Drive/Colab Notebooks\""
      ],
      "execution_count": null,
      "outputs": [
        {
          "output_type": "stream",
          "text": [
            "/content/drive/My Drive/Colab Notebooks\n"
          ],
          "name": "stdout"
        }
      ]
    },
    {
      "cell_type": "code",
      "metadata": {
        "id": "Xwz6rBNAkyzl"
      },
      "source": [
        "df = pd.read_csv('COVID_dataset.csv')"
      ],
      "execution_count": null,
      "outputs": []
    },
    {
      "cell_type": "code",
      "metadata": {
        "colab": {
          "base_uri": "https://localhost:8080/",
          "height": 251
        },
        "id": "59Mbtmw7k3pw",
        "outputId": "244be4f4-367d-44ed-ca64-7f21075b0497"
      },
      "source": [
        "df.head()"
      ],
      "execution_count": null,
      "outputs": [
        {
          "output_type": "execute_result",
          "data": {
            "text/html": [
              "<div>\n",
              "<style scoped>\n",
              "    .dataframe tbody tr th:only-of-type {\n",
              "        vertical-align: middle;\n",
              "    }\n",
              "\n",
              "    .dataframe tbody tr th {\n",
              "        vertical-align: top;\n",
              "    }\n",
              "\n",
              "    .dataframe thead th {\n",
              "        text-align: right;\n",
              "    }\n",
              "</style>\n",
              "<table border=\"1\" class=\"dataframe\">\n",
              "  <thead>\n",
              "    <tr style=\"text-align: right;\">\n",
              "      <th></th>\n",
              "      <th>Accurate_Episode_Date</th>\n",
              "      <th>Case_Reported_Date</th>\n",
              "      <th>Test_Reported_Date</th>\n",
              "      <th>Specimen_Date</th>\n",
              "      <th>Age_Group</th>\n",
              "      <th>Client_Gender</th>\n",
              "      <th>Case_AcquisitionInfo</th>\n",
              "      <th>Reporting_PHU_City</th>\n",
              "      <th>Outbreak_Related</th>\n",
              "      <th>Reporting_PHU_Latitude</th>\n",
              "      <th>Reporting_PHU_Longitude</th>\n",
              "      <th>Outcome1</th>\n",
              "    </tr>\n",
              "  </thead>\n",
              "  <tbody>\n",
              "    <tr>\n",
              "      <th>0</th>\n",
              "      <td>2020-03-30</td>\n",
              "      <td>2020-03-31</td>\n",
              "      <td>2020-03-31</td>\n",
              "      <td>2020-03-30</td>\n",
              "      <td>70s</td>\n",
              "      <td>MALE</td>\n",
              "      <td>OB</td>\n",
              "      <td>Stratford</td>\n",
              "      <td>Yes</td>\n",
              "      <td>43.368662</td>\n",
              "      <td>-81.001913</td>\n",
              "      <td>Fatal</td>\n",
              "    </tr>\n",
              "    <tr>\n",
              "      <th>1</th>\n",
              "      <td>2021-01-22</td>\n",
              "      <td>2021-01-24</td>\n",
              "      <td>2021-01-24</td>\n",
              "      <td>2021-01-23</td>\n",
              "      <td>50s</td>\n",
              "      <td>FEMALE</td>\n",
              "      <td>NO KNOWN EPI LINK</td>\n",
              "      <td>Newmarket</td>\n",
              "      <td>NaN</td>\n",
              "      <td>44.048023</td>\n",
              "      <td>-79.480239</td>\n",
              "      <td>Not Resolved</td>\n",
              "    </tr>\n",
              "    <tr>\n",
              "      <th>2</th>\n",
              "      <td>2020-03-24</td>\n",
              "      <td>2020-04-14</td>\n",
              "      <td>2020-04-14</td>\n",
              "      <td>2020-04-13</td>\n",
              "      <td>70s</td>\n",
              "      <td>FEMALE</td>\n",
              "      <td>OB</td>\n",
              "      <td>Toronto</td>\n",
              "      <td>Yes</td>\n",
              "      <td>43.656591</td>\n",
              "      <td>-79.379358</td>\n",
              "      <td>Resolved</td>\n",
              "    </tr>\n",
              "    <tr>\n",
              "      <th>3</th>\n",
              "      <td>2021-01-18</td>\n",
              "      <td>2021-01-21</td>\n",
              "      <td>2021-01-21</td>\n",
              "      <td>2021-01-18</td>\n",
              "      <td>&lt;20</td>\n",
              "      <td>MALE</td>\n",
              "      <td>CC</td>\n",
              "      <td>Mississauga</td>\n",
              "      <td>NaN</td>\n",
              "      <td>43.647471</td>\n",
              "      <td>-79.708893</td>\n",
              "      <td>Not Resolved</td>\n",
              "    </tr>\n",
              "    <tr>\n",
              "      <th>4</th>\n",
              "      <td>2020-12-26</td>\n",
              "      <td>2020-12-28</td>\n",
              "      <td>2020-12-28</td>\n",
              "      <td>2020-12-26</td>\n",
              "      <td>60s</td>\n",
              "      <td>MALE</td>\n",
              "      <td>OB</td>\n",
              "      <td>Windsor</td>\n",
              "      <td>Yes</td>\n",
              "      <td>42.308796</td>\n",
              "      <td>-83.033670</td>\n",
              "      <td>Resolved</td>\n",
              "    </tr>\n",
              "  </tbody>\n",
              "</table>\n",
              "</div>"
            ],
            "text/plain": [
              "  Accurate_Episode_Date  ...      Outcome1\n",
              "0            2020-03-30  ...         Fatal\n",
              "1            2021-01-22  ...  Not Resolved\n",
              "2            2020-03-24  ...      Resolved\n",
              "3            2021-01-18  ...  Not Resolved\n",
              "4            2020-12-26  ...      Resolved\n",
              "\n",
              "[5 rows x 12 columns]"
            ]
          },
          "metadata": {
            "tags": []
          },
          "execution_count": 195
        }
      ]
    },
    {
      "cell_type": "code",
      "metadata": {
        "colab": {
          "base_uri": "https://localhost:8080/"
        },
        "id": "s0xMkXK35G--",
        "outputId": "81e61319-032b-46b8-a102-cde6b4714713"
      },
      "source": [
        "df.info()\n",
        "df.isnull().sum(axis=0)\n"
      ],
      "execution_count": null,
      "outputs": [
        {
          "output_type": "stream",
          "text": [
            "<class 'pandas.core.frame.DataFrame'>\n",
            "RangeIndex: 14860 entries, 0 to 14859\n",
            "Data columns (total 12 columns):\n",
            " #   Column                   Non-Null Count  Dtype  \n",
            "---  ------                   --------------  -----  \n",
            " 0   Accurate_Episode_Date    14860 non-null  object \n",
            " 1   Case_Reported_Date       14860 non-null  object \n",
            " 2   Test_Reported_Date       14657 non-null  object \n",
            " 3   Specimen_Date            14738 non-null  object \n",
            " 4   Age_Group                14855 non-null  object \n",
            " 5   Client_Gender            14860 non-null  object \n",
            " 6   Case_AcquisitionInfo     14860 non-null  object \n",
            " 7   Reporting_PHU_City       14860 non-null  object \n",
            " 8   Outbreak_Related         5778 non-null   object \n",
            " 9   Reporting_PHU_Latitude   14860 non-null  float64\n",
            " 10  Reporting_PHU_Longitude  14860 non-null  float64\n",
            " 11  Outcome1                 14860 non-null  object \n",
            "dtypes: float64(2), object(10)\n",
            "memory usage: 1.4+ MB\n"
          ],
          "name": "stdout"
        },
        {
          "output_type": "execute_result",
          "data": {
            "text/plain": [
              "Accurate_Episode_Date         0\n",
              "Case_Reported_Date            0\n",
              "Test_Reported_Date          203\n",
              "Specimen_Date               122\n",
              "Age_Group                     5\n",
              "Client_Gender                 0\n",
              "Case_AcquisitionInfo          0\n",
              "Reporting_PHU_City            0\n",
              "Outbreak_Related           9082\n",
              "Reporting_PHU_Latitude        0\n",
              "Reporting_PHU_Longitude       0\n",
              "Outcome1                      0\n",
              "dtype: int64"
            ]
          },
          "metadata": {
            "tags": []
          },
          "execution_count": 196
        }
      ]
    },
    {
      "cell_type": "markdown",
      "metadata": {
        "id": "ZgCRwYQsfVer"
      },
      "source": [
        "**Data Preprocessing**"
      ]
    },
    {
      "cell_type": "code",
      "metadata": {
        "id": "-WVYQSoRnLIX"
      },
      "source": [
        "#Label (Outcome1) encoding\n",
        "le = preprocessing.LabelEncoder()\n",
        "#Here, we are labeling encoding the Outcome1 as Ordinal Categorical (Seriousness or severity of the outcome) data - 0 1 2\n",
        "le.fit(df.Outcome1)\n",
        "le.fit(['Fatal', 'Not Resolved', 'Resolved'])\n",
        "le.classes_\n",
        "df['Outcome1'] = le.transform(df['Outcome1'])"
      ],
      "execution_count": null,
      "outputs": []
    },
    {
      "cell_type": "code",
      "metadata": {
        "colab": {
          "base_uri": "https://localhost:8080/",
          "height": 394
        },
        "id": "ncXZIYOAuWTK",
        "outputId": "a1f986dd-c8bd-4bdc-b342-da5b2991f48a"
      },
      "source": [
        "#Here we are replacing <20 in Age_Group with 10 so that Sklearn can process it\n",
        "df.loc[(df.Age_Group == '<20'),'Age_Group']='10'\n",
        "\n",
        "#Here we are replacing the missing valves in Outbreak_Related as \"No\"\n",
        "df['Outbreak_Related'] = df['Outbreak_Related'].fillna(\"No\")\n",
        "\n",
        "# Removing selected dates \n",
        "df = df.drop(['Test_Reported_Date'], axis = 1)\n",
        "df = df.drop(['Specimen_Date'], axis = 1) \n",
        "\n",
        "#Here, we are dropping any row which has any missing values.\n",
        "df = df.dropna(how='any')\n",
        "\n",
        "#Here we are cleaning the 's' in the Age_Group so that sklearn accept the data\n",
        "df = df.reset_index(drop=True)\n",
        "df['Age_Group'] = df['Age_Group'].str.replace(r'\\D', '')\n",
        "df.isnull().sum(axis=0)\n",
        "\n",
        "\n",
        "leOR = preprocessing.LabelEncoder()\n",
        "leAg = preprocessing.LabelEncoder()\n",
        "\n",
        "#Here, we are labeling encoding the Outbreak_Related as binary - 0 1\n",
        "leOR.fit(df.Outbreak_Related)\n",
        "leOR.fit(['Yes', 'No'])\n",
        "leOR.classes_\n",
        "df['Outbreak_Related'] = leOR.transform(df['Outbreak_Related'])\n",
        "\n",
        "#Here, we are labeling encoding the Age_Group so that Sklearn treats this feature as Ordinal Categorical data\n",
        "leAg.fit(df.Age_Group)\n",
        "leAg.fit(['10', '20', '30', '40', '50', '60', '70', '80', '90'])\n",
        "leAg.classes_\n",
        "#df['Age_Group'] = leAg.transform(df['Age_Group'])\n",
        "\n",
        "df_pp = df\n",
        "\n",
        "#Here, we are dropping rows with GENDER DIVERSE (treating them as outliers) and UNSPECIFIED (treating them as missing values) \n",
        "df.drop(df[df['Client_Gender'] == 'GENDER DIVERSE'].index, inplace = True) \n",
        "df.drop(df[df['Client_Gender'] == 'UNSPECIFIED'].index, inplace = True) \n",
        "df = df.reset_index(drop=True)\n",
        "\n",
        "#One-hot-encoding\n",
        "enc = OneHotEncoder(handle_unknown='ignore')\n",
        "\n",
        "en_CG = enc.fit_transform(df[['Client_Gender']]).toarray()\n",
        "column_name_Gender = enc.get_feature_names(['Client_Gender'])\n",
        "enc_df_Gender = pd.DataFrame(en_CG, columns= column_name_Gender)\n",
        "\n",
        "en_CA = enc.fit_transform(df[['Case_AcquisitionInfo']]).toarray()\n",
        "column_name_CA = enc.get_feature_names(['Case_AcquisitionInfo'])\n",
        "enc_df_CA = pd.DataFrame(en_CA, columns= column_name_CA)\n",
        "\n",
        "df = df.join(enc_df_Gender)\n",
        "df = df.join(enc_df_CA)\n",
        "\n",
        "#en_City = enc.fit_transform(df[['Reporting_PHU_City']]).toarray()\n",
        "#column_name_City = enc.get_feature_names(['Reporting_PHU_City'])\n",
        "#enc_df_City = pd.DataFrame(en_City, columns= column_name_City)\n",
        "\n",
        "#df = df.join(enc_df_City)\n",
        "\n",
        "#####################################################################\n",
        "#df = df.drop(['Outbreak_Related'], axis = 1) \n",
        "#df = df.drop(['Reporting_PHU_Latitude'], axis = 1) \n",
        "#df = df.drop(['Reporting_PHU_Longitude'], axis = 1) \n",
        "\n",
        "df = df.drop(['Client_Gender'], axis = 1) \n",
        "df = df.drop(['Case_AcquisitionInfo'], axis = 1) \n",
        "df = df.drop(['Reporting_PHU_City'], axis = 1) \n",
        "\n",
        "from datetime import date\n",
        "\n",
        "for i in range(len(df['Accurate_Episode_Date'])):\n",
        "  df['Accurate_Episode_Date'][i] = (date.fromisoformat(df['Accurate_Episode_Date'][i]) - date(2018, 1, 1)).days\n",
        "  df['Case_Reported_Date'][i] = (date.fromisoformat(df['Case_Reported_Date'][i]) - date(2018, 1, 1)).days\n",
        "\n",
        "df_OC = df['Outcome1']\n",
        "df = df.drop(['Outcome1'], axis = 1) \n",
        "dfX = df\n",
        "df = df.join(df_OC)\n",
        "\n",
        "#X = df_pp.iloc[:,:-1].values\n",
        "#y = df_pp.iloc[:,7].values\n",
        "X = df.iloc[:,:-1].values.astype(float)\n",
        "y = df.iloc[:,14].values.astype(int)\n",
        "\n",
        "\n",
        "print(df.shape)\n",
        "df.head()\n",
        "\n"
      ],
      "execution_count": null,
      "outputs": [
        {
          "output_type": "stream",
          "text": [
            "/usr/local/lib/python3.7/dist-packages/ipykernel_launcher.py:74: SettingWithCopyWarning: \n",
            "A value is trying to be set on a copy of a slice from a DataFrame\n",
            "\n",
            "See the caveats in the documentation: https://pandas.pydata.org/pandas-docs/stable/user_guide/indexing.html#returning-a-view-versus-a-copy\n",
            "/usr/local/lib/python3.7/dist-packages/ipykernel_launcher.py:75: SettingWithCopyWarning: \n",
            "A value is trying to be set on a copy of a slice from a DataFrame\n",
            "\n",
            "See the caveats in the documentation: https://pandas.pydata.org/pandas-docs/stable/user_guide/indexing.html#returning-a-view-versus-a-copy\n"
          ],
          "name": "stderr"
        },
        {
          "output_type": "stream",
          "text": [
            "(14751, 15)\n"
          ],
          "name": "stdout"
        },
        {
          "output_type": "execute_result",
          "data": {
            "text/html": [
              "<div>\n",
              "<style scoped>\n",
              "    .dataframe tbody tr th:only-of-type {\n",
              "        vertical-align: middle;\n",
              "    }\n",
              "\n",
              "    .dataframe tbody tr th {\n",
              "        vertical-align: top;\n",
              "    }\n",
              "\n",
              "    .dataframe thead th {\n",
              "        text-align: right;\n",
              "    }\n",
              "</style>\n",
              "<table border=\"1\" class=\"dataframe\">\n",
              "  <thead>\n",
              "    <tr style=\"text-align: right;\">\n",
              "      <th></th>\n",
              "      <th>Accurate_Episode_Date</th>\n",
              "      <th>Case_Reported_Date</th>\n",
              "      <th>Age_Group</th>\n",
              "      <th>Outbreak_Related</th>\n",
              "      <th>Reporting_PHU_Latitude</th>\n",
              "      <th>Reporting_PHU_Longitude</th>\n",
              "      <th>Client_Gender_FEMALE</th>\n",
              "      <th>Client_Gender_MALE</th>\n",
              "      <th>Case_AcquisitionInfo_CC</th>\n",
              "      <th>Case_AcquisitionInfo_MISSING INFORMATION</th>\n",
              "      <th>Case_AcquisitionInfo_NO KNOWN EPI LINK</th>\n",
              "      <th>Case_AcquisitionInfo_OB</th>\n",
              "      <th>Case_AcquisitionInfo_TRAVEL</th>\n",
              "      <th>Case_AcquisitionInfo_UNSPECIFIED EPI LINK</th>\n",
              "      <th>Outcome1</th>\n",
              "    </tr>\n",
              "  </thead>\n",
              "  <tbody>\n",
              "    <tr>\n",
              "      <th>0</th>\n",
              "      <td>819</td>\n",
              "      <td>820</td>\n",
              "      <td>70</td>\n",
              "      <td>1</td>\n",
              "      <td>43.368662</td>\n",
              "      <td>-81.001913</td>\n",
              "      <td>0.0</td>\n",
              "      <td>1.0</td>\n",
              "      <td>0.0</td>\n",
              "      <td>0.0</td>\n",
              "      <td>0.0</td>\n",
              "      <td>1.0</td>\n",
              "      <td>0.0</td>\n",
              "      <td>0.0</td>\n",
              "      <td>0</td>\n",
              "    </tr>\n",
              "    <tr>\n",
              "      <th>1</th>\n",
              "      <td>1117</td>\n",
              "      <td>1119</td>\n",
              "      <td>50</td>\n",
              "      <td>0</td>\n",
              "      <td>44.048023</td>\n",
              "      <td>-79.480239</td>\n",
              "      <td>1.0</td>\n",
              "      <td>0.0</td>\n",
              "      <td>0.0</td>\n",
              "      <td>0.0</td>\n",
              "      <td>1.0</td>\n",
              "      <td>0.0</td>\n",
              "      <td>0.0</td>\n",
              "      <td>0.0</td>\n",
              "      <td>1</td>\n",
              "    </tr>\n",
              "    <tr>\n",
              "      <th>2</th>\n",
              "      <td>813</td>\n",
              "      <td>834</td>\n",
              "      <td>70</td>\n",
              "      <td>1</td>\n",
              "      <td>43.656591</td>\n",
              "      <td>-79.379358</td>\n",
              "      <td>1.0</td>\n",
              "      <td>0.0</td>\n",
              "      <td>0.0</td>\n",
              "      <td>0.0</td>\n",
              "      <td>0.0</td>\n",
              "      <td>1.0</td>\n",
              "      <td>0.0</td>\n",
              "      <td>0.0</td>\n",
              "      <td>2</td>\n",
              "    </tr>\n",
              "    <tr>\n",
              "      <th>3</th>\n",
              "      <td>1113</td>\n",
              "      <td>1116</td>\n",
              "      <td>10</td>\n",
              "      <td>0</td>\n",
              "      <td>43.647471</td>\n",
              "      <td>-79.708893</td>\n",
              "      <td>0.0</td>\n",
              "      <td>1.0</td>\n",
              "      <td>1.0</td>\n",
              "      <td>0.0</td>\n",
              "      <td>0.0</td>\n",
              "      <td>0.0</td>\n",
              "      <td>0.0</td>\n",
              "      <td>0.0</td>\n",
              "      <td>1</td>\n",
              "    </tr>\n",
              "    <tr>\n",
              "      <th>4</th>\n",
              "      <td>1090</td>\n",
              "      <td>1092</td>\n",
              "      <td>60</td>\n",
              "      <td>1</td>\n",
              "      <td>42.308796</td>\n",
              "      <td>-83.033670</td>\n",
              "      <td>0.0</td>\n",
              "      <td>1.0</td>\n",
              "      <td>0.0</td>\n",
              "      <td>0.0</td>\n",
              "      <td>0.0</td>\n",
              "      <td>1.0</td>\n",
              "      <td>0.0</td>\n",
              "      <td>0.0</td>\n",
              "      <td>2</td>\n",
              "    </tr>\n",
              "  </tbody>\n",
              "</table>\n",
              "</div>"
            ],
            "text/plain": [
              "  Accurate_Episode_Date  ... Outcome1\n",
              "0                   819  ...        0\n",
              "1                  1117  ...        1\n",
              "2                   813  ...        2\n",
              "3                  1113  ...        1\n",
              "4                  1090  ...        2\n",
              "\n",
              "[5 rows x 15 columns]"
            ]
          },
          "metadata": {
            "tags": []
          },
          "execution_count": 198
        }
      ]
    },
    {
      "cell_type": "code",
      "metadata": {
        "id": "qQ2zovLOB7UW"
      },
      "source": [
        "from sklearn.preprocessing import StandardScaler\n",
        "sc_X = StandardScaler()\n",
        "\n",
        "# X  = sc_X.fit_transform(X)\n",
        "# # y  = sc_X.fit_transform(y.reshape(-1, 1))\n",
        "\n",
        "X[:,[4,5]]  = sc_X.fit_transform(X[:,[4,5]])\n",
        "X[:,[0,1,2]]  = sc_X.fit_transform(X[:,[0,1,2]])\n",
        "\n",
        "\n",
        "#Split arrays or matrices into random train and test subsets\n",
        "X_train, X_validate, y_train, y_validate = train_test_split(X, y, test_size=0.40, random_state = 275)\n",
        "X_test, X_validate, y_test, y_validate = train_test_split(X, y, test_size=0.50, random_state = 275)"
      ],
      "execution_count": null,
      "outputs": []
    },
    {
      "cell_type": "code",
      "metadata": {
        "id": "sN-G3E5i7Lgx"
      },
      "source": [
        "# MLP with automatic validation set\n",
        "import keras\n",
        "from keras.models import Sequential\n",
        "from keras.layers import Dense, Activation\n",
        "from keras.optimizers import SGD\n",
        "\n",
        "from sklearn.metrics import classification_report, confusion_matrix\n",
        "from keras.models import Sequential\n",
        "from keras.layers import Dense\n",
        "from keras.layers import Dropout\n",
        "\n",
        "from keras.wrappers.scikit_learn import KerasClassifier\n",
        "from keras.utils import np_utils\n",
        "from sklearn.model_selection import cross_val_score\n",
        "from sklearn.model_selection import KFold\n",
        "from sklearn.preprocessing import LabelEncoder\n",
        "from sklearn.pipeline import Pipeline\n"
      ],
      "execution_count": null,
      "outputs": []
    },
    {
      "cell_type": "code",
      "metadata": {
        "colab": {
          "base_uri": "https://localhost:8080/"
        },
        "id": "RKsuB9VEZ0sZ",
        "outputId": "b13fcdf7-e1d1-4206-af19-2d65639dc654"
      },
      "source": [
        "#y_train = keras.utils.to_categorical(y_train, num_classes = 3)\n",
        "#y_test = keras.utils.to_categorical(y_test, num_classes = 3)\n",
        "#print(y_train.shape)"
      ],
      "execution_count": null,
      "outputs": [
        {
          "output_type": "stream",
          "text": [
            "(11720, 3)\n"
          ],
          "name": "stdout"
        }
      ]
    },
    {
      "cell_type": "code",
      "metadata": {
        "id": "hHSoyOv-OaP-"
      },
      "source": [
        "model_a = Sequential()\n",
        "# model.add(Dense(100, activation='relu', input_dim=18))\n",
        "# model.add(Dense(3, activation='softmax'))\n",
        "# model_a.add(Dense(100, activation='relu', input_dim=(18)))\n",
        "# model_a.add(Dense(200, activation='relu'))\n",
        "# model_a.add(Dense(200, activation='relu'))\n",
        "# model_a.add(Dense(3))\n",
        "# #sgd = SGD(lr = 0.01, decay = 1e-6, momentum = 0.9, nesterov=True)\n",
        "# model_a.compile(optimizer='adam',\n",
        "#               loss='sparse_categorical_crossentropy',\n",
        "#               metrics=['accuracy'])\n",
        "\n",
        "model_a = Sequential()\n",
        "model_a.add(Dense(100, activation='relu', input_dim=14))\n",
        "model_a.add(Dense(500,activation='relu'))\n",
        "model_a.add(Dense(300,activation='relu'))\n",
        "model_a.add(Dropout(0.2))\n",
        "model_a.add(Dense(3,activation='softmax'))\n",
        "model_a.compile(loss='sparse_categorical_crossentropy',optimizer='adam',metrics=['accuracy'])\n",
        "#sgd = SGD(lr = 0.01, decay = 1e-6, momentum = 0.9, nesterov=True)\n",
        "model_a.compile(optimizer='adam',\n",
        "              loss='sparse_categorical_crossentropy',\n",
        "              metrics=['accuracy'])"
      ],
      "execution_count": null,
      "outputs": []
    },
    {
      "cell_type": "code",
      "metadata": {
        "colab": {
          "base_uri": "https://localhost:8080/"
        },
        "id": "T3Y8FCTHOp4F",
        "outputId": "4d92b014-6eba-4033-f46b-b007e2d36c9f"
      },
      "source": [
        "start_train_time = time.time()\n",
        "\n",
        "history = model_a.fit(X_train, y_train, epochs = 30, batch_size = 5, validation_data=(X_validate, y_validate))\n",
        "\n",
        "print(\"--- %s seconds ---\" % (time.time() - start_train_time))"
      ],
      "execution_count": null,
      "outputs": [
        {
          "output_type": "stream",
          "text": [
            "Epoch 1/30\n",
            "1770/1770 [==============================] - 8s 4ms/step - loss: 0.4650 - accuracy: 0.8141 - val_loss: 0.3078 - val_accuracy: 0.8839\n",
            "Epoch 2/30\n",
            "1770/1770 [==============================] - 8s 4ms/step - loss: 0.3011 - accuracy: 0.8895 - val_loss: 0.2781 - val_accuracy: 0.8995\n",
            "Epoch 3/30\n",
            "1770/1770 [==============================] - 7s 4ms/step - loss: 0.2920 - accuracy: 0.8881 - val_loss: 0.2826 - val_accuracy: 0.9008\n",
            "Epoch 4/30\n",
            "1770/1770 [==============================] - 7s 4ms/step - loss: 0.2737 - accuracy: 0.8993 - val_loss: 0.2586 - val_accuracy: 0.9090\n",
            "Epoch 5/30\n",
            "1770/1770 [==============================] - 7s 4ms/step - loss: 0.2646 - accuracy: 0.9021 - val_loss: 0.2679 - val_accuracy: 0.8975\n",
            "Epoch 6/30\n",
            "1770/1770 [==============================] - 7s 4ms/step - loss: 0.2621 - accuracy: 0.9045 - val_loss: 0.2888 - val_accuracy: 0.8976\n",
            "Epoch 7/30\n",
            "1770/1770 [==============================] - 7s 4ms/step - loss: 0.2624 - accuracy: 0.9073 - val_loss: 0.2936 - val_accuracy: 0.8980\n",
            "Epoch 8/30\n",
            "1770/1770 [==============================] - 7s 4ms/step - loss: 0.2582 - accuracy: 0.9061 - val_loss: 0.2963 - val_accuracy: 0.9010\n",
            "Epoch 9/30\n",
            "1770/1770 [==============================] - 7s 4ms/step - loss: 0.2622 - accuracy: 0.9064 - val_loss: 0.2760 - val_accuracy: 0.9052\n",
            "Epoch 10/30\n",
            "1770/1770 [==============================] - 7s 4ms/step - loss: 0.2504 - accuracy: 0.9060 - val_loss: 0.2494 - val_accuracy: 0.9126\n",
            "Epoch 11/30\n",
            "1770/1770 [==============================] - 7s 4ms/step - loss: 0.2429 - accuracy: 0.9133 - val_loss: 0.2780 - val_accuracy: 0.9063\n",
            "Epoch 12/30\n",
            "1770/1770 [==============================] - 7s 4ms/step - loss: 0.2550 - accuracy: 0.9082 - val_loss: 0.3013 - val_accuracy: 0.8955\n",
            "Epoch 13/30\n",
            "1770/1770 [==============================] - 7s 4ms/step - loss: 0.2517 - accuracy: 0.9131 - val_loss: 0.2772 - val_accuracy: 0.9047\n",
            "Epoch 14/30\n",
            "1770/1770 [==============================] - 7s 4ms/step - loss: 0.2420 - accuracy: 0.9186 - val_loss: 0.2686 - val_accuracy: 0.9067\n",
            "Epoch 15/30\n",
            "1770/1770 [==============================] - 7s 4ms/step - loss: 0.2358 - accuracy: 0.9134 - val_loss: 0.2653 - val_accuracy: 0.9153\n",
            "Epoch 16/30\n",
            "1770/1770 [==============================] - 7s 4ms/step - loss: 0.2376 - accuracy: 0.9133 - val_loss: 0.2695 - val_accuracy: 0.9104\n",
            "Epoch 17/30\n",
            "1770/1770 [==============================] - 7s 4ms/step - loss: 0.2473 - accuracy: 0.9090 - val_loss: 0.2637 - val_accuracy: 0.9071\n",
            "Epoch 18/30\n",
            "1770/1770 [==============================] - 7s 4ms/step - loss: 0.2359 - accuracy: 0.9181 - val_loss: 0.2702 - val_accuracy: 0.9115\n",
            "Epoch 19/30\n",
            "1770/1770 [==============================] - 7s 4ms/step - loss: 0.2506 - accuracy: 0.9103 - val_loss: 0.2574 - val_accuracy: 0.9154\n",
            "Epoch 20/30\n",
            "1770/1770 [==============================] - 7s 4ms/step - loss: 0.2253 - accuracy: 0.9156 - val_loss: 0.2688 - val_accuracy: 0.9121\n",
            "Epoch 21/30\n",
            "1770/1770 [==============================] - 7s 4ms/step - loss: 0.2331 - accuracy: 0.9185 - val_loss: 0.2690 - val_accuracy: 0.9093\n",
            "Epoch 22/30\n",
            "1770/1770 [==============================] - 7s 4ms/step - loss: 0.2173 - accuracy: 0.9190 - val_loss: 0.2849 - val_accuracy: 0.9077\n",
            "Epoch 23/30\n",
            "1770/1770 [==============================] - 7s 4ms/step - loss: 0.2271 - accuracy: 0.9183 - val_loss: 0.2814 - val_accuracy: 0.9063\n",
            "Epoch 24/30\n",
            "1770/1770 [==============================] - 7s 4ms/step - loss: 0.2342 - accuracy: 0.9148 - val_loss: 0.2644 - val_accuracy: 0.9089\n",
            "Epoch 25/30\n",
            "1770/1770 [==============================] - 7s 4ms/step - loss: 0.2295 - accuracy: 0.9158 - val_loss: 0.2779 - val_accuracy: 0.9037\n",
            "Epoch 26/30\n",
            "1770/1770 [==============================] - 7s 4ms/step - loss: 0.2254 - accuracy: 0.9180 - val_loss: 0.2631 - val_accuracy: 0.9124\n",
            "Epoch 27/30\n",
            "1770/1770 [==============================] - 7s 4ms/step - loss: 0.2331 - accuracy: 0.9119 - val_loss: 0.2646 - val_accuracy: 0.9131\n",
            "Epoch 28/30\n",
            "1770/1770 [==============================] - 7s 4ms/step - loss: 0.2176 - accuracy: 0.9232 - val_loss: 0.2611 - val_accuracy: 0.9153\n",
            "Epoch 29/30\n",
            "1770/1770 [==============================] - 7s 4ms/step - loss: 0.2211 - accuracy: 0.9205 - val_loss: 0.2789 - val_accuracy: 0.9139\n",
            "Epoch 30/30\n",
            "1770/1770 [==============================] - 7s 4ms/step - loss: 0.2192 - accuracy: 0.9175 - val_loss: 0.2792 - val_accuracy: 0.9075\n",
            "--- 219.07119703292847 seconds ---\n"
          ],
          "name": "stdout"
        }
      ]
    },
    {
      "cell_type": "code",
      "metadata": {
        "id": "7HRpt_YvOz43",
        "colab": {
          "base_uri": "https://localhost:8080/"
        },
        "outputId": "327a04ae-4cbf-41dd-eef7-9753db518926"
      },
      "source": [
        "import time\n",
        "\n",
        "start_train_time = time.time()\n",
        "\n",
        "score = model_a.evaluate(X_test, y_test, verbose = 0)\n",
        "\n",
        "print(\"--- %s seconds ---\" % (time.time() - start_train_time))"
      ],
      "execution_count": null,
      "outputs": [
        {
          "output_type": "stream",
          "text": [
            "--- 0.3494298458099365 seconds ---\n"
          ],
          "name": "stdout"
        }
      ]
    },
    {
      "cell_type": "code",
      "metadata": {
        "colab": {
          "base_uri": "https://localhost:8080/",
          "height": 425
        },
        "id": "nzxYAR9UbjF2",
        "outputId": "ad477812-9a75-4277-9989-86e8bbf0f4b3"
      },
      "source": [
        "print('Test score:', score[0])\n",
        "print('Test accuracy:', score[1])\n",
        "\n",
        "fig, (ax1, ax2) = plt.subplots(2, figsize=(8, 6))\n",
        "\n",
        "history1 = history\n",
        "acc = history1.history['accuracy']\n",
        "loss = history1.history['loss']\n",
        "val_acc = history1.history['val_accuracy']\n",
        "val_loss = history1.history['val_loss']\n",
        "ax1.plot(val_acc, label='Val')\n",
        "ax1.plot(acc, label='Train')\n",
        "ax2.plot(val_loss, label='Val')\n",
        "ax2.plot(loss, label='Train')\n",
        "    \n",
        "ax1.set_ylabel('accuracy')\n",
        "ax2.set_ylabel('loss')\n",
        "ax2.set_xlabel('epochs')\n",
        "ax1.legend()\n",
        "ax2.legend()\n",
        "plt.show()"
      ],
      "execution_count": null,
      "outputs": [
        {
          "output_type": "stream",
          "text": [
            "Test score: 0.22184570133686066\n",
            "Test accuracy: 0.9126779437065125\n"
          ],
          "name": "stdout"
        },
        {
          "output_type": "display_data",
          "data": {
            "image/png": "[encoded data removed]",
            "text/plain": [
              "<Figure size 576x432 with 2 Axes>"
            ]
          },
          "metadata": {
            "tags": [],
            "needs_background": "light"
          }
        }
      ]
    },
    {
      "cell_type": "code",
      "metadata": {
        "id": "SdbWlt3-6vmY"
      },
      "source": [
        "df = pd.read_csv('COVID_dataset_test.csv')\n"
      ],
      "execution_count": null,
      "outputs": []
    },
    {
      "cell_type": "code",
      "metadata": {
        "colab": {
          "base_uri": "https://localhost:8080/"
        },
        "id": "O8u0QtNC6yo6",
        "outputId": "b15a66fb-a494-440f-a8d6-83788e393ba7"
      },
      "source": [
        "df.info()"
      ],
      "execution_count": null,
      "outputs": [
        {
          "output_type": "stream",
          "text": [
            "<class 'pandas.core.frame.DataFrame'>\n",
            "RangeIndex: 3704 entries, 0 to 3703\n",
            "Data columns (total 12 columns):\n",
            " #   Column                   Non-Null Count  Dtype  \n",
            "---  ------                   --------------  -----  \n",
            " 0   id                       3704 non-null   int64  \n",
            " 1   Accurate_Episode_Date    3704 non-null   object \n",
            " 2   Case_Reported_Date       3704 non-null   object \n",
            " 3   Test_Reported_Date       3654 non-null   object \n",
            " 4   Specimen_Date            3674 non-null   object \n",
            " 5   Age_Group                3704 non-null   object \n",
            " 6   Client_Gender            3704 non-null   object \n",
            " 7   Case_AcquisitionInfo     3704 non-null   object \n",
            " 8   Reporting_PHU_City       3704 non-null   object \n",
            " 9   Outbreak_Related         1488 non-null   object \n",
            " 10  Reporting_PHU_Latitude   3704 non-null   float64\n",
            " 11  Reporting_PHU_Longitude  3704 non-null   float64\n",
            "dtypes: float64(2), int64(1), object(9)\n",
            "memory usage: 347.4+ KB\n"
          ],
          "name": "stdout"
        }
      ]
    },
    {
      "cell_type": "code",
      "metadata": {
        "colab": {
          "base_uri": "https://localhost:8080/"
        },
        "id": "hl35MlPW7PSo",
        "outputId": "55be670d-46e4-43d9-a7a1-f32c59526bdc"
      },
      "source": [
        "df.isnull().sum(axis=0)\n"
      ],
      "execution_count": null,
      "outputs": [
        {
          "output_type": "execute_result",
          "data": {
            "text/plain": [
              "id                            0\n",
              "Accurate_Episode_Date         0\n",
              "Case_Reported_Date            0\n",
              "Test_Reported_Date           50\n",
              "Specimen_Date                30\n",
              "Age_Group                     0\n",
              "Client_Gender                 0\n",
              "Case_AcquisitionInfo          0\n",
              "Reporting_PHU_City            0\n",
              "Outbreak_Related           2216\n",
              "Reporting_PHU_Latitude        0\n",
              "Reporting_PHU_Longitude       0\n",
              "dtype: int64"
            ]
          },
          "metadata": {
            "tags": []
          },
          "execution_count": 217
        }
      ]
    },
    {
      "cell_type": "code",
      "metadata": {
        "colab": {
          "base_uri": "https://localhost:8080/",
          "height": 590
        },
        "id": "-7ctIYo86dDS",
        "outputId": "36382160-b7da-4fc0-dafa-abc6fbdc7e06"
      },
      "source": [
        "#This is for Kaggle\n",
        "df = pd.read_csv('COVID_dataset_test.csv')\n",
        "print(df.head())\n",
        "\n",
        "#Here we are replacing <20 in Age_Group with 10 so that Sklearn can process it\n",
        "df.loc[(df.Age_Group == '<20'),'Age_Group']='10'\n",
        "\n",
        "#Here we are replacing the missing valves in Outbreak_Related as \"No\"\n",
        "df['Outbreak_Related'] = df['Outbreak_Related'].fillna(\"No\")\n",
        "\n",
        "df = df.drop(['Test_Reported_Date'], axis = 1)\n",
        "df = df.drop(['Specimen_Date'], axis = 1) \n",
        "\n",
        "#df['Test_Reported_Date'] = df['Test_Reported_Date'].fillna('4/14/2020')\n",
        "#df['Specimen_Date'] = df['Specimen_Date'].fillna('4/14/2020')\n",
        "\n",
        "#Here, we are dropping any row which has any missing values.\n",
        "#df = df.dropna(how='any')\n",
        "\n",
        "df.isnull().sum(axis=0)\n",
        "\n",
        "#Here we are cleaning the 's' in the Age_Group so that sklearn accept the data\n",
        "df = df.reset_index(drop=True)\n",
        "df['Age_Group'] = df['Age_Group'].str.replace(r'\\D', '')\n",
        "df.isnull().sum(axis=0)\n",
        "\n",
        "\n",
        "leOR = preprocessing.LabelEncoder()\n",
        "leAg = preprocessing.LabelEncoder()\n",
        "\n",
        "#Here, we are labeling encoding the Outbreak_Related as binary - 0 1\n",
        "leOR.fit(df.Outbreak_Related)\n",
        "leOR.fit(['Yes', 'No'])\n",
        "leOR.classes_\n",
        "df['Outbreak_Related'] = leOR.transform(df['Outbreak_Related'])\n",
        "\n",
        "#Here, we are labeling encoding the Age_Group so that Sklearn treats this feature as Ordinal Categorical data\n",
        "leAg.fit(df.Age_Group)\n",
        "leAg.fit(['10', '20', '30', '40', '50', '60', '70', '80', '90'])\n",
        "leAg.classes_\n",
        "df['Age_Group'] = leAg.transform(df['Age_Group'])\n",
        "\n",
        "df_pp = df\n",
        "\n",
        "#One-hot-encoding\n",
        "enc = OneHotEncoder(handle_unknown='ignore')\n",
        "\n",
        "en_CG = enc.fit_transform(df[['Client_Gender']]).toarray()\n",
        "column_name_Gender = enc.get_feature_names(['Client_Gender'])\n",
        "enc_df_Gender = pd.DataFrame(en_CG, columns= column_name_Gender)\n",
        "\n",
        "en_CA = enc.fit_transform(df[['Case_AcquisitionInfo']]).toarray()\n",
        "column_name_CA = enc.get_feature_names(['Case_AcquisitionInfo'])\n",
        "enc_df_CA = pd.DataFrame(en_CA, columns= column_name_CA)\n",
        "\n",
        "df = df.join(enc_df_Gender)\n",
        "df = df.join(enc_df_CA)\n",
        "\n",
        "#en_City = enc.fit_transform(df[['Reporting_PHU_City']]).toarray()\n",
        "#column_name_City = enc.get_feature_names(['Reporting_PHU_City'])\n",
        "#enc_df_City = pd.DataFrame(en_City, columns= column_name_City)\n",
        "\n",
        "#df = df.join(enc_df_City)\n",
        "\n",
        "#####################################################################\n",
        "#df = df.drop(['Outbreak_Related'], axis = 1) \n",
        "#df = df.drop(['Reporting_PHU_Latitude'], axis = 1) \n",
        "#df = df.drop(['Reporting_PHU_Longitude'], axis = 1) \n",
        "\n",
        "df = df.drop(['Client_Gender'], axis = 1) \n",
        "df = df.drop(['Case_AcquisitionInfo'], axis = 1) \n",
        "df = df.drop(['Reporting_PHU_City'], axis = 1) \n",
        "df = df.drop(['Client_Gender_UNSPECIFIED'], axis = 1) \n",
        "\n",
        "from datetime import date\n",
        "\n",
        "for i in range(len(df['Accurate_Episode_Date'])):\n",
        "  df['Accurate_Episode_Date'][i] = (date.fromisoformat(df['Accurate_Episode_Date'][i]) - date(2018, 1, 1)).days\n",
        "  df['Case_Reported_Date'][i] = (date.fromisoformat(df['Case_Reported_Date'][i]) - date(2018, 1, 1)).days\n",
        "  #df['Test_Reported_Date'][i] = (date.fromisoformat(df['Test_Reported_Date'][i]) - date(2018, 1, 1)).days\n",
        "  #df['Specimen_Date'][i] = (date.fromisoformat(df['Specimen_Date'][i]) - date(2018, 1, 1)).days\n",
        "\n",
        "df_ID = df['id']\n",
        "df = df.drop(['id'], axis = 1) \n",
        "\n",
        "X_FT = df.iloc[:,:].values.astype(float)\n",
        "\n",
        "X_FT[:,[4,5]]  = sc_X.fit_transform(X_FT[:,[4,5]])\n",
        "X_FT[:,[0,1]]  = sc_X.fit_transform(X_FT[:,[0,1]])\n",
        "\n",
        "y_pred_k = model_a.predict_classes(X_FT)\n",
        "print(y_pred_k)\n",
        "\n",
        "print(df.shape)\n",
        "df.head()\n"
      ],
      "execution_count": null,
      "outputs": [
        {
          "output_type": "stream",
          "text": [
            "   id Accurate_Episode_Date  ... Reporting_PHU_Latitude Reporting_PHU_Longitude\n",
            "0   0            2020-07-03  ...              43.647471              -79.708893\n",
            "1   1            2021-01-05  ...              44.301632              -78.321347\n",
            "2   2            2021-01-02  ...              43.656591              -79.379358\n",
            "3   3            2020-12-04  ...              43.257631              -79.871341\n",
            "4   4            2021-01-17  ...              43.656591              -79.379358\n",
            "\n",
            "[5 rows x 12 columns]\n"
          ],
          "name": "stdout"
        },
        {
          "output_type": "stream",
          "text": [
            "/usr/local/lib/python3.7/dist-packages/ipykernel_launcher.py:78: SettingWithCopyWarning: \n",
            "A value is trying to be set on a copy of a slice from a DataFrame\n",
            "\n",
            "See the caveats in the documentation: https://pandas.pydata.org/pandas-docs/stable/user_guide/indexing.html#returning-a-view-versus-a-copy\n",
            "/usr/local/lib/python3.7/dist-packages/ipykernel_launcher.py:79: SettingWithCopyWarning: \n",
            "A value is trying to be set on a copy of a slice from a DataFrame\n",
            "\n",
            "See the caveats in the documentation: https://pandas.pydata.org/pandas-docs/stable/user_guide/indexing.html#returning-a-view-versus-a-copy\n"
          ],
          "name": "stderr"
        },
        {
          "output_type": "stream",
          "text": [
            "[0 0 0 ... 0 0 0]\n",
            "(3704, 14)\n"
          ],
          "name": "stdout"
        },
        {
          "output_type": "stream",
          "text": [
            "/usr/local/lib/python3.7/dist-packages/tensorflow/python/keras/engine/sequential.py:450: UserWarning: `model.predict_classes()` is deprecated and will be removed after 2021-01-01. Please use instead:* `np.argmax(model.predict(x), axis=-1)`,   if your model does multi-class classification   (e.g. if it uses a `softmax` last-layer activation).* `(model.predict(x) > 0.5).astype(\"int32\")`,   if your model does binary classification   (e.g. if it uses a `sigmoid` last-layer activation).\n",
            "  warnings.warn('`model.predict_classes()` is deprecated and '\n"
          ],
          "name": "stderr"
        },
        {
          "output_type": "execute_result",
          "data": {
            "text/html": [
              "<div>\n",
              "<style scoped>\n",
              "    .dataframe tbody tr th:only-of-type {\n",
              "        vertical-align: middle;\n",
              "    }\n",
              "\n",
              "    .dataframe tbody tr th {\n",
              "        vertical-align: top;\n",
              "    }\n",
              "\n",
              "    .dataframe thead th {\n",
              "        text-align: right;\n",
              "    }\n",
              "</style>\n",
              "<table border=\"1\" class=\"dataframe\">\n",
              "  <thead>\n",
              "    <tr style=\"text-align: right;\">\n",
              "      <th></th>\n",
              "      <th>Accurate_Episode_Date</th>\n",
              "      <th>Case_Reported_Date</th>\n",
              "      <th>Age_Group</th>\n",
              "      <th>Outbreak_Related</th>\n",
              "      <th>Reporting_PHU_Latitude</th>\n",
              "      <th>Reporting_PHU_Longitude</th>\n",
              "      <th>Client_Gender_FEMALE</th>\n",
              "      <th>Client_Gender_MALE</th>\n",
              "      <th>Case_AcquisitionInfo_CC</th>\n",
              "      <th>Case_AcquisitionInfo_MISSING INFORMATION</th>\n",
              "      <th>Case_AcquisitionInfo_NO KNOWN EPI LINK</th>\n",
              "      <th>Case_AcquisitionInfo_OB</th>\n",
              "      <th>Case_AcquisitionInfo_TRAVEL</th>\n",
              "      <th>Case_AcquisitionInfo_UNSPECIFIED EPI LINK</th>\n",
              "    </tr>\n",
              "  </thead>\n",
              "  <tbody>\n",
              "    <tr>\n",
              "      <th>0</th>\n",
              "      <td>914</td>\n",
              "      <td>917</td>\n",
              "      <td>2</td>\n",
              "      <td>0</td>\n",
              "      <td>43.647471</td>\n",
              "      <td>-79.708893</td>\n",
              "      <td>0.0</td>\n",
              "      <td>1.0</td>\n",
              "      <td>1.0</td>\n",
              "      <td>0.0</td>\n",
              "      <td>0.0</td>\n",
              "      <td>0.0</td>\n",
              "      <td>0.0</td>\n",
              "      <td>0.0</td>\n",
              "    </tr>\n",
              "    <tr>\n",
              "      <th>1</th>\n",
              "      <td>1100</td>\n",
              "      <td>1108</td>\n",
              "      <td>7</td>\n",
              "      <td>0</td>\n",
              "      <td>44.301632</td>\n",
              "      <td>-78.321347</td>\n",
              "      <td>1.0</td>\n",
              "      <td>0.0</td>\n",
              "      <td>0.0</td>\n",
              "      <td>0.0</td>\n",
              "      <td>1.0</td>\n",
              "      <td>0.0</td>\n",
              "      <td>0.0</td>\n",
              "      <td>0.0</td>\n",
              "    </tr>\n",
              "    <tr>\n",
              "      <th>2</th>\n",
              "      <td>1097</td>\n",
              "      <td>1102</td>\n",
              "      <td>5</td>\n",
              "      <td>0</td>\n",
              "      <td>43.656591</td>\n",
              "      <td>-79.379358</td>\n",
              "      <td>0.0</td>\n",
              "      <td>1.0</td>\n",
              "      <td>1.0</td>\n",
              "      <td>0.0</td>\n",
              "      <td>0.0</td>\n",
              "      <td>0.0</td>\n",
              "      <td>0.0</td>\n",
              "      <td>0.0</td>\n",
              "    </tr>\n",
              "    <tr>\n",
              "      <th>3</th>\n",
              "      <td>1068</td>\n",
              "      <td>1069</td>\n",
              "      <td>6</td>\n",
              "      <td>1</td>\n",
              "      <td>43.257631</td>\n",
              "      <td>-79.871341</td>\n",
              "      <td>1.0</td>\n",
              "      <td>0.0</td>\n",
              "      <td>0.0</td>\n",
              "      <td>0.0</td>\n",
              "      <td>0.0</td>\n",
              "      <td>1.0</td>\n",
              "      <td>0.0</td>\n",
              "      <td>0.0</td>\n",
              "    </tr>\n",
              "    <tr>\n",
              "      <th>4</th>\n",
              "      <td>1112</td>\n",
              "      <td>1114</td>\n",
              "      <td>3</td>\n",
              "      <td>0</td>\n",
              "      <td>43.656591</td>\n",
              "      <td>-79.379358</td>\n",
              "      <td>0.0</td>\n",
              "      <td>1.0</td>\n",
              "      <td>0.0</td>\n",
              "      <td>1.0</td>\n",
              "      <td>0.0</td>\n",
              "      <td>0.0</td>\n",
              "      <td>0.0</td>\n",
              "      <td>0.0</td>\n",
              "    </tr>\n",
              "  </tbody>\n",
              "</table>\n",
              "</div>"
            ],
            "text/plain": [
              "  Accurate_Episode_Date  ... Case_AcquisitionInfo_UNSPECIFIED EPI LINK\n",
              "0                   914  ...                                       0.0\n",
              "1                  1100  ...                                       0.0\n",
              "2                  1097  ...                                       0.0\n",
              "3                  1068  ...                                       0.0\n",
              "4                  1112  ...                                       0.0\n",
              "\n",
              "[5 rows x 14 columns]"
            ]
          },
          "metadata": {
            "tags": []
          },
          "execution_count": 218
        }
      ]
    },
    {
      "cell_type": "code",
      "metadata": {
        "colab": {
          "base_uri": "https://localhost:8080/"
        },
        "id": "_1wAGOBj6dRy",
        "outputId": "abd5aaa6-fd6b-4723-b2ad-dd77481368eb"
      },
      "source": [
        "y_tar = le.inverse_transform(y_pred_k)\n",
        "print(y_tar)\n",
        "print(y_tar.shape)\n",
        "\n",
        "my_submission = pd.DataFrame({'id': df_ID, 'Outcome1': y_tar})\n",
        "my_submission.to_csv('A4submission_covid-2.csv', index=False)"
      ],
      "execution_count": null,
      "outputs": [
        {
          "output_type": "stream",
          "text": [
            "['Fatal' 'Fatal' 'Fatal' ... 'Fatal' 'Fatal' 'Fatal']\n",
            "(3704,)\n"
          ],
          "name": "stdout"
        }
      ]
    },
    {
      "cell_type": "markdown",
      "metadata": {
        "id": "mivN4Ts1oBA4"
      },
      "source": [
        "**Model B**"
      ]
    },
    {
      "cell_type": "code",
      "metadata": {
        "id": "mUspM5JLmXqa"
      },
      "source": [
        "model_b = Sequential()\n",
        "model_b.add(Dense(200, activation='relu', input_dim=18))\n",
        "model_b.add(Dense(3, activation='softmax'))\n",
        "#sgd = SGD(lr = 0.01, decay = 1e-6, momentum = 0.9, nesterov=True)\n",
        "model_b.compile(optimizer='adam',\n",
        "              loss='sparse_categorical_crossentropy',\n",
        "              metrics=['accuracy'])\n",
        "\n"
      ],
      "execution_count": null,
      "outputs": []
    },
    {
      "cell_type": "code",
      "metadata": {
        "colab": {
          "base_uri": "https://localhost:8080/"
        },
        "id": "4r3HjY7U2WSn",
        "outputId": "786c83f1-c5bc-4c94-cafb-a6ab1653ae82"
      },
      "source": [
        "start_train_time = time.time()\n",
        "\n",
        "history_b = model_b.fit(X_train, y_train, epochs = 30, batch_size = 5, validation_data=(X_validate, y_validate))\n",
        "\n",
        "print(\"--- %s seconds ---\" % (time.time() - start_train_time))\n",
        "\n",
        "score_b = model_b.evaluate(X_test, y_test, verbose = 0)\n"
      ],
      "execution_count": null,
      "outputs": [
        {
          "output_type": "stream",
          "text": [
            "Epoch 1/30\n",
            "1758/1758 [==============================] - 4s 2ms/step - loss: 0.5466 - accuracy: 0.7803 - val_loss: 0.5166 - val_accuracy: 0.8139\n",
            "Epoch 2/30\n",
            "1758/1758 [==============================] - 4s 2ms/step - loss: 0.3978 - accuracy: 0.8521 - val_loss: 0.4308 - val_accuracy: 0.8214\n",
            "Epoch 3/30\n",
            "1758/1758 [==============================] - 4s 2ms/step - loss: 0.3651 - accuracy: 0.8671 - val_loss: 0.5465 - val_accuracy: 0.8321\n",
            "Epoch 4/30\n",
            "1758/1758 [==============================] - 4s 2ms/step - loss: 0.3511 - accuracy: 0.8751 - val_loss: 0.2965 - val_accuracy: 0.8957\n",
            "Epoch 5/30\n",
            "1758/1758 [==============================] - 4s 2ms/step - loss: 0.3262 - accuracy: 0.8816 - val_loss: 0.3187 - val_accuracy: 0.8788\n",
            "Epoch 6/30\n",
            "1758/1758 [==============================] - 4s 2ms/step - loss: 0.3172 - accuracy: 0.8885 - val_loss: 0.3138 - val_accuracy: 0.8947\n",
            "Epoch 7/30\n",
            "1758/1758 [==============================] - 4s 2ms/step - loss: 0.3172 - accuracy: 0.8871 - val_loss: 0.2885 - val_accuracy: 0.8986\n",
            "Epoch 8/30\n",
            "1758/1758 [==============================] - 4s 2ms/step - loss: 0.3048 - accuracy: 0.8892 - val_loss: 0.2806 - val_accuracy: 0.8965\n",
            "Epoch 9/30\n",
            "1758/1758 [==============================] - 4s 2ms/step - loss: 0.3008 - accuracy: 0.8929 - val_loss: 0.2774 - val_accuracy: 0.9036\n",
            "Epoch 10/30\n",
            "1758/1758 [==============================] - 4s 2ms/step - loss: 0.2948 - accuracy: 0.8942 - val_loss: 0.2793 - val_accuracy: 0.9003\n",
            "Epoch 11/30\n",
            "1758/1758 [==============================] - 4s 2ms/step - loss: 0.2937 - accuracy: 0.8954 - val_loss: 0.2721 - val_accuracy: 0.9018\n",
            "Epoch 12/30\n",
            "1758/1758 [==============================] - 4s 2ms/step - loss: 0.2836 - accuracy: 0.8998 - val_loss: 0.2712 - val_accuracy: 0.9018\n",
            "Epoch 13/30\n",
            "1758/1758 [==============================] - 4s 2ms/step - loss: 0.2812 - accuracy: 0.8985 - val_loss: 0.2758 - val_accuracy: 0.9001\n",
            "Epoch 14/30\n",
            "1758/1758 [==============================] - 4s 2ms/step - loss: 0.2783 - accuracy: 0.8987 - val_loss: 0.2565 - val_accuracy: 0.9088\n",
            "Epoch 15/30\n",
            "1758/1758 [==============================] - 4s 2ms/step - loss: 0.2822 - accuracy: 0.8987 - val_loss: 0.2627 - val_accuracy: 0.9046\n",
            "Epoch 16/30\n",
            "1758/1758 [==============================] - 4s 2ms/step - loss: 0.2809 - accuracy: 0.8985 - val_loss: 0.2685 - val_accuracy: 0.9029\n",
            "Epoch 17/30\n",
            "1758/1758 [==============================] - 4s 2ms/step - loss: 0.2770 - accuracy: 0.8977 - val_loss: 0.2682 - val_accuracy: 0.9029\n",
            "Epoch 18/30\n",
            "1758/1758 [==============================] - 4s 2ms/step - loss: 0.2768 - accuracy: 0.8995 - val_loss: 0.2821 - val_accuracy: 0.8964\n",
            "Epoch 19/30\n",
            "1758/1758 [==============================] - 4s 2ms/step - loss: 0.2740 - accuracy: 0.9002 - val_loss: 0.2941 - val_accuracy: 0.8938\n",
            "Epoch 20/30\n",
            "1758/1758 [==============================] - 4s 2ms/step - loss: 0.2711 - accuracy: 0.9010 - val_loss: 0.2636 - val_accuracy: 0.9063\n",
            "Epoch 21/30\n",
            "1758/1758 [==============================] - 4s 2ms/step - loss: 0.2693 - accuracy: 0.9022 - val_loss: 0.2730 - val_accuracy: 0.9031\n",
            "Epoch 22/30\n",
            "1758/1758 [==============================] - 4s 2ms/step - loss: 0.2711 - accuracy: 0.9032 - val_loss: 0.2954 - val_accuracy: 0.8898\n",
            "Epoch 23/30\n",
            "1758/1758 [==============================] - 4s 2ms/step - loss: 0.2701 - accuracy: 0.9047 - val_loss: 0.2725 - val_accuracy: 0.9038\n",
            "Epoch 24/30\n",
            "1758/1758 [==============================] - 4s 2ms/step - loss: 0.2683 - accuracy: 0.9005 - val_loss: 0.2741 - val_accuracy: 0.9001\n",
            "Epoch 25/30\n",
            "1758/1758 [==============================] - 4s 2ms/step - loss: 0.2669 - accuracy: 0.9047 - val_loss: 0.2525 - val_accuracy: 0.9100\n",
            "Epoch 26/30\n",
            "1758/1758 [==============================] - 4s 2ms/step - loss: 0.2672 - accuracy: 0.9020 - val_loss: 0.2637 - val_accuracy: 0.9042\n",
            "Epoch 27/30\n",
            "1758/1758 [==============================] - 4s 2ms/step - loss: 0.2647 - accuracy: 0.9041 - val_loss: 0.2714 - val_accuracy: 0.9018\n",
            "Epoch 28/30\n",
            "1758/1758 [==============================] - 4s 2ms/step - loss: 0.2650 - accuracy: 0.9056 - val_loss: 0.2946 - val_accuracy: 0.8901\n",
            "Epoch 29/30\n",
            "1758/1758 [==============================] - 4s 2ms/step - loss: 0.2641 - accuracy: 0.9052 - val_loss: 0.2624 - val_accuracy: 0.9039\n",
            "Epoch 30/30\n",
            "1758/1758 [==============================] - 4s 2ms/step - loss: 0.2646 - accuracy: 0.9035 - val_loss: 0.2623 - val_accuracy: 0.9065\n",
            "--- 113.08489751815796 seconds ---\n"
          ],
          "name": "stdout"
        }
      ]
    },
    {
      "cell_type": "code",
      "metadata": {
        "colab": {
          "base_uri": "https://localhost:8080/",
          "height": 423
        },
        "id": "nUwaM9yEoiAc",
        "outputId": "2c576758-9eca-45d9-e7b2-daa984f69498"
      },
      "source": [
        "print('Test score:', score_b[0])\n",
        "print('Test accuracy:', score_b[1])\n",
        "\n",
        "fig, (ax1, ax2) = plt.subplots(2, figsize=(8, 6))\n",
        "\n",
        "acc = history_b.history['accuracy']\n",
        "loss = history_b.history['loss']\n",
        "val_acc = history_b.history['val_accuracy']\n",
        "val_loss = history_b.history['val_loss']\n",
        "ax1.plot(val_acc, label='Val')\n",
        "ax1.plot(acc, label='Train')\n",
        "ax2.plot(val_loss, label='Val')\n",
        "ax2.plot(loss, label='Train')\n",
        "    \n",
        "ax1.set_ylabel('accuracy')\n",
        "ax2.set_ylabel('loss')\n",
        "ax2.set_xlabel('epochs')\n",
        "ax1.legend()\n",
        "ax2.legend()\n",
        "plt.show()"
      ],
      "execution_count": null,
      "outputs": [
        {
          "output_type": "stream",
          "text": [
            "Test score: 0.2510411739349365\n",
            "Test accuracy: 0.9104436635971069\n"
          ],
          "name": "stdout"
        },
        {
          "output_type": "display_data",
          "data": {
            "image/png": "[encoded data removed]",
            "text/plain": [
              "<Figure size 576x432 with 2 Axes>"
            ]
          },
          "metadata": {
            "tags": [],
            "needs_background": "light"
          }
        }
      ]
    }
  ]
}