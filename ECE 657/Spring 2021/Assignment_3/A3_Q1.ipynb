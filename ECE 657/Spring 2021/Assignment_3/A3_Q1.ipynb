{
  "nbformat": 4,
  "nbformat_minor": 0,
  "metadata": {
    "colab": {
      "name": "A3_Q1.ipynb",
      "provenance": []
    },
    "kernelspec": {
      "name": "python3",
      "display_name": "Python 3"
    },
    "language_info": {
      "name": "python"
    }
  },
  "cells": [
    {
      "cell_type": "code",
      "metadata": {
        "id": "N5uJhH1YfL8u"
      },
      "source": [
        "import pandas as pd\n",
        "from sklearn.model_selection import train_test_split\n",
        "from math import exp\n",
        "import keras\n",
        "from random import seed\n",
        "from random import random\n",
        "import numpy as np\n",
        "import matplotlib.pyplot as plt\n",
        "import seaborn as sns"
      ],
      "execution_count": 31,
      "outputs": []
    },
    {
      "cell_type": "markdown",
      "metadata": {
        "id": "-OuhmkD6fuRP"
      },
      "source": [
        "**Loading Dataset**"
      ]
    },
    {
      "cell_type": "code",
      "metadata": {
        "id": "woK8iNxTfWop"
      },
      "source": [
        "from keras.datasets import cifar10"
      ],
      "execution_count": 32,
      "outputs": []
    },
    {
      "cell_type": "markdown",
      "metadata": {
        "id": "jVv3u5au3ayQ"
      },
      "source": [
        "**Description**\n",
        "\n",
        "With the given data, we attempt to run the data through different models.\n",
        "\n",
        "First step across each model is to preprocess the data.\n",
        "- MLP model requires reshaping the input data to fit the expected input shape of 3072.\n",
        "- Asides from the initial hot encoding of output train and validation data, the CNNs are good.\n",
        "\n",
        "Next, we compile each model as described in the question with the following settings: \n",
        "\n",
        "**Loss function** — calculates the difference between the output and the target variable. It measures the accuracy of the model during training and we want to minimize this function. In this example, we chose the sparse_categorical_crossentropy loss function because our targets are not one-hot encoded. Its values are integers.\n",
        "\n",
        "**Optimizer** — how the model is updated and is based on the data and the loss function. We use the Adam optimizer because it's shown to be effective and efficient\n",
        "\n",
        "**Metrics** — monitors the training and testing steps. Accuracy is a common metric and it measures the fraction of images that are correctly classified."
      ]
    },
    {
      "cell_type": "markdown",
      "metadata": {
        "id": "w5L7HLq7gLLi"
      },
      "source": [
        "**Data Preprocessing**"
      ]
    },
    {
      "cell_type": "code",
      "metadata": {
        "id": "pWQPUlyMgR3V"
      },
      "source": [
        "# Data Splitting \n",
        "\n",
        "from sklearn.model_selection import train_test_split\n",
        "from keras.utils.np_utils import to_categorical\n",
        "\n",
        "# Readily divides into training and testing sets\n",
        "(x_train, y_train), (x_test, y_test) = keras.datasets.cifar10.load_data()\n",
        "\n",
        "assert x_train.shape == (50000, 32, 32, 3)\n",
        "assert x_test.shape == (10000, 32, 32, 3)\n",
        "assert y_train.shape == (50000, 1)\n",
        "assert y_test.shape == (10000, 1)\n",
        "\n",
        "\n",
        "x_train, x_val, y_train, y_val = train_test_split(x_train, y_train, train_size=0.2, random_state=0)\n",
        "\n",
        "# Normalize data\n",
        "x_train = x_train / 255.0\n",
        "x_val = x_val / 255.0\n",
        "\n",
        "# One hot encoding output labels of train and val sets\n",
        "y_train = to_categorical(y_train, 10)\n",
        "y_val = to_categorical(y_val, 10)"
      ],
      "execution_count": 46,
      "outputs": []
    },
    {
      "cell_type": "markdown",
      "metadata": {
        "id": "1cM6Ze_8kP9F"
      },
      "source": [
        "**MLP**"
      ]
    },
    {
      "cell_type": "code",
      "metadata": {
        "id": "Zg4v6Kmjj5bT"
      },
      "source": [
        "from keras.models import Sequential\n",
        "from keras.layers import Dense\n",
        "from keras import activations\n",
        "from tensorflow.keras.optimizers import Adam\n",
        "from keras.layers import Flatten\n",
        "import time\n",
        "\n",
        "# Data Reshaping to fit into model expected input shape\n",
        "x_train_mlp = x_train.reshape(-1, 3072)\n",
        "x_val_mlp = x_val.reshape(-1, 3072)\n",
        "x_test_mlp = x_test.reshape(-1, 3072)\n",
        "\n",
        "mlp_model = Sequential()\n",
        "mlp_model.add(Dense(512, activation='sigmoid', input_shape=(3072, )))\n",
        "mlp_model.add(Dense(512, activation='sigmoid'))\n",
        "mlp_model.add(Dense(10,  activation='softmax'))\n",
        "mlp_model.compile(loss='categorical_crossentropy', \n",
        "            optimizer=Adam(), metrics=['accuracy'])\n"
      ],
      "execution_count": 47,
      "outputs": []
    },
    {
      "cell_type": "markdown",
      "metadata": {
        "id": "KuPiXkb_nVXZ"
      },
      "source": [
        "**Training MLP**"
      ]
    },
    {
      "cell_type": "code",
      "metadata": {
        "colab": {
          "base_uri": "https://localhost:8080/"
        },
        "id": "1NfiOuBEnafn",
        "outputId": "8e28fd4c-7322-4177-83a7-45f5cbd42a9b"
      },
      "source": [
        "# Declaring start time and end time to monitor train time\n",
        "\n",
        "start_time = time.time()\n",
        "mlp_train_model = mlp_model.fit(x_train_mlp, y_train, epochs = 5, batch_size = 32, validation_data=(x_val_mlp, y_val))\n",
        "end_time = time.time()\n",
        "\n",
        "print(\"--- %s time to train (seconds) for 10 epochs ---\" % (end_time - start_time))"
      ],
      "execution_count": 48,
      "outputs": [
        {
          "output_type": "stream",
          "text": [
            "Epoch 1/5\n",
            "313/313 [==============================] - 11s 32ms/step - loss: 2.1885 - accuracy: 0.1879 - val_loss: 2.0356 - val_accuracy: 0.2720\n",
            "Epoch 2/5\n",
            "313/313 [==============================] - 10s 31ms/step - loss: 1.9291 - accuracy: 0.3001 - val_loss: 1.9445 - val_accuracy: 0.3109\n",
            "Epoch 3/5\n",
            "313/313 [==============================] - 9s 30ms/step - loss: 1.8775 - accuracy: 0.3276 - val_loss: 1.8327 - val_accuracy: 0.3348\n",
            "Epoch 4/5\n",
            "313/313 [==============================] - 9s 30ms/step - loss: 1.8023 - accuracy: 0.3507 - val_loss: 1.8132 - val_accuracy: 0.3334\n",
            "Epoch 5/5\n",
            "313/313 [==============================] - 10s 31ms/step - loss: 1.7496 - accuracy: 0.3645 - val_loss: 1.7592 - val_accuracy: 0.3751\n",
            "--- 82.6186797618866 time to train (seconds) for 10 epochs ---\n"
          ],
          "name": "stdout"
        }
      ]
    },
    {
      "cell_type": "code",
      "metadata": {
        "colab": {
          "base_uri": "https://localhost:8080/"
        },
        "id": "0Uf1H6m6sxen",
        "outputId": "b39217f5-c693-43de-c861-8e427bbdc4d1"
      },
      "source": [
        "# Training Accuracy and Loss\n",
        "score_mlp_train = mlp_model.evaluate(x_train_mlp, y_train, verbose=0)\n",
        "print('MLP Training Accuracy:', score_mlp_train[1])\n",
        "print('MLP Training Loss:', score_mlp_train[0])\n",
        "\n",
        "# Validation Accuracy and Loss\n",
        "score_mlp_val = mlp_model.evaluate(x_val_mlp, y_val, verbose=0)\n",
        "print('MLP Validation Accuracy:', score_mlp_val[1])\n",
        "print('MLP Validation Loss:', score_mlp_val[0])"
      ],
      "execution_count": 49,
      "outputs": [
        {
          "output_type": "stream",
          "text": [
            "MLP Training Accuracy: 0.3970000147819519\n",
            "MLP Training Loss: 1.7081072330474854\n",
            "MLP Validation Accuracy: 0.3750999867916107\n",
            "MLP Validation Loss: 1.7591849565505981\n"
          ],
          "name": "stdout"
        }
      ]
    },
    {
      "cell_type": "markdown",
      "metadata": {
        "id": "DCGzrFO7q0kU"
      },
      "source": [
        "**CNN-1**"
      ]
    },
    {
      "cell_type": "code",
      "metadata": {
        "id": "tSW2UrQyrs_5"
      },
      "source": [
        "from tensorflow.keras.layers import BatchNormalization\n",
        "from tensorflow.keras.layers import Conv2D\n",
        "from tensorflow.keras.layers import MaxPooling2D\n",
        "from tensorflow.keras.layers import Activation\n",
        "from tensorflow.keras.layers import Dropout\n",
        "from tensorflow.keras.layers import Dense\n",
        "from tensorflow.keras import backend\n",
        "from tensorflow.keras.optimizers import Adam, SGD\n",
        "\n",
        "\n",
        "cnn1_model = Sequential()\n",
        "cnn1_model.add(Conv2D(64, kernel_size=(3, 3), activation='relu',\n",
        "                input_shape=(32, 32, 3)))\n",
        "cnn1_model.add(Conv2D(64, kernel_size=(3, 3), activation='relu'))\n",
        "cnn1_model.add(Flatten())\n",
        "cnn1_model.add(Dense(512, activation='sigmoid'))\n",
        "cnn1_model.add(Dense(512, activation='sigmoid'))\n",
        "cnn1_model.add(Dense(10, activation='softmax'))\n",
        "\n",
        "cnn1_model.compile(loss='categorical_crossentropy', optimizer=Adam(),\n",
        "              metrics=['accuracy'])"
      ],
      "execution_count": 50,
      "outputs": []
    },
    {
      "cell_type": "markdown",
      "metadata": {
        "id": "ShZhzDs4u9Z7"
      },
      "source": [
        "**Training CNN-1**"
      ]
    },
    {
      "cell_type": "code",
      "metadata": {
        "colab": {
          "base_uri": "https://localhost:8080/"
        },
        "id": "3zmnGRdgudd1",
        "outputId": "d3033427-78c9-4a37-b031-8b735fc1a418"
      },
      "source": [
        "start_time = time.time()\n",
        "cnn1_train_model = cnn1_model.fit(x_train, y_train, verbose = 1, epochs = 5, batch_size = 32, validation_data=(x_val, y_val))\n",
        "end_time = time.time()\n",
        "\n",
        "print(\"--- %s time to train (seconds) for 10 epochs ---\" % (end_time - start_time))"
      ],
      "execution_count": 57,
      "outputs": [
        {
          "output_type": "stream",
          "text": [
            "313/313 [==============================] - 188s 601ms/step - loss: 0.9440 - accuracy: 0.6687 - val_loss: 1.3844 - val_accuracy: 0.5221\n",
            "--- 202.04168438911438 time to train (seconds) for 10 epochs ---\n"
          ],
          "name": "stdout"
        }
      ]
    },
    {
      "cell_type": "code",
      "metadata": {
        "colab": {
          "base_uri": "https://localhost:8080/"
        },
        "id": "teDVyOXJvGTN",
        "outputId": "2e0e3607-10aa-4465-f233-87d5dbbd65bf"
      },
      "source": [
        "# Training Accuracy and Loss\n",
        "score_cnn1_train = cnn1_model.evaluate(x_train, y_train, verbose=0)\n",
        "print('CNN1 Train Accuracy:', score_cnn1_train[1])\n",
        "print('CNN1 Train Loss:', score_cnn1_train[0])\n",
        "\n",
        "# Validation Accuracy and Loss\n",
        "score_cnn1_val = cnn1_model.evaluate(x_val, y_val, verbose=0)\n",
        "print('CNN1 Val Accuracy:', score_cnn1_val[1])\n",
        "print('CNN1 Val Loss:', score_cnn1_val[0])"
      ],
      "execution_count": 60,
      "outputs": [
        {
          "output_type": "stream",
          "text": [
            "MLP Test Accuracy: 0.7936999797821045\n",
            "MLP Test Loss: 0.6548687219619751\n",
            "MLP Test Accuracy: 0.5220999717712402\n",
            "MLP Test Loss: 1.3844047784805298\n"
          ],
          "name": "stdout"
        }
      ]
    },
    {
      "cell_type": "markdown",
      "metadata": {
        "id": "p3ewWi1qvQml"
      },
      "source": [
        "**CNN-2**"
      ]
    },
    {
      "cell_type": "code",
      "metadata": {
        "id": "13yMWI-uvVma"
      },
      "source": [
        "cnn2_model = Sequential()\n",
        "cnn2_model.add(Conv2D(64, kernel_size=(3, 3), activation='relu',\n",
        "                input_shape=(32, 32, 3)))\n",
        "cnn2_model.add(MaxPooling2D((2, 2)))\n",
        "cnn2_model.add(Conv2D(64, kernel_size=(3, 3), activation='relu'))\n",
        "cnn2_model.add(MaxPooling2D((2, 2)))\n",
        "cnn2_model.add(Flatten())\n",
        "cnn2_model.add(Dense(512, activation='sigmoid'))\n",
        "cnn2_model.add(Dropout(0.2))\n",
        "cnn2_model.add(Dense(512, activation='sigmoid'))\n",
        "cnn2_model.add(Dropout(0.2))\n",
        "cnn2_model.add(Dense(10, activation='softmax'))\n",
        "\n",
        "cnn2_model.compile(loss='categorical_crossentropy', optimizer=Adam(),\n",
        "              metrics=['accuracy'])"
      ],
      "execution_count": 70,
      "outputs": []
    },
    {
      "cell_type": "markdown",
      "metadata": {
        "id": "S6KbzyWgvlTD"
      },
      "source": [
        "**Training CNN-2**"
      ]
    },
    {
      "cell_type": "code",
      "metadata": {
        "colab": {
          "base_uri": "https://localhost:8080/"
        },
        "id": "p79RW6ZGvgzR",
        "outputId": "d3155805-54ff-4c6b-fdd4-c9cca90c5367"
      },
      "source": [
        "start_time = time.time()\n",
        "cnn2_train_model = cnn2_model.fit(x_train, y_train, verbose = 1, epochs = 5, batch_size = 32, validation_data=(x_val, y_val))\n",
        "end_time = time.time()\n",
        "\n",
        "print(\"--- %s time to train (seconds) for 10 epochs ---\" % (end_time - start_time))"
      ],
      "execution_count": 71,
      "outputs": [
        {
          "output_type": "stream",
          "text": [
            "313/313 [==============================] - 48s 148ms/step - loss: 2.1976 - accuracy: 0.1870 - val_loss: 1.6526 - val_accuracy: 0.3974\n",
            "--- 83.51143050193787 time to train (seconds) for 10 epochs ---\n"
          ],
          "name": "stdout"
        }
      ]
    },
    {
      "cell_type": "code",
      "metadata": {
        "colab": {
          "base_uri": "https://localhost:8080/"
        },
        "id": "BQvbQY86v_y_",
        "outputId": "d20496e2-1e09-4d7f-9f0b-b964fc336727"
      },
      "source": [
        "# Training Accuracy and Loss\n",
        "score_cnn2_train = cnn2_model.evaluate(x_train, y_train, verbose=0)\n",
        "print('CNN2 Train Accuracy:', score_cnn2_train[1])\n",
        "print('CNN2 Train Loss:', score_cnn2_train[0])\n",
        "\n",
        "# Validation Accuracy and Loss\n",
        "score_cnn2_val = cnn2_model.evaluate(x_val, y_val, verbose=0)\n",
        "print('CNN2 Val Accuracy:', score_cnn2_val[1])\n",
        "print('CNN2 Val Loss:', score_cnn2_val[0])"
      ],
      "execution_count": 74,
      "outputs": [
        {
          "output_type": "stream",
          "text": [
            "CNN2 Train Accuracy: 0.4023999869823456\n",
            "CNN2 Train Loss: 1.6383135318756104\n",
            "CNN2 Val Accuracy: 0.3973749876022339\n",
            "CNN2 Val Loss: 1.652585744857788\n"
          ],
          "name": "stdout"
        }
      ]
    },
    {
      "cell_type": "markdown",
      "metadata": {
        "id": "IN2czp_fwp3Q"
      },
      "source": [
        "**MLP New Models**"
      ]
    },
    {
      "cell_type": "code",
      "metadata": {
        "colab": {
          "base_uri": "https://localhost:8080/"
        },
        "id": "UbKLZDzpxDKi",
        "outputId": "c458777b-cae1-4509-db19-e413ad309f0e"
      },
      "source": [
        "# Model 2\n",
        "# Add Extra layer\n",
        "\n",
        "mlp_model_2 = Sequential()\n",
        "mlp_model_2.add(Dense(512, activation='sigmoid', input_shape=(3072, )))\n",
        "mlp_model_2.add(Dense(512, activation='sigmoid'))\n",
        "mlp_model_2.add(Dense(512, activation='sigmoid'))\n",
        "mlp_model_2.add(Dense(10,  activation='softmax'))\n",
        "mlp_model_2.compile(loss='categorical_crossentropy', \n",
        "            optimizer=Adam(), metrics=['accuracy'])\n",
        "\n",
        "# Declaring start time and end time to monitor train time\n",
        "\n",
        "start_time = time.time()\n",
        "mlp_train_model_2 = mlp_model_2.fit(x_train_mlp, y_train, epochs = 5, batch_size = 32, validation_data=(x_val_mlp, y_val))\n",
        "end_time = time.time()\n",
        "\n",
        "print(\"--- %s time to train (seconds) for 10 epochs ---\" % (end_time - start_time))\n",
        "\n",
        "\n",
        "# Training Accuracy and Loss\n",
        "score_mlp_train_2 = mlp_model.evaluate(x_train_mlp, y_train, verbose=0)\n",
        "print('MLP2 Train Accuracy:', score_mlp_train_2[1])\n",
        "print('MLP2 Train Loss:', score_mlp_train_2[0])\n",
        "\n",
        "# Validation Accuracy and Loss\n",
        "score_mlp_val_2 = mlp_model.evaluate(x_val_mlp, y_val, verbose=0)\n",
        "print('MLP2 Val Accuracy:', score_mlp_val_2[1])\n",
        "print('MLP2 Val Loss:', score_mlp_val_2[0])\n",
        "\n",
        "# Model 3\n",
        "# Change Neurons and add Extra layer\n",
        "\n",
        "mlp_model_3 = Sequential()\n",
        "mlp_model_3.add(Dense(1024, activation='sigmoid', input_shape=(3072, )))\n",
        "mlp_model_3.add(Dense(1024, activation='sigmoid'))\n",
        "mlp_model_3.add(Dense(1024, activation='sigmoid'))\n",
        "mlp_model_3.add(Dense(10,  activation='softmax'))\n",
        "mlp_model_3.compile(loss='categorical_crossentropy', \n",
        "            optimizer=Adam(), metrics=['accuracy'])\n",
        "\n",
        "# Declaring start time and end time to monitor train time\n",
        "\n",
        "start_time = time.time()\n",
        "mlp_train_model_3 = mlp_model_3.fit(x_train_mlp, y_train, epochs = 5, batch_size = 32, validation_data=(x_val_mlp, y_val))\n",
        "end_time = time.time()\n",
        "\n",
        "print(\"--- %s time to train (seconds) for 10 epochs ---\" % (end_time - start_time))\n",
        "\n",
        "\n",
        "# Training Accuracy and Loss\n",
        "score_mlp_train_3 = mlp_model.evaluate(x_train_mlp, y_train, verbose=0)\n",
        "print('MLP3 Train Accuracy:', score_mlp_train_3[1])\n",
        "print('MLP3 Train Loss:', score_mlp_train_3[0])\n",
        "\n",
        "# Validation Accuracy and Loss\n",
        "score_mlp_val_3 = mlp_model.evaluate(x_val_mlp, y_val, verbose=0)\n",
        "print('MLP3 Val Accuracy:', score_mlp_val_3[1])\n",
        "print('MLP3 Val Loss:', score_mlp_val_3[0])\n"
      ],
      "execution_count": 66,
      "outputs": [
        {
          "output_type": "stream",
          "text": [
            "Epoch 1/5\n",
            "313/313 [==============================] - 13s 38ms/step - loss: 2.2529 - accuracy: 0.1499 - val_loss: 1.9744 - val_accuracy: 0.2496\n",
            "Epoch 2/5\n",
            "313/313 [==============================] - 11s 36ms/step - loss: 1.9646 - accuracy: 0.2545 - val_loss: 1.9470 - val_accuracy: 0.2768\n",
            "Epoch 3/5\n",
            "313/313 [==============================] - 11s 35ms/step - loss: 1.9380 - accuracy: 0.2818 - val_loss: 1.8795 - val_accuracy: 0.3031\n",
            "Epoch 4/5\n",
            "313/313 [==============================] - 11s 36ms/step - loss: 1.8639 - accuracy: 0.3194 - val_loss: 1.8876 - val_accuracy: 0.2869\n",
            "Epoch 5/5\n",
            "313/313 [==============================] - 11s 36ms/step - loss: 1.8483 - accuracy: 0.3268 - val_loss: 1.8583 - val_accuracy: 0.3220\n",
            "--- 57.90013122558594 time to train (seconds) for 10 epochs ---\n",
            "MLP2 Train Accuracy: 0.3970000147819519\n",
            "MLP2 Train Loss: 1.7081072330474854\n",
            "MLP2 Val Accuracy: 0.3750999867916107\n",
            "MLP2 Val Loss: 1.7591849565505981\n",
            "Epoch 1/5\n",
            "313/313 [==============================] - 28s 87ms/step - loss: 2.4239 - accuracy: 0.1243 - val_loss: 2.1562 - val_accuracy: 0.1681\n",
            "Epoch 2/5\n",
            "313/313 [==============================] - 27s 85ms/step - loss: 2.1157 - accuracy: 0.1799 - val_loss: 2.0655 - val_accuracy: 0.2054\n",
            "Epoch 3/5\n",
            "313/313 [==============================] - 26s 84ms/step - loss: 2.0703 - accuracy: 0.2051 - val_loss: 1.9821 - val_accuracy: 0.2496\n",
            "Epoch 4/5\n",
            "313/313 [==============================] - 26s 85ms/step - loss: 1.9817 - accuracy: 0.2501 - val_loss: 1.9445 - val_accuracy: 0.2569\n",
            "Epoch 5/5\n",
            "313/313 [==============================] - 26s 84ms/step - loss: 1.9504 - accuracy: 0.2651 - val_loss: 1.9144 - val_accuracy: 0.2848\n",
            "--- 133.70337891578674 time to train (seconds) for 10 epochs ---\n",
            "MLP3 Train Accuracy: 0.3970000147819519\n",
            "MLP3 Train Loss: 1.7081072330474854\n",
            "MLP3 Val Accuracy: 0.3750999867916107\n",
            "MLP3 Val Loss: 1.7591849565505981\n"
          ],
          "name": "stdout"
        }
      ]
    },
    {
      "cell_type": "markdown",
      "metadata": {
        "id": "JOCxRGJW1ODJ"
      },
      "source": [
        "**Comparing MLP New Models**"
      ]
    },
    {
      "cell_type": "code",
      "metadata": {
        "colab": {
          "base_uri": "https://localhost:8080/",
          "height": 296
        },
        "id": "6aOXHMveyDNB",
        "outputId": "19ceb975-3e10-4b1b-c0d3-ccfd82b4d8e5"
      },
      "source": [
        "# Comparing accuracies across MLP models\n",
        "train_accuracies_mlp = [score_mlp_train[1], score_mlp_train_2[1], score_mlp_train_3[1]]\n",
        "val_accuracies_mlp = [score_mlp_val[1], score_mlp_val_2[1], score_mlp_val_3[1]]\n",
        "\n",
        "models = ['mlp','mlp_2','mlp_3']\n",
        "X_axis = np.arange(len(models))\n",
        "  \n",
        "plt.bar(X_axis - 0.2, train_accuracies_mlp, 0.4, label = 'Train Accuracy')\n",
        "plt.bar(X_axis + 0.2, val_accuracies_mlp, 0.4, label = 'Validation Accuracy')\n",
        "  \n",
        "plt.xticks(X_axis, models)\n",
        "plt.xlabel(\"MLP Models\")\n",
        "plt.ylabel(\"Accuracies\")\n",
        "plt.title(\"Comparison of various MLP models\")\n",
        "plt.legend()\n",
        "plt.show()"
      ],
      "execution_count": 67,
      "outputs": [
        {
          "output_type": "display_data",
          "data": {
            "image/png": "[encoded data removed]",
            "text/plain": [
              "<Figure size 432x288 with 1 Axes>"
            ]
          },
          "metadata": {
            "tags": [],
            "needs_background": "light"
          }
        }
      ]
    },
    {
      "cell_type": "markdown",
      "metadata": {
        "id": "nukySXbpB3HW"
      },
      "source": [
        "From the graph above, we can observe that the accuracies are similar but the first MLP model has the highest train and validation accuracy.\n",
        "The general low accuracy can be traced to the fact that MLP does not perform well with large image datasets.\n",
        "The first MLP model is best because of the careful balance of its layers and neurons."
      ]
    },
    {
      "cell_type": "markdown",
      "metadata": {
        "id": "sCFscUIX1TPA"
      },
      "source": [
        "**Comparing CNN vs MLP**"
      ]
    },
    {
      "cell_type": "code",
      "metadata": {
        "colab": {
          "base_uri": "https://localhost:8080/",
          "height": 295
        },
        "id": "gOkQmK0-1ZDB",
        "outputId": "c4f4162f-e848-420e-8240-db1ce5922755"
      },
      "source": [
        "# plotting bar graph for comparison\n",
        "train_accuracies = [score_mlp_train[1], score_cnn1_train[1], score_cnn2_train[1]]\n",
        "val_accuracies = [score_mlp_val[1], score_cnn1_val[1], score_cnn2_val[1]]\n",
        "\n",
        "models = ['mlp','cnn1','cnn2']\n",
        "X_axis = np.arange(len(models))\n",
        "  \n",
        "plt.bar(X_axis - 0.2, train_accuracies, 0.4, label = 'Train Accuracy')\n",
        "plt.bar(X_axis + 0.2, val_accuracies, 0.4, label = 'Validation Accuracy')\n",
        "  \n",
        "plt.xticks(X_axis, models)\n",
        "plt.xlabel(\"All Models\")\n",
        "plt.ylabel(\"Accuracies\")\n",
        "plt.title(\"Comparison of MLP and CNN models\")\n",
        "plt.legend()\n",
        "plt.show()"
      ],
      "execution_count": 75,
      "outputs": [
        {
          "output_type": "display_data",
          "data": {
            "image/png": "[encoded data removed]",
            "text/plain": [
              "<Figure size 432x288 with 1 Axes>"
            ]
          },
          "metadata": {
            "tags": [],
            "needs_background": "light"
          }
        }
      ]
    },
    {
      "cell_type": "markdown",
      "metadata": {
        "id": "y2Qwpe1wCcDB"
      },
      "source": [
        "From the graph above, we see that CNN1 performs the best.\n",
        "This is due to the fact that the model has a careful balance between its layers and the number of neurons and the general fact that CNNs perform well on large image datasets."
      ]
    },
    {
      "cell_type": "markdown",
      "metadata": {
        "id": "EklUEJ8O44Xj"
      },
      "source": [
        "**Recommendations**\n",
        "\n",
        "- **Add Early stopping**: This would ensure that the model doesn't overtrain in cases where improvement gains are minimal.\n",
        "- **Increase Training Data**: More data increases the robustness of our models.\n",
        "- **Different Activation Functions**: We could run further tests comparing activation functions and discover functions that provide more accuracies with our data.\n",
        "- **Dropout**: This involves randomly ignoring neurons during the training phase. This has the effect of reducing our chances of overfitting the model\n"
      ]
    }
  ]
}